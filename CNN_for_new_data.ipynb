{
  "nbformat": 4,
  "nbformat_minor": 0,
  "metadata": {
    "colab": {
      "name": "CNN-for-new-data.ipynb",
      "version": "0.3.2",
      "provenance": [],
      "collapsed_sections": [],
      "include_colab_link": true
    },
    "kernelspec": {
      "name": "python3",
      "display_name": "Python 3"
    },
    "accelerator": "GPU"
  },
  "cells": [
    {
      "cell_type": "markdown",
      "metadata": {
        "id": "view-in-github",
        "colab_type": "text"
      },
      "source": [
        "<a href=\"https://colab.research.google.com/github/hannape/CNN-second/blob/master/CNN_for_new_data.ipynb\" target=\"_parent\"><img src=\"https://colab.research.google.com/assets/colab-badge.svg\" alt=\"Open In Colab\"/></a>"
      ]
    },
    {
      "cell_type": "code",
      "metadata": {
        "id": "jUs78Pg157U2",
        "colab_type": "code",
        "colab": {}
      },
      "source": [
        "  # previous version, with hidden code and comments - cnn_scorer_not_working\n",
        "\n",
        "from google.colab import drive\n",
        "drive.mount('/content/drive')\n",
        "from __future__ import print_function\n"
      ],
      "execution_count": 0,
      "outputs": []
    },
    {
      "cell_type": "markdown",
      "metadata": {
        "id": "herZA5Ea37Dy",
        "colab_type": "text"
      },
      "source": [
        "**CNNy dla nowych danych:**\n",
        "\n",
        "* jako testowe mamy te co wcześniej nagrania (6 nagrań z 2016), podzielone na 0,5sek fragmenty, z overlapem 150 ms bodajże. Całe nagrania podzielone, więc bardzo mało próbek pozytywnych będzie. 2,2% z głosami (676 bezwzględnie), sumarycznie 30813 rekordów\n",
        "* jako trening - zbalansowany zbiór ~45 nagrań półgodzinnych. Nie jest idealnie 50:50, bo jeśli było w półgodzinnym nagraniu mniej niż 50 ramek z głosami (albo wcale), to i tak dokładałam 50 losowych ramek bez głosów (jest 45:55). Sumarycznie 17293 rekordów. \n",
        "* Na razie testowana reprezentacja 3 - mel spektrogram z pipeline'a birdvoxa - projektu o nocnych migrantach w hameryce. wygląda że działa?\n",
        "\n",
        "\n",
        "\n",
        "**Pytania:**\n",
        "* używam ważenia c_w = { 0:0.01, 1:0.99} - ma to sens? Karanie za 0, nagradzanie za 1\n",
        "* po 50 epokach, model niezmieniany względem prób sprzed pół roku, AUC wychodzi rzędu 94-97% - jak to?... I nie wychodzą same zera, wręcz przeciwnie. Jest tu jakiś błąd czy po prostu jakimś cudem to po prostu działa?\n",
        "* Chyba wartoby zrobić więcej danych testowych? Może jakieś inne? Na razie są te, by można było porównać z tym wszystkim co było robione poprzednio.\n",
        "\n",
        "\n"
      ]
    },
    {
      "cell_type": "code",
      "metadata": {
        "id": "8nqDVmwo7-41",
        "colab_type": "code",
        "outputId": "e42e1965-13f7-4f47-94f9-df873056506c",
        "colab": {
          "base_uri": "https://localhost:8080/",
          "height": 35
        }
      },
      "source": [
        "import keras\n",
        "import numpy\n",
        "from keras.models import Sequential\n",
        "from keras.layers import Dense, Dropout, Activation, Flatten\n",
        "from keras.layers import Conv2D, MaxPooling2D\n",
        "from keras.wrappers.scikit_learn import KerasClassifier\n",
        "from keras import backend as K\n",
        "from sklearn.model_selection import GridSearchCV\n",
        "from keras.layers import Flatten\n",
        "from keras.layers.convolutional import Conv2D\n",
        "from keras.layers.convolutional import MaxPooling2D\n",
        "from keras.utils import np_utils\n",
        "from sklearn.metrics import roc_curve\n",
        "from sklearn.metrics import roc_auc_score\n",
        "from matplotlib import pyplot\n",
        "from sklearn.utils import class_weight\n",
        "from sklearn.metrics import  make_scorer\n",
        "from sklearn.metrics import log_loss\n",
        "K.set_image_dim_ordering('th')\n",
        "import numpy as np\n",
        "from sklearn import preprocessing\n",
        "import glob\n",
        "import os\n",
        "import random\n",
        "import functools\n",
        "import pandas as pd\n",
        "from sklearn.model_selection import train_test_split\n",
        "import matplotlib.pyplot as plt"
      ],
      "execution_count": 2,
      "outputs": [
        {
          "output_type": "stream",
          "text": [
            "Using TensorFlow backend.\n"
          ],
          "name": "stderr"
        }
      ]
    },
    {
      "cell_type": "code",
      "metadata": {
        "id": "hYIkhwHg5LpP",
        "colab_type": "code",
        "cellView": "form",
        "colab": {}
      },
      "source": [
        "#@title\n",
        "source_repr = 'drive/My Drive/repr7/'\n",
        "folder = ['repr7_2016/','repr7_2017/', 'repr7_2018/' ]\n",
        "#X_train = numpy.load('drive/My Drive/X_train.npy')\n",
        "#os.listdir(\"drive/My Drive/repr7\")\n",
        "records = os.listdir(source_repr + folder)\n",
        "#for file in glob.glob(\"*.npz\"):\n",
        "#    print(file)\n",
        "#content/drive/My Drive/repr7/repr7_2017\n",
        "dane1 = np.load(source_repr + folder + records[2] )\n",
        "r3 = dane1['rep3'] # mel-spectrogram birdvox\n",
        "des = dane1['final_description']\n",
        "print(np.shape(r3))\n",
        "print((des[:,7]))\n",
        "print(np.size(records))\n",
        "print((records))\n",
        "\n"
      ],
      "execution_count": 0,
      "outputs": []
    },
    {
      "cell_type": "code",
      "metadata": {
        "id": "2RXBMehUCScF",
        "colab_type": "code",
        "cellView": "form",
        "colab": {}
      },
      "source": [
        "#@title\n",
        "source_repr = 'drive/My Drive/repr7/'\n",
        "folder = ['repr7_2017/', 'repr7_2018/', 'repr7_2016/' ]\n",
        "folder = folder[2]\n",
        "print(folder)\n",
        "records = os.listdir(source_repr + folder)\n",
        "test_set = ['BUK4_20160922_005604_7rep.npz','BUK4_20161008_004605_7rep.npz', 'BUK4_20161016_012704_7rep.npz','BUK4_20161016_035704_7rep.npz', 'BUK5_20161101_002104a_7rep.npz', 'BUK5_20161101_002104b_7rep.npz' ]\n",
        "train_set = [x for x in records if x not in test_set]\n",
        "\n",
        "print(type(records))\n",
        "print(type(test_set))\n",
        "print(np.shape(records))\n",
        "print(np.shape(test_set))\n",
        "#print(np.shape(l3))\n",
        "\n",
        "dane2 = np.load(source_repr + folder_main[2] + 'BUK5_20161101_002104a_7rep.npz', allow_pickle=True )\n",
        "print('Dostepne dane: ' + str(dane2.files))\n",
        "#dane2['final_description']\n",
        "des = dane2['final_description']\n",
        "print(type(dane2['spec']))\n",
        "print(np.shape(des[:,7]))\n",
        "print((dane2['spec']))\n",
        "print(np.zeros(shape=np.shape(dane2['spec'])))\n",
        "print(type(str(np.zeros(shape=np.shape(dane2['spec'])))))\n",
        "      \n",
        "#y_train_spec = np.concatenate(dane2['spec'],dane2['spec'])\n",
        "\n",
        "y_train_spec = np.concatenate((dane2['spec'],np.zeros(shape=np.shape(dane2['spec']))))\n",
        "print(y_train_spec)\n",
        "#print(np.zeros(shape=np.shape(dane2['spec'])))"
      ],
      "execution_count": 0,
      "outputs": []
    },
    {
      "cell_type": "code",
      "metadata": {
        "id": "7PKzziPv_NaP",
        "colab_type": "code",
        "colab": {},
        "cellView": "form"
      },
      "source": [
        "#@title\n",
        "## dane treningowe, wrzucanie jednego typu reprezenatacji do jednej macierzy\n",
        "\n",
        "min_chunks = 50\n",
        "source_repr = 'drive/My Drive/repr7/'\n",
        "folder_main = [ 'repr7_2018/', 'repr7_2017/', 'repr7_2016/' ]\n",
        "test_set = ['BUK4_20160922_005604','BUK4_20161008_004605', 'BUK4_20161016_012704','BUK4_20161016_035704', 'BUK5_20161101_002104a', 'BUK5_20161101_002104b' ]\n",
        "repr_to_check = ['rep4']#['rep1','rep3', 'rep4', 'rep5'] #\n",
        "\n",
        "for k in range(0, np.size(repr_to_check)):\n",
        "  \n",
        "  repr_nr = repr_to_check[k]\n",
        "  print('-----------'+repr_nr+'-----------')\n",
        "  \n",
        "  # pierwsze dane, by mieć kształt macierzy i kolejno wcztywać następne\n",
        "  records = os.listdir(source_repr + folder_main[0])\n",
        "  dane1 = np.load(source_repr + folder_main[0] + records[0],allow_pickle=True )\n",
        "  X_train= dane1[repr_nr]\n",
        "  \n",
        "  des = dane1['final_description']\n",
        "  hasbird = des[:,7]\n",
        "  y_train = hasbird\n",
        "  #y_train_species = dane1['spec']\n",
        "  if np.shape(dane1['spec'])[0]> min_chunks:\n",
        "    y_train_species = np.concatenate((dane1['spec'],np.zeros(shape=np.shape(dane1['spec']))))\n",
        "        \n",
        "  else:\n",
        "    y_train_species = np.concatenate((dane1['spec'],np.zeros(shape=(50,))))\n",
        "  \n",
        "  for j in range (0,np.size(folder_main)): # folder z latami\n",
        "\n",
        "    folder = folder_main[j]\n",
        "    print(folder)\n",
        "    print(source_repr + folder)\n",
        "    records = os.listdir(source_repr + folder)\n",
        "    \n",
        "    if j==2:\n",
        "      records = [x for x in records if x not in test_set]\n",
        "      print('2016!!!!!')\n",
        "\n",
        "    #print(np.shape(records))\n",
        "\n",
        "    for i in range (1,np.size(records)):  # nagrania w danym roku\n",
        "      dane1 = np.load(source_repr + folder + records[i], allow_pickle=True )\n",
        "      r3 = dane1[repr_nr]\n",
        "      X_train = np.concatenate((X_train,r3))\n",
        "      print(records[i])\n",
        "\n",
        "      ## labels\n",
        "      des = dane1['final_description']\n",
        "      hasbird = des[:,7]\n",
        "      y_train = np.concatenate((y_train,hasbird))\n",
        "      if np.shape(dane1['spec'])[0]> min_chunks:\n",
        "        species_rec = np.concatenate((dane1['spec'],np.zeros(shape=np.shape(dane1['spec']))))\n",
        "        \n",
        "      else:\n",
        "        species_rec = np.concatenate((dane1['spec'],np.zeros(shape=(50,))))\n",
        "      y_train_species = np.concatenate((y_train_species,species_rec))  \n",
        "        \n",
        "      #print(np.shape(y_train))\n",
        "      #print(np.shape(y_train_species))\n",
        "      #B_df = pd.read_csv('drive/My Drive/labele/labele_train/'+ nazwa_label)\n",
        "      #y_train= np.concatenate((y_train,B_df.hasbird[0:500]))\n",
        "\n",
        "  print(np.shape(X_train))\n",
        "  print(np.shape(y_train))\n",
        "  print(np.shape(y_train_species))\n",
        "  np.save(('drive/My Drive/repr7/X_train_' + repr_nr), X_train)\n",
        "  \n",
        "np.save(('drive/My Drive/repr7/y_train' ), y_train)\n",
        "np.save(('drive/My Drive/repr7/y_train_species'), y_train_species)\n",
        "#print(np.size(y_train))"
      ],
      "execution_count": 0,
      "outputs": []
    },
    {
      "cell_type": "code",
      "metadata": {
        "id": "R3v3--liq4g-",
        "colab_type": "code",
        "colab": {},
        "cellView": "form"
      },
      "source": [
        "#@title\n",
        "## dla danych testowych - było zrobione na ddrugim dysku, bo tam dane. \n",
        "## Dla testowych dużo większe, bo są całe nagrania\n",
        "\n",
        "#min_chunks = 50\n",
        "source_repr = 'drive/My Drive/'\n",
        "folder_main = [ 'repr7_2016/' ]\n",
        "test_set = ['BUK4_20160922_005604_7rep.npz','BUK4_20161008_004605_7rep.npz', 'BUK4_20161016_012704_7rep.npz','BUK4_20161016_035704_7rep.npz', 'BUK5_20161101_002104a_7rep.npz', 'BUK5_20161101_002104b_7rep.npz' ]\n",
        "repr_to_check = ['rep1'] #,'rep3', 'rep4', 'rep5'] #\n",
        "\n",
        "for k in range(0, np.size(repr_to_check)):\n",
        "  \n",
        "  repr_nr = repr_to_check[k]\n",
        "  print('-----------'+repr_nr+'-----------')\n",
        "  \n",
        "  # pierwsze dane, by mieć kształt macierzy i kolejno wcztywać następne\n",
        "  records = os.listdir(source_repr + folder_main[0])\n",
        "  records = [x for x in records if x in test_set]\n",
        "\n",
        "  dane1 = np.load(source_repr + folder_main[0] + records[0],allow_pickle=True )\n",
        "  X_test= dane1[repr_nr]\n",
        "  y_test = dane1['hasbird']\n",
        "  y_test_species = dane1['species'] \n",
        "  print(records[0])\n",
        "  print(np.shape(X_test))\n",
        "  print(np.shape(y_test))\n",
        "  print(np.shape(y_test_species))\n",
        "  print(np.shape(dane1['species']))\n",
        "  print('Dostepne dane: ' + str(dane1.files))\n",
        "  \n",
        "  for i in range (1,np.size(records)):\n",
        "    print(records[i])\n",
        "    dane1 = np.load(source_repr + folder_main[0] + records[i], allow_pickle=True )\n",
        "    X_test = np.concatenate((X_test,dane1[repr_nr]))\n",
        "    y_test = np.concatenate((y_test,dane1['hasbird']))\n",
        "    #print(np.shape(y_test_species))\n",
        "    \n",
        "    print(np.shape(X_test))\n",
        "    print(np.shape(y_test))\n",
        "    a = dane1['species']\n",
        "    print(len(a.shape))\n",
        "    if (len(a.shape)==2):  # jeśli dwa wymiary\n",
        "       a = np.squeeze(dane1['species'])  # to squeezujemy\n",
        "  \n",
        "    y_test_species = np.concatenate((y_test_species,a )) \n",
        "    print(np.shape(y_test_species))\n",
        "  \n",
        "  \n",
        "  print(np.shape(X_test))\n",
        "  print(np.shape(y_test))\n",
        "  print(np.shape(y_test_species))\n",
        "  np.save(('drive/My Drive/X_test_' + repr_nr), X_test)\n",
        "  \n",
        "np.save(('drive/My Drive/y_test' ), y_test)\n",
        "np.save(('drive/My Drive/y_test_species'), y_test_species)"
      ],
      "execution_count": 0,
      "outputs": []
    },
    {
      "cell_type": "code",
      "metadata": {
        "id": "yoTmkRPI4vwX",
        "colab_type": "code",
        "colab": {
          "base_uri": "https://localhost:8080/",
          "height": 250
        },
        "outputId": "b80371d4-1eca-4d93-9f38-80a185262366"
      },
      "source": [
        "from numpy.random import seed\n",
        "seed(667)\n",
        "from tensorflow import set_random_seed\n",
        "set_random_seed(667)\n",
        "import random\n",
        "random.seed()\n",
        "\n",
        "## Reprezentacja 3 na razie sprawdzana  - czyli mel-spektrogram z birdvoxa, z zawężonym zakresem częstotliwości\n",
        "\n",
        "X_train1 = numpy.load('drive/My Drive/repr7/X_train_rep3.npy', allow_pickle=True)\n",
        "y_train1 = numpy.load('drive/My Drive/repr7/y_train.npy', allow_pickle=True)\n",
        "X_test1 = numpy.load('drive/My Drive/repr7/X_test_rep3.npy', allow_pickle=True)\n",
        "y_test1 = numpy.load('drive/My Drive/repr7/y_test.npy', allow_pickle=True)\n",
        "X_train, X_val, y_train, y_val = train_test_split(X_train1, y_train1, test_size=0.2, random_state=667)\n",
        "exemp = 4# exemplary frame\n",
        "plt.imshow(X_val[exemp], cmap=\"jet\")\n",
        "print(y_val[exemp])\n",
        "r = np.shape(X_val)[1]\n",
        "s = np.shape(X_val)[2]\n",
        "\n",
        "X_train = X_train.reshape(X_train.shape[0], 1, r, s).astype('float32')\n",
        "X_val = X_val.reshape(X_val.shape[0], 1, r, s).astype('float32')\n",
        "X_test = X_test1.reshape(X_test1.shape[0], 1, r, s).astype('float32')\n",
        "y_test = np.squeeze(y_test1)\n",
        "input_shape = (1, r, s)\n"
      ],
      "execution_count": 37,
      "outputs": [
        {
          "output_type": "stream",
          "text": [
            "1\n"
          ],
          "name": "stdout"
        },
        {
          "output_type": "display_data",
          "data": {
            "image/png": "[encoded data removed]",
            "text/plain": [
              "<Figure size 432x288 with 1 Axes>"
            ]
          },
          "metadata": {
            "tags": []
          }
        }
      ]
    },
    {
      "cell_type": "code",
      "metadata": {
        "id": "gZo5otOXYI7A",
        "colab_type": "code",
        "colab": {},
        "cellView": "form"
      },
      "source": [
        "#@title\n",
        "print(np.shape(X_val)[2])\n",
        "print(np.shape(X_val))\n",
        "print(X_train.shape[0])\n",
        "print(np.shape(y_test))"
      ],
      "execution_count": 0,
      "outputs": []
    },
    {
      "cell_type": "code",
      "metadata": {
        "id": "uxfVfVdo4t1U",
        "colab_type": "code",
        "colab": {},
        "cellView": "form"
      },
      "source": [
        "#@title\n",
        "print(sum(y_train1))\n",
        "print(np.shape(y_train1))\n",
        "print(sum(y_train1/np.shape(y_train1)[0]))\n",
        "\n",
        "print(sum(y_test))\n",
        "print(np.shape(y_test))\n",
        "print(sum(y_test/np.shape(y_test)[0]))"
      ],
      "execution_count": 0,
      "outputs": []
    },
    {
      "cell_type": "code",
      "metadata": {
        "id": "JRuF2NCTYCKw",
        "colab_type": "code",
        "colab": {},
        "cellView": "form"
      },
      "source": [
        "#@title\n",
        "print(np.shape(X_val[2]))\n",
        "print (X_train.shape, y_train.shape)\n",
        "print (X_test.shape, y_test.shape)\n",
        "print(np.squeeze(y_test))\n"
      ],
      "execution_count": 0,
      "outputs": []
    },
    {
      "cell_type": "code",
      "metadata": {
        "id": "VKGfhskBZVkD",
        "colab_type": "code",
        "colab": {}
      },
      "source": [
        "c_w = { 0:0.01, 1:0.99}# { 0:0.02, 1:0.98}  # tak było, jeśli w trening wrzucamy całe nagranie. teraz mamy zbalansowany zbiór\n",
        "index = ['r%d' % x for x in range(len(y_train))]\n",
        "a = [c_w[class_label] for class_label in y_train]\n",
        "sample_weight_frame = pd.DataFrame(a, index = index)\n",
        "score_params = {\"sample_weight\": sample_weight_frame}\n",
        "#print(sample_weight_frame[0:5])\n"
      ],
      "execution_count": 0,
      "outputs": []
    },
    {
      "cell_type": "code",
      "metadata": {
        "id": "yFE3UDjTMJ9x",
        "colab_type": "code",
        "colab": {}
      },
      "source": [
        "# https://github.com/keras-team/keras/issues/2115\n",
        "\n",
        "### SCORERS\n",
        "import tensorflow as tf\n",
        "import functools\n",
        "from functools import partial, update_wrapper\n",
        "\n",
        "def my_score(y_true, y_pred, sample_weight): \n",
        "  return log_loss(y_true.values, y_pred, sample_weight=sample_weight.loc[y_true.index.values].values.reshape(-1), normalize=True)\n",
        "\n",
        "def wrapped_partial(func, *args, **kwargs):\n",
        "\tpartial_func = partial(func, *args, **kwargs)\n",
        "\tupdate_wrapper(partial_func, func)\n",
        "\treturn partial_func\n",
        "\n",
        "def binary_crossentropy_weigted(y_true, y_pred, class_weights):\n",
        "\ty_pred = K.clip(y_pred, K.epsilon(), 1.0 - K.epsilon())\n",
        "\tloss = K.mean(class_weights*(-y_true * K.log(y_pred) - (1.0 - y_true) * K.log(1.0 - y_pred)),axis=-1)\n",
        "\treturn loss\n",
        "\n",
        "my_scorer = make_scorer(my_score,greater_is_better=False, needs_threshold=False,**score_params)  ## scoring for gridsearchCV\n",
        "custom_loss = wrapped_partial(binary_crossentropy_weigted, class_weights=np.array([0.02, 0.98])) ## scoring for model.compile\n",
        "\n",
        "\n",
        "## AUC METRIC\n",
        "def as_keras_metric(method):\n",
        "    import functools\n",
        "    from keras import backend as K\n",
        "    \n",
        "    @functools.wraps(method)\n",
        "    def wrapper(self, args, **kwargs):\n",
        "        \"\"\" Wrapper for turning tensorflow metrics into keras metrics \"\"\"\n",
        "        value, update_op = method(self, args, **kwargs)\n",
        "        K.get_session().run(tf.local_variables_initializer())\n",
        "        with tf.control_dependencies([update_op]):\n",
        "            value = tf.identity(value)\n",
        "        return value\n",
        "    return wrapper\n",
        "  \n",
        "auc_roc = as_keras_metric(tf.metrics.auc)\n"
      ],
      "execution_count": 0,
      "outputs": []
    },
    {
      "cell_type": "markdown",
      "metadata": {
        "id": "5VoHqo92-BG1",
        "colab_type": "text"
      },
      "source": [
        "**BUILDING THE MODEL**"
      ]
    },
    {
      "cell_type": "code",
      "metadata": {
        "id": "pDsoy0g8VlB5",
        "colab_type": "code",
        "colab": {}
      },
      "source": [
        "def make_model_modified(): #(dense_layer_sizes,filters, kernel_size,pool_size,lr, drop_out):\n",
        "  \n",
        "    dense_layer_sizes=128\n",
        "    filters=10\n",
        "    kernel_size=(3,3) #(3,3)\n",
        "    pool_size= (2,2) \n",
        "    lr=0.0001 \n",
        "    drop_out = 0.5\n",
        "        \n",
        "    model = Sequential()\n",
        "    model.add(Conv2D(filters, kernel_size,input_shape=input_shape, activation='relu'))\n",
        "   # model.add(Conv2D(16, (3, 3), input_shape=input_shape ))\n",
        "\n",
        "    model.add(MaxPooling2D(pool_size=pool_size))\n",
        "    model.add(Conv2D(filters, kernel_size, activation='relu'))\n",
        "    model.add(MaxPooling2D(pool_size=pool_size))\n",
        "    model.add(Conv2D(filters, kernel_size, activation='relu'))\n",
        "    model.add(MaxPooling2D(pool_size=pool_size))\n",
        "    \n",
        "    \n",
        "    model.add(Flatten())\n",
        "    model.add(Dense(dense_layer_sizes, activation='relu'))\n",
        "    model.add(Dropout(drop_out))\n",
        "    model.add(Dense(32, activation='relu'))\n",
        "    model.add(Dropout(drop_out))\n",
        "    model.add(Dense(1, activation='sigmoid'))\n",
        "    \n",
        "    model.compile(loss=custom_loss,#'binary_crossentropy',#loss_2_args(y_true, y_pred)'',#loss='binary_crossentropy'\n",
        "                  # co tu powinno wejść? o samo co do scoring w GridSearchCv? chyba nie: https://stackoverflow.com/questions/40572743/scikit-learn-grid-search-own-scoring-object-syntax\n",
        "                  # my_score2(sample_weight = sample_weight_frame), <------------------- nie umiem zrobić by działał tutaj. Która funkcja? my_score czy my_scorer ?\n",
        "                  # my_score2(sample_weight_frame) ---->  https://stackoverflow.com/questions/46858016/keras-custom-loss-function-to-pass-arguments-other-than-y-true-and-y-pred\n",
        "                  # my_loss ---------------------------->też nie chodzi a chyba powinien, coś z formatem nie tak.  ERROR: 'Tensor' object has no attribute 'values'\n",
        "                  # inne źródło: https://github.com/keras-team/keras/issues/2115\n",
        "                  optimizer='adam',#keras.optimizers.Adam(lr),#'adam',\n",
        "                  metrics=['accuracy',auc_roc])\n",
        "\n",
        "    return model"
      ],
      "execution_count": 0,
      "outputs": []
    },
    {
      "cell_type": "markdown",
      "metadata": {
        "id": "9_eTsmytevw4",
        "colab_type": "text"
      },
      "source": [
        "**UKKYBIRDDET MODEL** // not here\n"
      ]
    },
    {
      "cell_type": "code",
      "metadata": {
        "id": "rOiizOoMetzF",
        "colab_type": "code",
        "colab": {},
        "cellView": "form"
      },
      "source": [
        "#@title\n",
        "#input_shape = (60, 87, 1)\n",
        "from keras.layers import BatchNormalization, LeakyReLU\n",
        "from keras.regularizers import l2\n",
        "\n",
        "def make_model_ukybirddet():\n",
        "    model = Sequential()\n",
        "    # augmentation generator\n",
        "    # code from baseline : \"augment:Rotation|augment:Shift(low=-1,high=1,axis=3)\"\n",
        "    # keras augmentation:\n",
        "    #preprocessing_function\n",
        "\n",
        "    # convolution layers\n",
        "    model.add(Conv2D(16, (3, 3), padding='valid', input_shape= input_shape ))\n",
        "    model.add(BatchNormalization())  # explore order of Batchnorm and activation\n",
        "    model.add(LeakyReLU(alpha=.001))\n",
        "    model.add(MaxPooling2D(pool_size=(3, 3)))  # experiment with using smaller pooling along frequency axis\n",
        "    model.add(Conv2D(16, (3, 3), padding='valid'))\n",
        "    model.add(BatchNormalization())\n",
        "    model.add(LeakyReLU(alpha=.001))\n",
        "    model.add(MaxPooling2D(pool_size=(3, 3)))\n",
        "    model.add(Conv2D(16, (3, 3), padding='valid'))\n",
        "    model.add(BatchNormalization())\n",
        "    model.add(LeakyReLU(alpha=.001))\n",
        "    model.add(MaxPooling2D(pool_size=(3, 1)))\n",
        "    #model.add(Conv2D(16, (3, 3), padding='valid', kernel_regularizer=l2(0.01)))  # drfault 0.01. Try 0.001 and 0.001\n",
        "    #model.add(BatchNormalization())\n",
        "    #model.add(LeakyReLU(alpha=.001))\n",
        "    #model.add(MaxPooling2D(pool_size=(3, 1)))\n",
        "\n",
        "    # dense layers\n",
        "    model.add(Flatten())\n",
        "    model.add(Dropout(0.5))\n",
        "    model.add(Dense(256))\n",
        "    model.add(BatchNormalization())\n",
        "    model.add(LeakyReLU(alpha=.001))\n",
        "    model.add(Dropout(0.5))\n",
        "    model.add(Dense(32))\n",
        "    model.add(BatchNormalization())\n",
        "    model.add(LeakyReLU(alpha=.001))  # leaky relu value is very small experiment with bigger ones\n",
        "    model.add(Dropout(0.5))  # experiment with removing this dropout\n",
        "    model.add(Dense(1, activation='sigmoid'))\n",
        "    \n",
        "    adam = keras.optimizers.Adam(lr=0.001, beta_1=0.9, beta_2=0.999, epsilon=None, decay=0.0)\n",
        "    model.compile(optimizer=adam, loss='binary_crossentropy', metrics=['acc'])\n",
        "\n",
        "    # prepare callback\n",
        "    #histories = my_callbacks.Histories()\n",
        "    \n",
        "    model.summary()  \n",
        "    \n",
        "    return model\n",
        "  \n"
      ],
      "execution_count": 0,
      "outputs": []
    },
    {
      "cell_type": "markdown",
      "metadata": {
        "id": "59IhKe5b95g-",
        "colab_type": "text"
      },
      "source": [
        "**GRID SEARCH** // none here\n",
        "\n"
      ]
    },
    {
      "cell_type": "code",
      "metadata": {
        "id": "7YQJvxfSN1Iy",
        "colab_type": "code",
        "cellView": "form",
        "colab": {}
      },
      "source": [
        "#@title\n",
        "my_classifier = KerasClassifier(make_model_modified)\n",
        "validator = GridSearchCV(my_classifier,\n",
        "                         param_grid={'dense_layer_sizes': [128],\n",
        "                                     # epochs is avail for tuning even when not\n",
        "                                     # an argument to model building function\n",
        "                                     'epochs': [100], #[10,20,30],\n",
        "                                     'filters': [10],\n",
        "                                     'kernel_size': [(3,3)],\n",
        "                                     'pool_size': [(2,2)],\n",
        "                                     # 'class_weight': [{ 0:0.02, 1:0.98}],  <------------------------------- może w ten sposób? Ale t też tylko w grid searchu\n",
        "                                     'batch_size': [32], \n",
        "                                     'drop_out':[0.5],#[0.2,0.5],\n",
        "                                     'lr': [0.001]}, #[0.01,0.001,0.0001]},\n",
        "                         scoring=my_scorer, n_jobs=1, refit=True, cv = 3)  ## SCORING ZMIENIONY na my_scorer (inne, np: 'roc_auc')\n",
        "\n",
        "##https://stackoverflow.com/questions/49581104/sklearn-gridsearchcv-not-using-sample-weight-in-score-function"
      ],
      "execution_count": 0,
      "outputs": []
    },
    {
      "cell_type": "markdown",
      "metadata": {
        "id": "4-qM-uurO5TP",
        "colab_type": "text"
      },
      "source": [
        "**CALLBACKS** // costamcostam\n"
      ]
    },
    {
      "cell_type": "code",
      "metadata": {
        "id": "mLm9knT-1OjH",
        "colab_type": "code",
        "cellView": "form",
        "colab": {}
      },
      "source": [
        "#@title\n",
        "from IPython.display import clear_output\n",
        "class PlotLosses(keras.callbacks.Callback):\n",
        "    def on_train_begin(self, logs={}):\n",
        "        self.i = 0\n",
        "        self.x = []\n",
        "        self.losses = []\n",
        "        self.losses_val = []\n",
        "        self.auc = []\n",
        "        self.auc_val = []\n",
        "        self.acc = []\n",
        "        self.acc_val = []\n",
        "        \n",
        "        self.fig = plt.figure()        \n",
        "        self.logs = []\n",
        "        \n",
        "        \n",
        "    def on_epoch_begin(self, epoch, logs={}):\n",
        "\t\t    clear_output(wait=True);\n",
        "\n",
        "    def on_epoch_end(self, epoch, logs={}):\n",
        "        \n",
        "        self.logs.append(logs)\n",
        "        self.x.append(self.i)\n",
        "        self.losses.append(logs.get('loss'))\n",
        "        self.losses_val.append(logs.get('val_loss'))\n",
        "        self.auc.append(logs.get('auc'))\n",
        "        self.i += 1\n",
        "        plt.subplot(1, 2, 1)\n",
        "        plt.plot(self.x, self.losses, label=\"loss\")\n",
        "        plt.plot(self.x, self.losses_val, label=\"val_loss\")\n",
        "        plt.legend()\n",
        "        \n",
        "        plt.subplot(1, 2, 2)\n",
        "        plt.plot(self.x, self.auc, label=\"auc\")\n",
        "        #plt.plot(self.x, self.auc_val, label=\"val_auc\")\n",
        "        print(self.x, self.auc)\n",
        "        print(self.x, self.auc_val)\n",
        "        plt.legend()\n",
        "        \n",
        "        #plt.subplot(1, 3, 3)  # nie działa :()\n",
        "        #plt.plot(self.x, self.acc, label=\"acc\")\n",
        "        #plt.plot(self.x, self.acc_val, label=\"val_acc\")\n",
        "        #plt.legend()\n",
        "        \n",
        "        plt.show()\n",
        "      \n",
        "        \n",
        "plot_losses = PlotLosses()\n",
        "\n",
        "class Histories(keras.callbacks.Callback):\n",
        "\tdef on_train_begin(self, logs={}):\n",
        "\t\tself.aucs = []\n",
        "\t\tself.losses = []\n",
        "\n",
        "\tdef on_train_end(self, logs={}):\n",
        "\t\treturn\n",
        "\n",
        "\tdef on_epoch_begin(self, epoch, logs={}):\n",
        "\t\treturn\n",
        "\n",
        "\tdef on_epoch_end(self, epoch, logs={}):\n",
        "\t\tself.losses.append(logs.get('loss'))\n",
        "\t\ty_pred = self.model.predict(self.validation_data[0])\n",
        "\t\tself.aucs.append(roc_auc_score(self.validation_data[1], y_pred))\n",
        "\t\ta = (roc_auc_score(self.validation_data[1], y_pred))\n",
        "\t\t#print(\" AUC_on_val: %f \" % a)\n",
        "\t\treturn\n",
        "\n",
        "\tdef on_batch_begin(self, batch, logs={}):\n",
        "\t\treturn\n",
        "\n",
        "\tdef on_batch_end(self, batch, logs={}):    return\n",
        "  \n",
        "histories = Histories()"
      ],
      "execution_count": 0,
      "outputs": []
    },
    {
      "cell_type": "code",
      "metadata": {
        "id": "qC9TynBWTR0E",
        "colab_type": "code",
        "outputId": "fcdd65a7-ed80-449f-9bac-4f3f7ef0670e",
        "colab": {
          "base_uri": "https://localhost:8080/",
          "height": 2345
        }
      },
      "source": [
        "# dense_layer_sizes,filters, kernel_size,pool_size,lr, drop_out)\n",
        "#my_classifier2 = KerasClassifier(make_model_modified(128,10,(3,3),(2,2),0.001,0.5))\n",
        "\n",
        "#################################\n",
        "\n",
        "repr_nr = '_rep3_'  \n",
        "my_model = make_model_modified() #make_model_ukybirddet()\n",
        "\n",
        "#################################\n",
        "from keras.callbacks import EarlyStopping\n",
        "from keras.callbacks import LearningRateScheduler, CSVLogger\n",
        "import math\n",
        "import datetime\n",
        "now = datetime.datetime.now()\n",
        "start_time = str(now.year)+str('-')+str(now.month)+str('-')+str(now.day)+str('_')+str(now.hour+2)+str(':')+str(now.minute)\n",
        "\n",
        "'''\n",
        "def step_decay(epoch):\n",
        "\tinitial_lrate = 0.001\n",
        "\tdrop = 0.1\n",
        "\tepochs_drop = 30.0\n",
        "\tlrate = initial_lrate * math.pow(drop, math.floor((1+epoch)/epochs_drop))\n",
        "\t#print(lrate)\n",
        "\treturn lrate\n",
        "\n",
        "keras.callbacks.CSVLogger('', separator=',', append=False)\n",
        "\n",
        "lrate = LearningRateScheduler(step_decay)\n",
        "csv_logger = CSVLogger('drive/My Drive/przebiegi/training_150e_001_01_co30_3.log')\n",
        "#es = EarlyStopping(monitor='val_loss', min_delta=0.001, patience=30, mode='max', baseline=None, restore_best_weights=True)\n",
        "'''\n",
        "\n",
        "y_frame = pd.DataFrame(y_train, index=index)\n",
        "\n",
        "grid_result = my_model.fit(X_train, y_frame, batch_size = 32, epochs=50,validation_data=(X_val, y_val), verbose = 2) #, class_weight = c_w)\n",
        "\n",
        "\n",
        "#grid_result = my_model.fit(X_train, y_frame, batch_size = 32, callbacks=[plot_losses, csv_logger, lrate, histories], epochs=150,validation_data=(X_val, y_val), verbose = 2) #, class_weight = c_w)\n",
        "# [es, plot_losses, lrate, csv_logger, histories]\n",
        "#my_model.save(('flmdl'+ repr_nr + start_time + '.h5'))\n",
        "#print('Training done. The results are in : ')\n",
        "\n"
      ],
      "execution_count": 10,
      "outputs": [
        {
          "output_type": "stream",
          "text": [
            "WARNING: Logging before flag parsing goes to stderr.\n",
            "W0619 13:07:45.243265 140645688330112 deprecation_wrapper.py:119] From /usr/local/lib/python3.6/dist-packages/keras/backend/tensorflow_backend.py:74: The name tf.get_default_graph is deprecated. Please use tf.compat.v1.get_default_graph instead.\n",
            "\n",
            "W0619 13:07:45.252362 140645688330112 deprecation_wrapper.py:119] From /usr/local/lib/python3.6/dist-packages/keras/backend/tensorflow_backend.py:517: The name tf.placeholder is deprecated. Please use tf.compat.v1.placeholder instead.\n",
            "\n",
            "W0619 13:07:45.267588 140645688330112 deprecation_wrapper.py:119] From /usr/local/lib/python3.6/dist-packages/keras/backend/tensorflow_backend.py:4138: The name tf.random_uniform is deprecated. Please use tf.random.uniform instead.\n",
            "\n",
            "W0619 13:07:45.282097 140645688330112 deprecation_wrapper.py:119] From /usr/local/lib/python3.6/dist-packages/keras/backend/tensorflow_backend.py:174: The name tf.get_default_session is deprecated. Please use tf.compat.v1.get_default_session instead.\n",
            "\n",
            "W0619 13:07:45.282915 140645688330112 deprecation_wrapper.py:119] From /usr/local/lib/python3.6/dist-packages/keras/backend/tensorflow_backend.py:181: The name tf.ConfigProto is deprecated. Please use tf.compat.v1.ConfigProto instead.\n",
            "\n",
            "W0619 13:07:48.044275 140645688330112 deprecation_wrapper.py:119] From /usr/local/lib/python3.6/dist-packages/keras/backend/tensorflow_backend.py:3976: The name tf.nn.max_pool is deprecated. Please use tf.nn.max_pool2d instead.\n",
            "\n",
            "W0619 13:07:48.115877 140645688330112 deprecation.py:506] From /usr/local/lib/python3.6/dist-packages/keras/backend/tensorflow_backend.py:3445: calling dropout (from tensorflow.python.ops.nn_ops) with keep_prob is deprecated and will be removed in a future version.\n",
            "Instructions for updating:\n",
            "Please use `rate` instead of `keep_prob`. Rate should be set to `rate = 1 - keep_prob`.\n",
            "W0619 13:07:48.178296 140645688330112 deprecation_wrapper.py:119] From /usr/local/lib/python3.6/dist-packages/keras/optimizers.py:790: The name tf.train.Optimizer is deprecated. Please use tf.compat.v1.train.Optimizer instead.\n",
            "\n",
            "W0619 13:07:48.287549 140645688330112 deprecation.py:323] From /usr/local/lib/python3.6/dist-packages/tensorflow/python/ops/metrics_impl.py:809: div (from tensorflow.python.ops.math_ops) is deprecated and will be removed in a future version.\n",
            "Instructions for updating:\n",
            "Deprecated in favor of operator or tf.math.divide.\n",
            "W0619 13:07:48.518764 140645688330112 deprecation.py:323] From /usr/local/lib/python3.6/dist-packages/tensorflow/python/ops/math_grad.py:1250: add_dispatch_support.<locals>.wrapper (from tensorflow.python.ops.array_ops) is deprecated and will be removed in a future version.\n",
            "Instructions for updating:\n",
            "Use tf.where in 2.0, which has the same broadcast rule as np.where\n"
          ],
          "name": "stderr"
        },
        {
          "output_type": "stream",
          "text": [
            "Train on 13834 samples, validate on 3459 samples\n",
            "Epoch 1/50\n",
            " - 7s - loss: 0.3242 - acc: 0.7072 - auc: 0.6056 - val_loss: 0.1956 - val_acc: 0.8442 - val_auc: 0.7673\n",
            "Epoch 2/50\n",
            " - 3s - loss: 0.1909 - acc: 0.8498 - auc: 0.8149 - val_loss: 0.1651 - val_acc: 0.8740 - val_auc: 0.8442\n",
            "Epoch 3/50\n",
            " - 3s - loss: 0.1637 - acc: 0.8774 - auc: 0.8622 - val_loss: 0.1600 - val_acc: 0.8731 - val_auc: 0.8745\n",
            "Epoch 4/50\n",
            " - 3s - loss: 0.1524 - acc: 0.8861 - auc: 0.8834 - val_loss: 0.1549 - val_acc: 0.8780 - val_auc: 0.8902\n",
            "Epoch 5/50\n",
            " - 3s - loss: 0.1480 - acc: 0.8879 - auc: 0.8955 - val_loss: 0.1376 - val_acc: 0.9000 - val_auc: 0.9000\n",
            "Epoch 6/50\n",
            " - 3s - loss: 0.1414 - acc: 0.8948 - auc: 0.9041 - val_loss: 0.1499 - val_acc: 0.8925 - val_auc: 0.9072\n",
            "Epoch 7/50\n",
            " - 3s - loss: 0.1320 - acc: 0.9057 - auc: 0.9101 - val_loss: 0.1331 - val_acc: 0.9063 - val_auc: 0.9131\n",
            "Epoch 8/50\n",
            " - 3s - loss: 0.1301 - acc: 0.9032 - auc: 0.9157 - val_loss: 0.1354 - val_acc: 0.8991 - val_auc: 0.9177\n",
            "Epoch 9/50\n",
            " - 3s - loss: 0.1325 - acc: 0.9025 - auc: 0.9195 - val_loss: 0.1387 - val_acc: 0.8991 - val_auc: 0.9209\n",
            "Epoch 10/50\n",
            " - 3s - loss: 0.1212 - acc: 0.9145 - auc: 0.9225 - val_loss: 0.1300 - val_acc: 0.9075 - val_auc: 0.9242\n",
            "Epoch 11/50\n",
            " - 3s - loss: 0.1203 - acc: 0.9133 - auc: 0.9257 - val_loss: 0.1333 - val_acc: 0.9078 - val_auc: 0.9270\n",
            "Epoch 12/50\n",
            " - 3s - loss: 0.1204 - acc: 0.9128 - auc: 0.9281 - val_loss: 0.1348 - val_acc: 0.9084 - val_auc: 0.9292\n",
            "Epoch 13/50\n",
            " - 3s - loss: 0.1105 - acc: 0.9211 - auc: 0.9305 - val_loss: 0.1309 - val_acc: 0.9170 - val_auc: 0.9316\n",
            "Epoch 14/50\n",
            " - 3s - loss: 0.1106 - acc: 0.9229 - auc: 0.9327 - val_loss: 0.1324 - val_acc: 0.9150 - val_auc: 0.9336\n",
            "Epoch 15/50\n",
            " - 3s - loss: 0.1074 - acc: 0.9211 - auc: 0.9346 - val_loss: 0.1289 - val_acc: 0.9150 - val_auc: 0.9356\n",
            "Epoch 16/50\n",
            " - 3s - loss: 0.1024 - acc: 0.9271 - auc: 0.9365 - val_loss: 0.1307 - val_acc: 0.9101 - val_auc: 0.9374\n",
            "Epoch 17/50\n",
            " - 3s - loss: 0.1014 - acc: 0.9298 - auc: 0.9383 - val_loss: 0.1298 - val_acc: 0.9127 - val_auc: 0.9391\n",
            "Epoch 18/50\n",
            " - 3s - loss: 0.1015 - acc: 0.9276 - auc: 0.9399 - val_loss: 0.1359 - val_acc: 0.9136 - val_auc: 0.9406\n",
            "Epoch 19/50\n",
            " - 3s - loss: 0.0932 - acc: 0.9336 - auc: 0.9414 - val_loss: 0.1370 - val_acc: 0.9058 - val_auc: 0.9421\n",
            "Epoch 20/50\n",
            " - 3s - loss: 0.0911 - acc: 0.9388 - auc: 0.9429 - val_loss: 0.1301 - val_acc: 0.9156 - val_auc: 0.9436\n",
            "Epoch 21/50\n",
            " - 3s - loss: 0.0899 - acc: 0.9384 - auc: 0.9443 - val_loss: 0.1440 - val_acc: 0.9060 - val_auc: 0.9449\n",
            "Epoch 22/50\n",
            " - 3s - loss: 0.0828 - acc: 0.9419 - auc: 0.9457 - val_loss: 0.1412 - val_acc: 0.9049 - val_auc: 0.9463\n",
            "Epoch 23/50\n",
            " - 3s - loss: 0.0865 - acc: 0.9395 - auc: 0.9469 - val_loss: 0.1350 - val_acc: 0.9179 - val_auc: 0.9475\n",
            "Epoch 24/50\n",
            " - 3s - loss: 0.0810 - acc: 0.9434 - auc: 0.9482 - val_loss: 0.1383 - val_acc: 0.9124 - val_auc: 0.9487\n",
            "Epoch 25/50\n",
            " - 3s - loss: 0.0797 - acc: 0.9443 - auc: 0.9493 - val_loss: 0.1436 - val_acc: 0.9034 - val_auc: 0.9499\n",
            "Epoch 26/50\n",
            " - 3s - loss: 0.0765 - acc: 0.9487 - auc: 0.9504 - val_loss: 0.1453 - val_acc: 0.9179 - val_auc: 0.9510\n",
            "Epoch 27/50\n",
            " - 3s - loss: 0.0799 - acc: 0.9440 - auc: 0.9515 - val_loss: 0.1535 - val_acc: 0.9034 - val_auc: 0.9519\n",
            "Epoch 28/50\n",
            " - 3s - loss: 0.0741 - acc: 0.9506 - auc: 0.9525 - val_loss: 0.1444 - val_acc: 0.9147 - val_auc: 0.9529\n",
            "Epoch 29/50\n",
            " - 3s - loss: 0.0683 - acc: 0.9535 - auc: 0.9534 - val_loss: 0.1474 - val_acc: 0.9092 - val_auc: 0.9539\n",
            "Epoch 30/50\n",
            " - 3s - loss: 0.0690 - acc: 0.9540 - auc: 0.9544 - val_loss: 0.1614 - val_acc: 0.9058 - val_auc: 0.9548\n",
            "Epoch 31/50\n",
            " - 3s - loss: 0.0663 - acc: 0.9545 - auc: 0.9552 - val_loss: 0.1522 - val_acc: 0.9167 - val_auc: 0.9557\n",
            "Epoch 32/50\n",
            " - 3s - loss: 0.0664 - acc: 0.9558 - auc: 0.9561 - val_loss: 0.1511 - val_acc: 0.9173 - val_auc: 0.9565\n",
            "Epoch 33/50\n",
            " - 3s - loss: 0.0578 - acc: 0.9600 - auc: 0.9570 - val_loss: 0.1532 - val_acc: 0.9144 - val_auc: 0.9575\n",
            "Epoch 34/50\n",
            " - 3s - loss: 0.0581 - acc: 0.9600 - auc: 0.9579 - val_loss: 0.1551 - val_acc: 0.9150 - val_auc: 0.9583\n",
            "Epoch 35/50\n",
            " - 3s - loss: 0.0594 - acc: 0.9596 - auc: 0.9587 - val_loss: 0.1581 - val_acc: 0.9173 - val_auc: 0.9591\n",
            "Epoch 36/50\n",
            " - 3s - loss: 0.0611 - acc: 0.9581 - auc: 0.9595 - val_loss: 0.1763 - val_acc: 0.9081 - val_auc: 0.9598\n",
            "Epoch 37/50\n",
            " - 3s - loss: 0.0613 - acc: 0.9579 - auc: 0.9601 - val_loss: 0.1984 - val_acc: 0.8977 - val_auc: 0.9604\n",
            "Epoch 38/50\n",
            " - 3s - loss: 0.0509 - acc: 0.9664 - auc: 0.9607 - val_loss: 0.1771 - val_acc: 0.9133 - val_auc: 0.9611\n",
            "Epoch 39/50\n",
            " - 3s - loss: 0.0542 - acc: 0.9638 - auc: 0.9614 - val_loss: 0.1851 - val_acc: 0.8962 - val_auc: 0.9617\n",
            "Epoch 40/50\n",
            " - 3s - loss: 0.0545 - acc: 0.9648 - auc: 0.9620 - val_loss: 0.1747 - val_acc: 0.9060 - val_auc: 0.9623\n",
            "Epoch 41/50\n",
            " - 3s - loss: 0.0535 - acc: 0.9668 - auc: 0.9625 - val_loss: 0.1821 - val_acc: 0.8994 - val_auc: 0.9628\n",
            "Epoch 42/50\n",
            " - 3s - loss: 0.0502 - acc: 0.9684 - auc: 0.9631 - val_loss: 0.2173 - val_acc: 0.8948 - val_auc: 0.9633\n",
            "Epoch 43/50\n",
            " - 3s - loss: 0.0536 - acc: 0.9628 - auc: 0.9636 - val_loss: 0.1791 - val_acc: 0.9034 - val_auc: 0.9638\n",
            "Epoch 44/50\n",
            " - 3s - loss: 0.0504 - acc: 0.9668 - auc: 0.9641 - val_loss: 0.1718 - val_acc: 0.9075 - val_auc: 0.9643\n",
            "Epoch 45/50\n",
            " - 3s - loss: 0.0490 - acc: 0.9665 - auc: 0.9645 - val_loss: 0.1847 - val_acc: 0.9138 - val_auc: 0.9648\n",
            "Epoch 46/50\n",
            " - 3s - loss: 0.0431 - acc: 0.9731 - auc: 0.9650 - val_loss: 0.1826 - val_acc: 0.9121 - val_auc: 0.9653\n",
            "Epoch 47/50\n",
            " - 3s - loss: 0.0466 - acc: 0.9710 - auc: 0.9655 - val_loss: 0.1963 - val_acc: 0.9049 - val_auc: 0.9657\n",
            "Epoch 48/50\n",
            " - 3s - loss: 0.0489 - acc: 0.9673 - auc: 0.9659 - val_loss: 0.1962 - val_acc: 0.9003 - val_auc: 0.9661\n",
            "Epoch 49/50\n",
            " - 3s - loss: 0.0447 - acc: 0.9712 - auc: 0.9663 - val_loss: 0.1863 - val_acc: 0.9121 - val_auc: 0.9665\n",
            "Epoch 50/50\n",
            " - 3s - loss: 0.0445 - acc: 0.9720 - auc: 0.9667 - val_loss: 0.2042 - val_acc: 0.8991 - val_auc: 0.9669\n"
          ],
          "name": "stdout"
        }
      ]
    },
    {
      "cell_type": "code",
      "metadata": {
        "id": "mJ4JF53Ncz2_",
        "colab_type": "code",
        "colab": {}
      },
      "source": [
        "my_model.save(('drive/My Drive/models/flmdl'+ str(repr_nr) + str(start_time) + '.h5'))"
      ],
      "execution_count": 0,
      "outputs": []
    },
    {
      "cell_type": "code",
      "metadata": {
        "id": "57N6Blx9n9WN",
        "colab_type": "code",
        "outputId": "a629c68a-9e09-4185-c8f3-ea2ce9b2d004",
        "colab": {
          "base_uri": "https://localhost:8080/",
          "height": 35
        },
        "cellView": "form"
      },
      "source": [
        "#@title\n",
        "#my_model.save('flmdl.h5')\n",
        "#print('Training done. The results are in : ')\n",
        "c = grid_result.history.keys()\n",
        "print(grid_result.history.keys())\n",
        "#grid_result = validator.fit(X_train, y_frame, callbacks=[es, plot_losses]) #, class_weight = c_w)\n",
        "\n",
        "############\n"
      ],
      "execution_count": 115,
      "outputs": [
        {
          "output_type": "stream",
          "text": [
            "dict_keys(['val_loss', 'val_acc', 'val_auc', 'loss', 'acc', 'auc'])\n"
          ],
          "name": "stdout"
        }
      ]
    },
    {
      "cell_type": "code",
      "metadata": {
        "id": "TFlqEsMBijUA",
        "colab_type": "code",
        "outputId": "6d9c3792-ccff-4414-b36b-7f61ce949bb4",
        "colab": {
          "base_uri": "https://localhost:8080/",
          "height": 387
        }
      },
      "source": [
        "model = my_model\n",
        "hist = grid_result\n",
        "# Final evaluation of the model\n",
        "scores_val = model.evaluate(X_val, y_val, verbose=0)\n",
        "print(\"CNN Error for val set: %.2f%%\" % (100-scores_val[1]*100))\n",
        "scores_test = model.evaluate(X_test, y_test, verbose=0)\n",
        "print(\"CNN Error for test set: %.2f%%\" % (100-scores_test[1]*100))\n",
        "\n",
        "# summarize history for accuracy\n",
        "plt.subplot(1, 3, 1)\n",
        "plt.plot(hist.history['acc'])\n",
        "plt.plot(hist.history['val_acc'])\n",
        "plt.title('model accuracy')\n",
        "plt.ylabel('accuracy')\n",
        "plt.xlabel('epoch')\n",
        "plt.legend(['train', 'val'], loc='upper left')\n",
        "plt.subplot(1, 3, 2)\n",
        "\n",
        "# summarize history for loss\n",
        "plt.plot(hist.history['loss'])\n",
        "plt.plot(hist.history['val_loss'])\n",
        "plt.title('model auc function')\n",
        "plt.ylabel('loss')\n",
        "plt.xlabel('epoch')\n",
        "plt.legend(['train', 'val'], loc='upper left')\n",
        "#plt.show()\n",
        "\n",
        "# calculate AUC of final model on a test set\n",
        "probs = model.predict_proba(X_test)\n",
        "# keep probabilities for the positive outcome only\n",
        "#probs = probs[:, 1]\n",
        "y_test2 = y_test  # osobno, bo inny wymiar\n",
        "print(np.shape(y_test2))\n",
        "print(np.shape(probs))\n",
        "\n",
        "auc = roc_auc_score(y_test2, probs)\n",
        "print('AUC: %.3f' % auc)\n",
        "\n",
        "fpr, tpr, thresholds = roc_curve(y_test2, probs)\n",
        "# plot no skill\n",
        "plt.subplot(1, 3, 3)\n",
        "pyplot.plot([0, 1], [0, 1], linestyle='--')\n",
        "# plot the roc curve for the model\n",
        "pyplot.plot(fpr, tpr, marker='.')\n",
        "# show the plot\n",
        "plt.title('ROC, test set, AUC: %.3f' % auc)\n",
        "pyplot.show()"
      ],
      "execution_count": 12,
      "outputs": [
        {
          "output_type": "stream",
          "text": [
            "CNN Error for val set: 10.09%\n",
            "CNN Error for test set: 13.19%\n",
            "(30813,)\n",
            "(30813, 1)\n",
            "AUC: 0.974\n"
          ],
          "name": "stdout"
        },
        {
          "output_type": "display_data",
          "data": {
            "image/png": "[encoded data removed]",
            "text/plain": [
              "<Figure size 432x288 with 3 Axes>"
            ]
          },
          "metadata": {
            "tags": []
          }
        }
      ]
    },
    {
      "cell_type": "code",
      "metadata": {
        "id": "oe-G8vi26sNN",
        "colab_type": "code",
        "cellView": "form",
        "colab": {}
      },
      "source": [
        "#@title\n",
        "# calculate AUC of final model on a test set\n",
        "probs = best_model.predict_proba(X_test)\n",
        "# keep probabilities for the positive outcome only\n",
        "#probs = probs[:, 1]\n",
        "y_test2 = numpy.load('drive/My Drive/y_test.npy')  # osobno, bo inny wymiar\n",
        "\n",
        "auc = roc_auc_score(y_test2, probs)\n",
        "print('AUC: %.3f' % auc)\n",
        "\n",
        "fpr, tpr, thresholds = roc_curve(y_test2, probs)\n",
        "# plot no skill\n",
        "pyplot.plot([0, 1], [0, 1], linestyle='--')\n",
        "# plot the roc curve for the model\n",
        "pyplot.plot(fpr, tpr, marker='.')\n",
        "# show the plot\n",
        "plt.title('ROC curve for test set')\n",
        "pyplot.show()\n",
        "\n",
        "with open('drive/My Drive/ES_200e.txt', 'w') as f:\n",
        "  print('Filename:', validator.best_params_, file=f)\n",
        "  print('AUC on test set: %.3f' % auc)\n",
        "  \n",
        "from sklearn.externals import joblib\n",
        "joblib.dump(grid_result.best_estimator_, 'model_200e.pkl')"
      ],
      "execution_count": 0,
      "outputs": []
    },
    {
      "cell_type": "code",
      "metadata": {
        "id": "AhYtwNmmqOVQ",
        "colab_type": "code",
        "colab": {
          "base_uri": "https://localhost:8080/",
          "height": 287
        },
        "outputId": "a6457d23-3dd9-44be-b57f-852d322b030e"
      },
      "source": [
        "pyplot.plot(fpr, tpr, marker='.')\n",
        "pyplot.ylim(bottom=0.7)\n"
      ],
      "execution_count": 13,
      "outputs": [
        {
          "output_type": "execute_result",
          "data": {
            "text/plain": [
              "(0.7, 1.05)"
            ]
          },
          "metadata": {
            "tags": []
          },
          "execution_count": 13
        },
        {
          "output_type": "display_data",
          "data": {
            "image/png": "[encoded data removed]",
            "text/plain": [
              "<Figure size 432x288 with 1 Axes>"
            ]
          },
          "metadata": {
            "tags": []
          }
        }
      ]
    },
    {
      "cell_type": "code",
      "metadata": {
        "id": "7Q9Mkpfv-jpk",
        "colab_type": "code",
        "outputId": "ce5977ae-2082-4811-b3a9-9171b23146f6",
        "colab": {
          "base_uri": "https://localhost:8080/",
          "height": 799
        }
      },
      "source": [
        "import sklearn.metrics\n",
        "from sklearn.metrics import precision_recall_curve\n",
        "from sklearn.metrics import average_precision_score\n",
        "\n",
        "start1 = 22800\n",
        "end1 = 22900\n",
        "\n",
        "\n",
        "index2 = ['r%d' % x for x in range(len(y_test))]\n",
        "a2 = [c_w[class_label] for class_label in y_test]\n",
        "\n",
        "#########\n",
        "recall = 0.90\n",
        "###########\n",
        "\n",
        "a = (np.where(tpr>recall))\n",
        "thr = thresholds[np.min(a)]  # do stworzenia confusion matrix bierzemy jakiś próg, np 90% wykrytych głosów\n",
        "print(thr)\n",
        "t2 = np.arange(0.0, end1-start1, 0.5)\n",
        "plt.figure((1))\n",
        "pyplot.plot(y_test2[start1:end1]*1.1, marker='.')\n",
        "pyplot.plot(probs[start1:end1], marker='.')\n",
        "pyplot.plot(t2, thr* np.ones(np.size(t2)), 'r-')\n",
        "pyplot.title('Exemplary true labels, predictions and threshold for chosen recall')\n",
        "\n",
        "probs_bool = probs>thr\n",
        "probs_01 = [int(elem) for elem in probs>thr]\n",
        "#cm = sklearn.metrics.confusion_matrix(y_test2, probs_01, labels=None, sample_weight=a2).ravel()\n",
        "sklearn.metrics.confusion_matrix(y_test2, probs_01, labels=None, sample_weight=a2)\n",
        "cm = sklearn.metrics.confusion_matrix(y_test2, probs_01)\n",
        "print(cm)\n",
        "\n",
        "target_names = ['class 0', 'class 1']\n",
        "print(sklearn.metrics.classification_report(y_test2, probs_01, target_names=target_names))\n",
        "f1 = sklearn.metrics.f1_score(y_test2, probs_01)\n",
        "plt.figure(2)\n",
        "precision, recall, _ = precision_recall_curve(y_test2, probs)\n",
        "plt.step(recall, precision, color='b', alpha=0.2, where='post')\n",
        "plt.fill_between(recall, precision, alpha=0.2, color='b')\n",
        "plt.xlabel('Recall')\n",
        "plt.ylabel('Precision')\n",
        "plt.ylim([0.0, 1.05])\n",
        "plt.xlim([0.0, 1.0])\n",
        "average_precision = average_precision_score(y_test2, probs)\n",
        "\n",
        "plt.title('2-class Precision-Recall curve: AP=%0.2f, F = %0.2f' %(average_precision,f1)) #{0:0.2f}"
      ],
      "execution_count": 16,
      "outputs": [
        {
          "output_type": "stream",
          "text": [
            "0.94708264\n",
            "[[28649  1488]\n",
            " [   68   608]]\n",
            "              precision    recall  f1-score   support\n",
            "\n",
            "     class 0       1.00      0.95      0.97     30137\n",
            "     class 1       0.29      0.90      0.44       676\n",
            "\n",
            "    accuracy                           0.95     30813\n",
            "   macro avg       0.64      0.93      0.71     30813\n",
            "weighted avg       0.98      0.95      0.96     30813\n",
            "\n"
          ],
          "name": "stdout"
        },
        {
          "output_type": "execute_result",
          "data": {
            "text/plain": [
              "Text(0.5, 1.0, '2-class Precision-Recall curve: AP=0.63, F = 0.44')"
            ]
          },
          "metadata": {
            "tags": []
          },
          "execution_count": 16
        },
        {
          "output_type": "display_data",
          "data": {
            "image/png": "[encoded data removed]",
            "text/plain": [
              "<Figure size 432x288 with 1 Axes>"
            ]
          },
          "metadata": {
            "tags": []
          }
        },
        {
          "output_type": "display_data",
          "data": {
            "image/png": "[encoded data removed]",
            "text/plain": [
              "<Figure size 432x288 with 1 Axes>"
            ]
          },
          "metadata": {
            "tags": []
          }
        }
      ]
    },
    {
      "cell_type": "code",
      "metadata": {
        "id": "e3NYogEcemIS",
        "colab_type": "code",
        "colab": {}
      },
      "source": [
        "print(y_test2)"
      ],
      "execution_count": 0,
      "outputs": []
    },
    {
      "cell_type": "code",
      "metadata": {
        "id": "CdQr0WX6J7qp",
        "colab_type": "code",
        "cellView": "form",
        "colab": {}
      },
      "source": [
        "#@title\n",
        "print('The parameters of the best model are: ')\n",
        "print(validator.best_params_)\n",
        "\n",
        "best_model = validator.best_estimator_.model\n",
        "metric_names = best_model.metrics_names\n",
        "metric_values = best_model.evaluate(X_test, y_test)\n",
        "for metric, value in zip(metric_names, metric_values):\n",
        "  print(metric, ': ', value)\n",
        "  \n",
        "means = grid_result.cv_results_['mean_test_score']\n",
        "stds = grid_result.cv_results_['std_test_score']\n",
        "params = grid_result.cv_results_['params']\n",
        "for mean, stdev, param in zip(means, stds, params):\n",
        "  print(\"%f (%f) with: %r\" % (mean, stdev, param))\n",
        "  \n",
        "# calculate AUC of final model on a test set\n",
        "probs = best_model.predict_proba(X_test)\n",
        "# keep probabilities for the positive outcome only\n",
        "#probs = probs[:, 1]\n",
        "y_test2 = numpy.load('drive/My Drive/y_test.npy')  # osobno, bo inny wymiar\n",
        "\n",
        "auc = roc_auc_score(y_test2, probs)\n",
        "print('AUC: %.3f' % auc)\n",
        "\n",
        "fpr, tpr, thresholds = roc_curve(y_test2, probs)\n",
        "# plot no skill\n",
        "pyplot.plot([0, 1], [0, 1], linestyle='--')\n",
        "# plot the roc curve for the model\n",
        "pyplot.plot(fpr, tpr, marker='.')\n",
        "# show the plot\n",
        "plt.title('ROC curve for test set')\n",
        "pyplot.show()\n",
        "\n",
        "with open('drive/My Drive/ES_200e.txt', 'w') as f:\n",
        "  print('Filename:', validator.best_params_, file=f)\n",
        "  print('AUC on test set: %.3f' % auc)\n",
        "  \n",
        "from sklearn.externals import joblib\n",
        "joblib.dump(grid_result.best_estimator_, 'model_200e.pkl')\n"
      ],
      "execution_count": 0,
      "outputs": []
    }
  ]
}