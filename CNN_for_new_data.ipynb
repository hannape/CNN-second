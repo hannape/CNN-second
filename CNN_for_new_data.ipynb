{
  "nbformat": 4,
  "nbformat_minor": 0,
  "metadata": {
    "colab": {
      "name": "CNN-for-new-data.ipynb",
      "version": "0.3.2",
      "provenance": [],
      "collapsed_sections": [],
      "include_colab_link": true
    },
    "kernelspec": {
      "name": "python3",
      "display_name": "Python 3"
    },
    "accelerator": "GPU"
  },
  "cells": [
    {
      "cell_type": "markdown",
      "metadata": {
        "id": "view-in-github",
        "colab_type": "text"
      },
      "source": [
        "<a href=\"https://colab.research.google.com/github/hannape/CNN-second/blob/master/CNN_for_new_data.ipynb\" target=\"_parent\"><img src=\"https://colab.research.google.com/assets/colab-badge.svg\" alt=\"Open In Colab\"/></a>"
      ]
    },
    {
      "cell_type": "code",
      "metadata": {
        "id": "jUs78Pg157U2",
        "colab_type": "code",
        "colab": {}
      },
      "source": [
        "  # previous version, with hidden code and comments - cnn_scorer_not_working\n",
        "\n",
        "from google.colab import drive\n",
        "drive.mount('/content/drive')\n",
        "from __future__ import print_function\n"
      ],
      "execution_count": 0,
      "outputs": []
    },
    {
      "cell_type": "markdown",
      "metadata": {
        "id": "herZA5Ea37Dy",
        "colab_type": "text"
      },
      "source": [
        "**CNNy dla nowych danych:**\n",
        "\n",
        "* jako testowe mamy te co wcześniej nagrania (6 nagrań z 2016), podzielone na 0,5sek fragmenty, z overlapem 150 ms bodajże. Całe nagrania podzielone, więc bardzo mało próbek pozytywnych będzie. 2,2% z głosami (676 bezwzględnie), sumarycznie 30813 rekordów\n",
        "* jako trening - zbalansowany zbiór ~45 nagrań półgodzinnych. Nie jest idealnie 50:50, bo jeśli było w półgodzinnym nagraniu mniej niż 50 ramek z głosami (albo wcale), to i tak dokładałam 50 losowych ramek bez głosów (jest 45:55). Sumarycznie 17293 rekordów. \n",
        "* Na razie testowana reprezentacja 3 - mel spektrogram z pipeline'a birdvoxa - projektu o nocnych migrantach w hameryce. wygląda że działa?\n",
        "\n",
        "\n",
        "\n",
        "**Pytania:**\n",
        "* używam ważenia c_w = { 0:0.01, 1:0.99} - ma to sens? Karanie za 0, nagradzanie za 1\n",
        "* po 50 epokach, model niezmieniany względem prób sprzed pół roku, AUC wychodzi rzędu 94-97% - jak to?... I nie wychodzą same zera, wręcz przeciwnie. Jest tu jakiś błąd czy po prostu jakimś cudem to po prostu działa?\n",
        "* Chyba wartoby zrobić więcej danych testowych? Może jakieś inne? Na razie są te, by można było porównać z tym wszystkim co było robione poprzednio.\n",
        "\n",
        "\n"
      ]
    },
    {
      "cell_type": "code",
      "metadata": {
        "id": "8nqDVmwo7-41",
        "colab_type": "code",
        "outputId": "e42e1965-13f7-4f47-94f9-df873056506c",
        "colab": {
          "base_uri": "https://localhost:8080/",
          "height": 35
        }
      },
      "source": [
        "import keras\n",
        "import numpy\n",
        "from keras.models import Sequential\n",
        "from keras.layers import Dense, Dropout, Activation, Flatten\n",
        "from keras.layers import Conv2D, MaxPooling2D\n",
        "from keras.wrappers.scikit_learn import KerasClassifier\n",
        "from keras import backend as K\n",
        "from sklearn.model_selection import GridSearchCV\n",
        "from keras.layers import Flatten\n",
        "from keras.layers.convolutional import Conv2D\n",
        "from keras.layers.convolutional import MaxPooling2D\n",
        "from keras.utils import np_utils\n",
        "from sklearn.metrics import roc_curve\n",
        "from sklearn.metrics import roc_auc_score\n",
        "from matplotlib import pyplot\n",
        "from sklearn.utils import class_weight\n",
        "from sklearn.metrics import  make_scorer\n",
        "from sklearn.metrics import log_loss\n",
        "K.set_image_dim_ordering('th')\n",
        "import numpy as np\n",
        "from sklearn import preprocessing\n",
        "import glob\n",
        "import os\n",
        "import random\n",
        "import functools\n",
        "import pandas as pd\n",
        "from sklearn.model_selection import train_test_split\n",
        "import matplotlib.pyplot as plt"
      ],
      "execution_count": 2,
      "outputs": [
        {
          "output_type": "stream",
          "text": [
            "Using TensorFlow backend.\n"
          ],
          "name": "stderr"
        }
      ]
    },
    {
      "cell_type": "code",
      "metadata": {
        "id": "hYIkhwHg5LpP",
        "colab_type": "code",
        "cellView": "form",
        "colab": {}
      },
      "source": [
        "#@title\n",
        "source_repr = 'drive/My Drive/repr7/'\n",
        "folder = ['repr7_2016/','repr7_2017/', 'repr7_2018/' ]\n",
        "#X_train = numpy.load('drive/My Drive/X_train.npy')\n",
        "#os.listdir(\"drive/My Drive/repr7\")\n",
        "records = os.listdir(source_repr + folder)\n",
        "#for file in glob.glob(\"*.npz\"):\n",
        "#    print(file)\n",
        "#content/drive/My Drive/repr7/repr7_2017\n",
        "dane1 = np.load(source_repr + folder + records[2] )\n",
        "r3 = dane1['rep3'] # mel-spectrogram birdvox\n",
        "des = dane1['final_description']\n",
        "print(np.shape(r3))\n",
        "print((des[:,7]))\n",
        "print(np.size(records))\n",
        "print((records))\n",
        "\n"
      ],
      "execution_count": 0,
      "outputs": []
    },
    {
      "cell_type": "code",
      "metadata": {
        "id": "2RXBMehUCScF",
        "colab_type": "code",
        "cellView": "form",
        "colab": {}
      },
      "source": [
        "#@title\n",
        "source_repr = 'drive/My Drive/repr7/'\n",
        "folder = ['repr7_2017/', 'repr7_2018/', 'repr7_2016/' ]\n",
        "folder = folder[2]\n",
        "print(folder)\n",
        "records = os.listdir(source_repr + folder)\n",
        "test_set = ['BUK4_20160922_005604_7rep.npz','BUK4_20161008_004605_7rep.npz', 'BUK4_20161016_012704_7rep.npz','BUK4_20161016_035704_7rep.npz', 'BUK5_20161101_002104a_7rep.npz', 'BUK5_20161101_002104b_7rep.npz' ]\n",
        "train_set = [x for x in records if x not in test_set]\n",
        "\n",
        "print(type(records))\n",
        "print(type(test_set))\n",
        "print(np.shape(records))\n",
        "print(np.shape(test_set))\n",
        "#print(np.shape(l3))\n",
        "\n",
        "dane2 = np.load(source_repr + folder_main[2] + 'BUK5_20161101_002104a_7rep.npz', allow_pickle=True )\n",
        "print('Dostepne dane: ' + str(dane2.files))\n",
        "#dane2['final_description']\n",
        "des = dane2['final_description']\n",
        "print(type(dane2['spec']))\n",
        "print(np.shape(des[:,7]))\n",
        "print((dane2['spec']))\n",
        "print(np.zeros(shape=np.shape(dane2['spec'])))\n",
        "print(type(str(np.zeros(shape=np.shape(dane2['spec'])))))\n",
        "      \n",
        "#y_train_spec = np.concatenate(dane2['spec'],dane2['spec'])\n",
        "\n",
        "y_train_spec = np.concatenate((dane2['spec'],np.zeros(shape=np.shape(dane2['spec']))))\n",
        "print(y_train_spec)\n",
        "#print(np.zeros(shape=np.shape(dane2['spec'])))"
      ],
      "execution_count": 0,
      "outputs": []
    },
    {
      "cell_type": "code",
      "metadata": {
        "id": "7PKzziPv_NaP",
        "colab_type": "code",
        "colab": {},
        "cellView": "form"
      },
      "source": [
        "#@title\n",
        "## dane treningowe, wrzucanie jednego typu reprezenatacji do jednej macierzy\n",
        "\n",
        "min_chunks = 50\n",
        "source_repr = 'drive/My Drive/repr7/'\n",
        "folder_main = [ 'repr7_2018/', 'repr7_2017/', 'repr7_2016/' ]\n",
        "test_set = ['BUK4_20160922_005604','BUK4_20161008_004605', 'BUK4_20161016_012704','BUK4_20161016_035704', 'BUK5_20161101_002104a', 'BUK5_20161101_002104b' ]\n",
        "repr_to_check = ['rep4']#['rep1','rep3', 'rep4', 'rep5'] #\n",
        "\n",
        "for k in range(0, np.size(repr_to_check)):\n",
        "  \n",
        "  repr_nr = repr_to_check[k]\n",
        "  print('-----------'+repr_nr+'-----------')\n",
        "  \n",
        "  # pierwsze dane, by mieć kształt macierzy i kolejno wcztywać następne\n",
        "  records = os.listdir(source_repr + folder_main[0])\n",
        "  dane1 = np.load(source_repr + folder_main[0] + records[0],allow_pickle=True )\n",
        "  X_train= dane1[repr_nr]\n",
        "  \n",
        "  des = dane1['final_description']\n",
        "  hasbird = des[:,7]\n",
        "  y_train = hasbird\n",
        "  #y_train_species = dane1['spec']\n",
        "  if np.shape(dane1['spec'])[0]> min_chunks:\n",
        "    y_train_species = np.concatenate((dane1['spec'],np.zeros(shape=np.shape(dane1['spec']))))\n",
        "        \n",
        "  else:\n",
        "    y_train_species = np.concatenate((dane1['spec'],np.zeros(shape=(50,))))\n",
        "  \n",
        "  for j in range (0,np.size(folder_main)): # folder z latami\n",
        "\n",
        "    folder = folder_main[j]\n",
        "    print(folder)\n",
        "    print(source_repr + folder)\n",
        "    records = os.listdir(source_repr + folder)\n",
        "    \n",
        "    if j==2:\n",
        "      records = [x for x in records if x not in test_set]\n",
        "      print('2016!!!!!')\n",
        "\n",
        "    #print(np.shape(records))\n",
        "\n",
        "    for i in range (1,np.size(records)):  # nagrania w danym roku\n",
        "      dane1 = np.load(source_repr + folder + records[i], allow_pickle=True )\n",
        "      r3 = dane1[repr_nr]\n",
        "      X_train = np.concatenate((X_train,r3))\n",
        "      print(records[i])\n",
        "\n",
        "      ## labels\n",
        "      des = dane1['final_description']\n",
        "      hasbird = des[:,7]\n",
        "      y_train = np.concatenate((y_train,hasbird))\n",
        "      if np.shape(dane1['spec'])[0]> min_chunks:\n",
        "        species_rec = np.concatenate((dane1['spec'],np.zeros(shape=np.shape(dane1['spec']))))\n",
        "        \n",
        "      else:\n",
        "        species_rec = np.concatenate((dane1['spec'],np.zeros(shape=(50,))))\n",
        "      y_train_species = np.concatenate((y_train_species,species_rec))  \n",
        "        \n",
        "      #print(np.shape(y_train))\n",
        "      #print(np.shape(y_train_species))\n",
        "      #B_df = pd.read_csv('drive/My Drive/labele/labele_train/'+ nazwa_label)\n",
        "      #y_train= np.concatenate((y_train,B_df.hasbird[0:500]))\n",
        "\n",
        "  print(np.shape(X_train))\n",
        "  print(np.shape(y_train))\n",
        "  print(np.shape(y_train_species))\n",
        "  np.save(('drive/My Drive/repr7/X_train_' + repr_nr), X_train)\n",
        "  \n",
        "np.save(('drive/My Drive/repr7/y_train' ), y_train)\n",
        "np.save(('drive/My Drive/repr7/y_train_species'), y_train_species)\n",
        "#print(np.size(y_train))"
      ],
      "execution_count": 0,
      "outputs": []
    },
    {
      "cell_type": "code",
      "metadata": {
        "id": "R3v3--liq4g-",
        "colab_type": "code",
        "colab": {},
        "cellView": "form"
      },
      "source": [
        "#@title\n",
        "## dla danych testowych - było zrobione na ddrugim dysku, bo tam dane. \n",
        "## Dla testowych dużo większe, bo są całe nagrania\n",
        "\n",
        "#min_chunks = 50\n",
        "source_repr = 'drive/My Drive/'\n",
        "folder_main = [ 'repr7_2016/' ]\n",
        "test_set = ['BUK4_20160922_005604_7rep.npz','BUK4_20161008_004605_7rep.npz', 'BUK4_20161016_012704_7rep.npz','BUK4_20161016_035704_7rep.npz', 'BUK5_20161101_002104a_7rep.npz', 'BUK5_20161101_002104b_7rep.npz' ]\n",
        "repr_to_check = ['rep1'] #,'rep3', 'rep4', 'rep5'] #\n",
        "\n",
        "for k in range(0, np.size(repr_to_check)):\n",
        "  \n",
        "  repr_nr = repr_to_check[k]\n",
        "  print('-----------'+repr_nr+'-----------')\n",
        "  \n",
        "  # pierwsze dane, by mieć kształt macierzy i kolejno wcztywać następne\n",
        "  records = os.listdir(source_repr + folder_main[0])\n",
        "  records = [x for x in records if x in test_set]\n",
        "\n",
        "  dane1 = np.load(source_repr + folder_main[0] + records[0],allow_pickle=True )\n",
        "  X_test= dane1[repr_nr]\n",
        "  y_test = dane1['hasbird']\n",
        "  y_test_species = dane1['species'] \n",
        "  print(records[0])\n",
        "  print(np.shape(X_test))\n",
        "  print(np.shape(y_test))\n",
        "  print(np.shape(y_test_species))\n",
        "  print(np.shape(dane1['species']))\n",
        "  print('Dostepne dane: ' + str(dane1.files))\n",
        "  \n",
        "  for i in range (1,np.size(records)):\n",
        "    print(records[i])\n",
        "    dane1 = np.load(source_repr + folder_main[0] + records[i], allow_pickle=True )\n",
        "    X_test = np.concatenate((X_test,dane1[repr_nr]))\n",
        "    y_test = np.concatenate((y_test,dane1['hasbird']))\n",
        "    #print(np.shape(y_test_species))\n",
        "    \n",
        "    print(np.shape(X_test))\n",
        "    print(np.shape(y_test))\n",
        "    a = dane1['species']\n",
        "    print(len(a.shape))\n",
        "    if (len(a.shape)==2):  # jeśli dwa wymiary\n",
        "       a = np.squeeze(dane1['species'])  # to squeezujemy\n",
        "  \n",
        "    y_test_species = np.concatenate((y_test_species,a )) \n",
        "    print(np.shape(y_test_species))\n",
        "  \n",
        "  \n",
        "  print(np.shape(X_test))\n",
        "  print(np.shape(y_test))\n",
        "  print(np.shape(y_test_species))\n",
        "  np.save(('drive/My Drive/X_test_' + repr_nr), X_test)\n",
        "  \n",
        "np.save(('drive/My Drive/y_test' ), y_test)\n",
        "np.save(('drive/My Drive/y_test_species'), y_test_species)"
      ],
      "execution_count": 0,
      "outputs": []
    },
    {
      "cell_type": "code",
      "metadata": {
        "id": "yoTmkRPI4vwX",
        "colab_type": "code",
        "colab": {
          "base_uri": "https://localhost:8080/",
          "height": 250
        },
        "outputId": "b80371d4-1eca-4d93-9f38-80a185262366"
      },
      "source": [
        "from numpy.random import seed\n",
        "seed(667)\n",
        "from tensorflow import set_random_seed\n",
        "set_random_seed(667)\n",
        "import random\n",
        "random.seed()\n",
        "\n",
        "## Reprezentacja 3 na razie sprawdzana  - czyli mel-spektrogram z birdvoxa, z zawężonym zakresem częstotliwości\n",
        "\n",
        "X_train1 = numpy.load('drive/My Drive/repr7/X_train_rep3.npy', allow_pickle=True)\n",
        "y_train1 = numpy.load('drive/My Drive/repr7/y_train.npy', allow_pickle=True)\n",
        "X_test1 = numpy.load('drive/My Drive/repr7/X_test_rep3.npy', allow_pickle=True)\n",
        "y_test1 = numpy.load('drive/My Drive/repr7/y_test.npy', allow_pickle=True)\n",
        "X_train, X_val, y_train, y_val = train_test_split(X_train1, y_train1, test_size=0.2, random_state=667)\n",
        "exemp = 4# exemplary frame\n",
        "plt.imshow(X_val[exemp], cmap=\"jet\")\n",
        "print(y_val[exemp])\n",
        "r = np.shape(X_val)[1]\n",
        "s = np.shape(X_val)[2]\n",
        "\n",
        "X_train = X_train.reshape(X_train.shape[0], 1, r, s).astype('float32')\n",
        "X_val = X_val.reshape(X_val.shape[0], 1, r, s).astype('float32')\n",
        "X_test = X_test1.reshape(X_test1.shape[0], 1, r, s).astype('float32')\n",
        "y_test = np.squeeze(y_test1)\n",
        "input_shape = (1, r, s)\n"
      ],
      "execution_count": 37,
      "outputs": [
        {
          "output_type": "stream",
          "text": [
            "1\n"
          ],
          "name": "stdout"
        },
        {
          "output_type": "display_data",
          "data": {
            "image/png": "[encoded data removed]",
            "text/plain": [
              "<Figure size 432x288 with 1 Axes>"
            ]
          },
          "metadata": {
            "tags": []
          }
        }
      ]
    },
    {
      "cell_type": "code",
      "metadata": {
        "id": "gZo5otOXYI7A",
        "colab_type": "code",
        "colab": {},
        "cellView": "form"
      },
      "source": [
        "#@title\n",
        "print(np.shape(X_val)[2])\n",
        "print(np.shape(X_val))\n",
        "print(X_train.shape[0])\n",
        "print(np.shape(y_test))"
      ],
      "execution_count": 0,
      "outputs": []
    },
    {
      "cell_type": "code",
      "metadata": {
        "id": "uxfVfVdo4t1U",
        "colab_type": "code",
        "colab": {},
        "cellView": "form"
      },
      "source": [
        "#@title\n",
        "print(sum(y_train1))\n",
        "print(np.shape(y_train1))\n",
        "print(sum(y_train1/np.shape(y_train1)[0]))\n",
        "\n",
        "print(sum(y_test))\n",
        "print(np.shape(y_test))\n",
        "print(sum(y_test/np.shape(y_test)[0]))"
      ],
      "execution_count": 0,
      "outputs": []
    },
    {
      "cell_type": "code",
      "metadata": {
        "id": "JRuF2NCTYCKw",
        "colab_type": "code",
        "colab": {},
        "cellView": "form"
      },
      "source": [
        "#@title\n",
        "print(np.shape(X_val[2]))\n",
        "print (X_train.shape, y_train.shape)\n",
        "print (X_test.shape, y_test.shape)\n",
        "print(np.squeeze(y_test))\n"
      ],
      "execution_count": 0,
      "outputs": []
    },
    {
      "cell_type": "code",
      "metadata": {
        "id": "VKGfhskBZVkD",
        "colab_type": "code",
        "colab": {}
      },
      "source": [
        "c_w = { 0:0.01, 1:0.99}# { 0:0.02, 1:0.98}  # tak było, jeśli w trening wrzucamy całe nagranie. teraz mamy zbalansowany zbiór\n",
        "index = ['r%d' % x for x in range(len(y_train))]\n",
        "a = [c_w[class_label] for class_label in y_train]\n",
        "sample_weight_frame = pd.DataFrame(a, index = index)\n",
        "score_params = {\"sample_weight\": sample_weight_frame}\n",
        "#print(sample_weight_frame[0:5])\n"
      ],
      "execution_count": 0,
      "outputs": []
    },
    {
      "cell_type": "code",
      "metadata": {
        "id": "yFE3UDjTMJ9x",
        "colab_type": "code",
        "colab": {}
      },
      "source": [
        "# https://github.com/keras-team/keras/issues/2115\n",
        "\n",
        "### SCORERS\n",
        "import tensorflow as tf\n",
        "import functools\n",
        "from functools import partial, update_wrapper\n",
        "\n",
        "def my_score(y_true, y_pred, sample_weight): \n",
        "  return log_loss(y_true.values, y_pred, sample_weight=sample_weight.loc[y_true.index.values].values.reshape(-1), normalize=True)\n",
        "\n",
        "def wrapped_partial(func, *args, **kwargs):\n",
        "\tpartial_func = partial(func, *args, **kwargs)\n",
        "\tupdate_wrapper(partial_func, func)\n",
        "\treturn partial_func\n",
        "\n",
        "def binary_crossentropy_weigted(y_true, y_pred, class_weights):\n",
        "\ty_pred = K.clip(y_pred, K.epsilon(), 1.0 - K.epsilon())\n",
        "\tloss = K.mean(class_weights*(-y_true * K.log(y_pred) - (1.0 - y_true) * K.log(1.0 - y_pred)),axis=-1)\n",
        "\treturn loss\n",
        "\n",
        "my_scorer = make_scorer(my_score,greater_is_better=False, needs_threshold=False,**score_params)  ## scoring for gridsearchCV\n",
        "custom_loss = wrapped_partial(binary_crossentropy_weigted, class_weights=np.array([0.02, 0.98])) ## scoring for model.compile\n",
        "\n",
        "\n",
        "## AUC METRIC\n",
        "def as_keras_metric(method):\n",
        "    import functools\n",
        "    from keras import backend as K\n",
        "    \n",
        "    @functools.wraps(method)\n",
        "    def wrapper(self, args, **kwargs):\n",
        "        \"\"\" Wrapper for turning tensorflow metrics into keras metrics \"\"\"\n",
        "        value, update_op = method(self, args, **kwargs)\n",
        "        K.get_session().run(tf.local_variables_initializer())\n",
        "        with tf.control_dependencies([update_op]):\n",
        "            value = tf.identity(value)\n",
        "        return value\n",
        "    return wrapper\n",
        "  \n",
        "auc_roc = as_keras_metric(tf.metrics.auc)\n"
      ],
      "execution_count": 0,
      "outputs": []
    },
    {
      "cell_type": "markdown",
      "metadata": {
        "id": "5VoHqo92-BG1",
        "colab_type": "text"
      },
      "source": [
        "**BUILDING THE MODEL**"
      ]
    },
    {
      "cell_type": "code",
      "metadata": {
        "id": "pDsoy0g8VlB5",
        "colab_type": "code",
        "colab": {}
      },
      "source": [
        "def make_model_modified(): #(dense_layer_sizes,filters, kernel_size,pool_size,lr, drop_out):\n",
        "  \n",
        "    dense_layer_sizes=128\n",
        "    filters=10\n",
        "    kernel_size=(3,3) #(3,3)\n",
        "    pool_size= (2,2) \n",
        "    lr=0.0001 \n",
        "    drop_out = 0.5\n",
        "        \n",
        "    model = Sequential()\n",
        "    model.add(Conv2D(filters, kernel_size,input_shape=input_shape, activation='relu'))\n",
        "   # model.add(Conv2D(16, (3, 3), input_shape=input_shape ))\n",
        "\n",
        "    model.add(MaxPooling2D(pool_size=pool_size))\n",
        "    model.add(Conv2D(filters, kernel_size, activation='relu'))\n",
        "    model.add(MaxPooling2D(pool_size=pool_size))\n",
        "    model.add(Conv2D(filters, kernel_size, activation='relu'))\n",
        "    model.add(MaxPooling2D(pool_size=pool_size))\n",
        "    \n",
        "    \n",
        "    model.add(Flatten())\n",
        "    model.add(Dense(dense_layer_sizes, activation='relu'))\n",
        "    model.add(Dropout(drop_out))\n",
        "    model.add(Dense(32, activation='relu'))\n",
        "    model.add(Dropout(drop_out))\n",
        "    model.add(Dense(1, activation='sigmoid'))\n",
        "    \n",
        "    model.compile(loss=custom_loss,#'binary_crossentropy',#loss_2_args(y_true, y_pred)'',#loss='binary_crossentropy'\n",
        "                  # co tu powinno wejść? o samo co do scoring w GridSearchCv? chyba nie: https://stackoverflow.com/questions/40572743/scikit-learn-grid-search-own-scoring-object-syntax\n",
        "                  # my_score2(sample_weight = sample_weight_frame), <------------------- nie umiem zrobić by działał tutaj. Która funkcja? my_score czy my_scorer ?\n",
        "                  # my_score2(sample_weight_frame) ---->  https://stackoverflow.com/questions/46858016/keras-custom-loss-function-to-pass-arguments-other-than-y-true-and-y-pred\n",
        "                  # my_loss ---------------------------->też nie chodzi a chyba powinien, coś z formatem nie tak.  ERROR: 'Tensor' object has no attribute 'values'\n",
        "                  # inne źródło: https://github.com/keras-team/keras/issues/2115\n",
        "                  optimizer='adam',#keras.optimizers.Adam(lr),#'adam',\n",
        "                  metrics=['accuracy',auc_roc])\n",
        "\n",
        "    return model"
      ],
      "execution_count": 0,
      "outputs": []
    },
    {
      "cell_type": "markdown",
      "metadata": {
        "id": "9_eTsmytevw4",
        "colab_type": "text"
      },
      "source": [
        "**UKKYBIRDDET MODEL** // not here\n"
      ]
    },
    {
      "cell_type": "code",
      "metadata": {
        "id": "rOiizOoMetzF",
        "colab_type": "code",
        "colab": {},
        "cellView": "form"
      },
      "source": [
        "#@title\n",
        "#input_shape = (60, 87, 1)\n",
        "from keras.layers import BatchNormalization, LeakyReLU\n",
        "from keras.regularizers import l2\n",
        "\n",
        "def make_model_ukybirddet():\n",
        "    model = Sequential()\n",
        "    # augmentation generator\n",
        "    # code from baseline : \"augment:Rotation|augment:Shift(low=-1,high=1,axis=3)\"\n",
        "    # keras augmentation:\n",
        "    #preprocessing_function\n",
        "\n",
        "    # convolution layers\n",
        "    model.add(Conv2D(16, (3, 3), padding='valid', input_shape= input_shape ))\n",
        "    model.add(BatchNormalization())  # explore order of Batchnorm and activation\n",
        "    model.add(LeakyReLU(alpha=.001))\n",
        "    model.add(MaxPooling2D(pool_size=(3, 3)))  # experiment with using smaller pooling along frequency axis\n",
        "    model.add(Conv2D(16, (3, 3), padding='valid'))\n",
        "    model.add(BatchNormalization())\n",
        "    model.add(LeakyReLU(alpha=.001))\n",
        "    model.add(MaxPooling2D(pool_size=(3, 3)))\n",
        "    model.add(Conv2D(16, (3, 3), padding='valid'))\n",
        "    model.add(BatchNormalization())\n",
        "    model.add(LeakyReLU(alpha=.001))\n",
        "    model.add(MaxPooling2D(pool_size=(3, 1)))\n",
        "    #model.add(Conv2D(16, (3, 3), padding='valid', kernel_regularizer=l2(0.01)))  # drfault 0.01. Try 0.001 and 0.001\n",
        "    #model.add(BatchNormalization())\n",
        "    #model.add(LeakyReLU(alpha=.001))\n",
        "    #model.add(MaxPooling2D(pool_size=(3, 1)))\n",
        "\n",
        "    # dense layers\n",
        "    model.add(Flatten())\n",
        "    model.add(Dropout(0.5))\n",
        "    model.add(Dense(256))\n",
        "    model.add(BatchNormalization())\n",
        "    model.add(LeakyReLU(alpha=.001))\n",
        "    model.add(Dropout(0.5))\n",
        "    model.add(Dense(32))\n",
        "    model.add(BatchNormalization())\n",
        "    model.add(LeakyReLU(alpha=.001))  # leaky relu value is very small experiment with bigger ones\n",
        "    model.add(Dropout(0.5))  # experiment with removing this dropout\n",
        "    model.add(Dense(1, activation='sigmoid'))\n",
        "    \n",
        "    adam = keras.optimizers.Adam(lr=0.001, beta_1=0.9, beta_2=0.999, epsilon=None, decay=0.0)\n",
        "    model.compile(optimizer=adam, loss='binary_crossentropy', metrics=['acc'])\n",
        "\n",
        "    # prepare callback\n",
        "    #histories = my_callbacks.Histories()\n",
        "    \n",
        "    model.summary()  \n",
        "    \n",
        "    return model\n",
        "  \n"
      ],
      "execution_count": 0,
      "outputs": []
    },
    {
      "cell_type": "markdown",
      "metadata": {
        "id": "59IhKe5b95g-",
        "colab_type": "text"
      },
      "source": [
        "**GRID SEARCH** // none here\n",
        "\n"
      ]
    },
    {
      "cell_type": "code",
      "metadata": {
        "id": "7YQJvxfSN1Iy",
        "colab_type": "code",
        "cellView": "form",
        "colab": {}
      },
      "source": [
        "#@title\n",
        "my_classifier = KerasClassifier(make_model_modified)\n",
        "validator = GridSearchCV(my_classifier,\n",
        "                         param_grid={'dense_layer_sizes': [128],\n",
        "                                     # epochs is avail for tuning even when not\n",
        "                                     # an argument to model building function\n",
        "                                     'epochs': [100], #[10,20,30],\n",
        "                                     'filters': [10],\n",
        "                                     'kernel_size': [(3,3)],\n",
        "                                     'pool_size': [(2,2)],\n",
        "                                     # 'class_weight': [{ 0:0.02, 1:0.98}],  <------------------------------- może w ten sposób? Ale t też tylko w grid searchu\n",
        "                                     'batch_size': [32], \n",
        "                                     'drop_out':[0.5],#[0.2,0.5],\n",
        "                                     'lr': [0.001]}, #[0.01,0.001,0.0001]},\n",
        "                         scoring=my_scorer, n_jobs=1, refit=True, cv = 3)  ## SCORING ZMIENIONY na my_scorer (inne, np: 'roc_auc')\n",
        "\n",
        "##https://stackoverflow.com/questions/49581104/sklearn-gridsearchcv-not-using-sample-weight-in-score-function"
      ],
      "execution_count": 0,
      "outputs": []
    },
    {
      "cell_type": "markdown",
      "metadata": {
        "id": "4-qM-uurO5TP",
        "colab_type": "text"
      },
      "source": [
        "**CALLBACKS** // costamcostam\n"
      ]
    },
    {
      "cell_type": "code",
      "metadata": {
        "id": "mLm9knT-1OjH",
        "colab_type": "code",
        "cellView": "form",
        "colab": {}
      },
      "source": [
        "#@title\n",
        "from IPython.display import clear_output\n",
        "class PlotLosses(keras.callbacks.Callback):\n",
        "    def on_train_begin(self, logs={}):\n",
        "        self.i = 0\n",
        "        self.x = []\n",
        "        self.losses = []\n",
        "        self.losses_val = []\n",
        "        self.auc = []\n",
        "        self.auc_val = []\n",
        "        self.acc = []\n",
        "        self.acc_val = []\n",
        "        \n",
        "        self.fig = plt.figure()        \n",
        "        self.logs = []\n",
        "        \n",
        "        \n",
        "    def on_epoch_begin(self, epoch, logs={}):\n",
        "\t\t    clear_output(wait=True);\n",
        "\n",
        "    def on_epoch_end(self, epoch, logs={}):\n",
        "        \n",
        "        self.logs.append(logs)\n",
        "        self.x.append(self.i)\n",
        "        self.losses.append(logs.get('loss'))\n",
        "        self.losses_val.append(logs.get('val_loss'))\n",
        "        self.auc.append(logs.get('auc'))\n",
        "        self.i += 1\n",
        "        plt.subplot(1, 2, 1)\n",
        "        plt.plot(self.x, self.losses, label=\"loss\")\n",
        "        plt.plot(self.x, self.losses_val, label=\"val_loss\")\n",
        "        plt.legend()\n",
        "        \n",
        "        plt.subplot(1, 2, 2)\n",
        "        plt.plot(self.x, self.auc, label=\"auc\")\n",
        "        #plt.plot(self.x, self.auc_val, label=\"val_auc\")\n",
        "        print(self.x, self.auc)\n",
        "        print(self.x, self.auc_val)\n",
        "        plt.legend()\n",
        "        \n",
        "        #plt.subplot(1, 3, 3)  # nie działa :()\n",
        "        #plt.plot(self.x, self.acc, label=\"acc\")\n",
        "        #plt.plot(self.x, self.acc_val, label=\"val_acc\")\n",
        "        #plt.legend()\n",
        "        \n",
        "        plt.show()\n",
        "      \n",
        "        \n",
        "plot_losses = PlotLosses()\n",
        "\n",
        "class Histories(keras.callbacks.Callback):\n",
        "\tdef on_train_begin(self, logs={}):\n",
        "\t\tself.aucs = []\n",
        "\t\tself.losses = []\n",
        "\n",
        "\tdef on_train_end(self, logs={}):\n",
        "\t\treturn\n",
        "\n",
        "\tdef on_epoch_begin(self, epoch, logs={}):\n",
        "\t\treturn\n",
        "\n",
        "\tdef on_epoch_end(self, epoch, logs={}):\n",
        "\t\tself.losses.append(logs.get('loss'))\n",
        "\t\ty_pred = self.model.predict(self.validation_data[0])\n",
        "\t\tself.aucs.append(roc_auc_score(self.validation_data[1], y_pred))\n",
        "\t\ta = (roc_auc_score(self.validation_data[1], y_pred))\n",
        "\t\t#print(\" AUC_on_val: %f \" % a)\n",
        "\t\treturn\n",
        "\n",
        "\tdef on_batch_begin(self, batch, logs={}):\n",
        "\t\treturn\n",
        "\n",
        "\tdef on_batch_end(self, batch, logs={}):    return\n",
        "  \n",
        "histories = Histories()"
      ],
      "execution_count": 0,
      "outputs": []
    },
    {
      "cell_type": "code",
      "metadata": {
        "id": "qC9TynBWTR0E",
        "colab_type": "code",
        "outputId": "97b97edf-4ab1-4d54-8390-e27fef745a7a",
        "colab": {
          "base_uri": "https://localhost:8080/",
          "height": 3729
        }
      },
      "source": [
        "# dense_layer_sizes,filters, kernel_size,pool_size,lr, drop_out)\n",
        "#my_classifier2 = KerasClassifier(make_model_modified(128,10,(3,3),(2,2),0.001,0.5))\n",
        "\n",
        "#################################\n",
        "\n",
        "repr_nr = '_rep3_'  \n",
        "my_model = make_model_modified() #make_model_ukybirddet()\n",
        "\n",
        "#################################\n",
        "from keras.callbacks import EarlyStopping\n",
        "from keras.callbacks import LearningRateScheduler, CSVLogger\n",
        "import math\n",
        "import datetime\n",
        "now = datetime.datetime.now()\n",
        "start_time = str(now.year)+str('-')+str(now.month)+str('-')+str(now.day)+str('_')+str(now.hour+2)+str(':')+str(now.minute)\n",
        "\n",
        "'''\n",
        "def step_decay(epoch):\n",
        "\tinitial_lrate = 0.001\n",
        "\tdrop = 0.1\n",
        "\tepochs_drop = 30.0\n",
        "\tlrate = initial_lrate * math.pow(drop, math.floor((1+epoch)/epochs_drop))\n",
        "\t#print(lrate)\n",
        "\treturn lrate\n",
        "\n",
        "keras.callbacks.CSVLogger('', separator=',', append=False)\n",
        "\n",
        "lrate = LearningRateScheduler(step_decay)\n",
        "csv_logger = CSVLogger('drive/My Drive/przebiegi/training_150e_001_01_co30_3.log')\n",
        "#es = EarlyStopping(monitor='val_loss', min_delta=0.001, patience=30, mode='max', baseline=None, restore_best_weights=True)\n",
        "'''\n",
        "\n",
        "y_frame = pd.DataFrame(y_train, index=index)\n",
        "\n",
        "grid_result = my_model.fit(X_train, y_frame, batch_size = 32, epochs=100,validation_data=(X_val, y_val), verbose = 2) #, class_weight = c_w)\n",
        "\n",
        "\n",
        "#grid_result = my_model.fit(X_train, y_frame, batch_size = 32, callbacks=[plot_losses, csv_logger, lrate, histories], epochs=150,validation_data=(X_val, y_val), verbose = 2) #, class_weight = c_w)\n",
        "# [es, plot_losses, lrate, csv_logger, histories]\n",
        "#my_model.save(('flmdl'+ repr_nr + start_time + '.h5'))\n",
        "#print('Training done. The results are in : ')\n",
        "\n"
      ],
      "execution_count": 38,
      "outputs": [
        {
          "output_type": "stream",
          "text": [
            "Train on 13834 samples, validate on 3459 samples\n",
            "Epoch 1/100\n",
            " - 4s - loss: 0.3386 - acc: 0.6796 - auc: 0.5810 - val_loss: 0.2085 - val_acc: 0.8462 - val_auc: 0.7414\n",
            "Epoch 2/100\n",
            " - 4s - loss: 0.1885 - acc: 0.8533 - auc: 0.8026 - val_loss: 0.1691 - val_acc: 0.8676 - val_auc: 0.8370\n",
            "Epoch 3/100\n",
            " - 4s - loss: 0.1600 - acc: 0.8774 - auc: 0.8569 - val_loss: 0.1436 - val_acc: 0.8948 - val_auc: 0.8722\n",
            "Epoch 4/100\n",
            " - 3s - loss: 0.1503 - acc: 0.8876 - auc: 0.8827 - val_loss: 0.1467 - val_acc: 0.8922 - val_auc: 0.8900\n",
            "Epoch 5/100\n",
            " - 3s - loss: 0.1424 - acc: 0.8928 - auc: 0.8962 - val_loss: 0.1504 - val_acc: 0.8858 - val_auc: 0.9008\n",
            "Epoch 6/100\n",
            " - 4s - loss: 0.1353 - acc: 0.9014 - auc: 0.9049 - val_loss: 0.1332 - val_acc: 0.9052 - val_auc: 0.9090\n",
            "Epoch 7/100\n",
            " - 3s - loss: 0.1289 - acc: 0.9041 - auc: 0.9123 - val_loss: 0.1304 - val_acc: 0.9075 - val_auc: 0.9152\n",
            "Epoch 8/100\n",
            " - 3s - loss: 0.1257 - acc: 0.9076 - auc: 0.9180 - val_loss: 0.1343 - val_acc: 0.9008 - val_auc: 0.9201\n",
            "Epoch 9/100\n",
            " - 3s - loss: 0.1208 - acc: 0.9127 - auc: 0.9223 - val_loss: 0.1279 - val_acc: 0.9029 - val_auc: 0.9243\n",
            "Epoch 10/100\n",
            " - 3s - loss: 0.1156 - acc: 0.9189 - auc: 0.9261 - val_loss: 0.1342 - val_acc: 0.9014 - val_auc: 0.9278\n",
            "Epoch 11/100\n",
            " - 4s - loss: 0.1177 - acc: 0.9133 - auc: 0.9292 - val_loss: 0.1302 - val_acc: 0.9055 - val_auc: 0.9304\n",
            "Epoch 12/100\n",
            " - 4s - loss: 0.1098 - acc: 0.9201 - auc: 0.9317 - val_loss: 0.1232 - val_acc: 0.9104 - val_auc: 0.9331\n",
            "Epoch 13/100\n",
            " - 3s - loss: 0.1036 - acc: 0.9246 - auc: 0.9344 - val_loss: 0.1298 - val_acc: 0.9081 - val_auc: 0.9357\n",
            "Epoch 14/100\n",
            " - 3s - loss: 0.1044 - acc: 0.9231 - auc: 0.9367 - val_loss: 0.1274 - val_acc: 0.9124 - val_auc: 0.9378\n",
            "Epoch 15/100\n",
            " - 4s - loss: 0.1037 - acc: 0.9226 - auc: 0.9387 - val_loss: 0.1258 - val_acc: 0.9133 - val_auc: 0.9397\n",
            "Epoch 16/100\n",
            " - 4s - loss: 0.0944 - acc: 0.9349 - auc: 0.9408 - val_loss: 0.1273 - val_acc: 0.9159 - val_auc: 0.9417\n",
            "Epoch 17/100\n",
            " - 3s - loss: 0.0943 - acc: 0.9334 - auc: 0.9426 - val_loss: 0.1287 - val_acc: 0.9133 - val_auc: 0.9434\n",
            "Epoch 18/100\n",
            " - 3s - loss: 0.0881 - acc: 0.9380 - auc: 0.9443 - val_loss: 0.1344 - val_acc: 0.9014 - val_auc: 0.9451\n",
            "Epoch 19/100\n",
            " - 3s - loss: 0.0853 - acc: 0.9402 - auc: 0.9459 - val_loss: 0.1292 - val_acc: 0.9191 - val_auc: 0.9467\n",
            "Epoch 20/100\n",
            " - 3s - loss: 0.0830 - acc: 0.9418 - auc: 0.9475 - val_loss: 0.1390 - val_acc: 0.9058 - val_auc: 0.9482\n",
            "Epoch 21/100\n",
            " - 3s - loss: 0.0830 - acc: 0.9429 - auc: 0.9488 - val_loss: 0.1370 - val_acc: 0.9173 - val_auc: 0.9495\n",
            "Epoch 22/100\n",
            " - 3s - loss: 0.0805 - acc: 0.9438 - auc: 0.9502 - val_loss: 0.1384 - val_acc: 0.9205 - val_auc: 0.9508\n",
            "Epoch 23/100\n",
            " - 4s - loss: 0.0793 - acc: 0.9448 - auc: 0.9514 - val_loss: 0.1421 - val_acc: 0.9086 - val_auc: 0.9520\n",
            "Epoch 24/100\n",
            " - 4s - loss: 0.0697 - acc: 0.9525 - auc: 0.9526 - val_loss: 0.1414 - val_acc: 0.9150 - val_auc: 0.9532\n",
            "Epoch 25/100\n",
            " - 4s - loss: 0.0744 - acc: 0.9495 - auc: 0.9537 - val_loss: 0.1516 - val_acc: 0.9089 - val_auc: 0.9542\n",
            "Epoch 26/100\n",
            " - 4s - loss: 0.0700 - acc: 0.9517 - auc: 0.9548 - val_loss: 0.1535 - val_acc: 0.9066 - val_auc: 0.9553\n",
            "Epoch 27/100\n",
            " - 3s - loss: 0.0772 - acc: 0.9479 - auc: 0.9557 - val_loss: 0.1550 - val_acc: 0.9063 - val_auc: 0.9561\n",
            "Epoch 28/100\n",
            " - 3s - loss: 0.0734 - acc: 0.9502 - auc: 0.9566 - val_loss: 0.1514 - val_acc: 0.9069 - val_auc: 0.9568\n",
            "Epoch 29/100\n",
            " - 3s - loss: 0.0600 - acc: 0.9594 - auc: 0.9573 - val_loss: 0.1641 - val_acc: 0.9121 - val_auc: 0.9578\n",
            "Epoch 30/100\n",
            " - 3s - loss: 0.0634 - acc: 0.9571 - auc: 0.9583 - val_loss: 0.1612 - val_acc: 0.9127 - val_auc: 0.9586\n",
            "Epoch 31/100\n",
            " - 3s - loss: 0.0590 - acc: 0.9610 - auc: 0.9591 - val_loss: 0.1564 - val_acc: 0.9141 - val_auc: 0.9595\n",
            "Epoch 32/100\n",
            " - 4s - loss: 0.0576 - acc: 0.9618 - auc: 0.9599 - val_loss: 0.1649 - val_acc: 0.9029 - val_auc: 0.9603\n",
            "Epoch 33/100\n",
            " - 3s - loss: 0.0596 - acc: 0.9581 - auc: 0.9607 - val_loss: 0.1566 - val_acc: 0.9144 - val_auc: 0.9610\n",
            "Epoch 34/100\n",
            " - 3s - loss: 0.0569 - acc: 0.9622 - auc: 0.9614 - val_loss: 0.1627 - val_acc: 0.9144 - val_auc: 0.9617\n",
            "Epoch 35/100\n",
            " - 3s - loss: 0.0565 - acc: 0.9643 - auc: 0.9620 - val_loss: 0.1670 - val_acc: 0.9164 - val_auc: 0.9623\n",
            "Epoch 36/100\n",
            " - 3s - loss: 0.0586 - acc: 0.9611 - auc: 0.9626 - val_loss: 0.1669 - val_acc: 0.9058 - val_auc: 0.9629\n",
            "Epoch 37/100\n",
            " - 3s - loss: 0.0568 - acc: 0.9623 - auc: 0.9632 - val_loss: 0.1772 - val_acc: 0.9026 - val_auc: 0.9635\n",
            "Epoch 38/100\n",
            " - 3s - loss: 0.0514 - acc: 0.9667 - auc: 0.9638 - val_loss: 0.1676 - val_acc: 0.9086 - val_auc: 0.9641\n",
            "Epoch 39/100\n",
            " - 3s - loss: 0.0464 - acc: 0.9696 - auc: 0.9644 - val_loss: 0.1741 - val_acc: 0.9084 - val_auc: 0.9647\n",
            "Epoch 40/100\n",
            " - 3s - loss: 0.0479 - acc: 0.9698 - auc: 0.9650 - val_loss: 0.1762 - val_acc: 0.9124 - val_auc: 0.9652\n",
            "Epoch 41/100\n",
            " - 3s - loss: 0.0566 - acc: 0.9636 - auc: 0.9654 - val_loss: 0.1809 - val_acc: 0.9029 - val_auc: 0.9656\n",
            "Epoch 42/100\n",
            " - 4s - loss: 0.0473 - acc: 0.9704 - auc: 0.9659 - val_loss: 0.1712 - val_acc: 0.9121 - val_auc: 0.9662\n",
            "Epoch 43/100\n",
            " - 3s - loss: 0.0455 - acc: 0.9720 - auc: 0.9664 - val_loss: 0.1860 - val_acc: 0.9092 - val_auc: 0.9666\n",
            "Epoch 44/100\n",
            " - 3s - loss: 0.0460 - acc: 0.9717 - auc: 0.9669 - val_loss: 0.1744 - val_acc: 0.9156 - val_auc: 0.9671\n",
            "Epoch 45/100\n",
            " - 3s - loss: 0.0437 - acc: 0.9722 - auc: 0.9673 - val_loss: 0.1868 - val_acc: 0.9118 - val_auc: 0.9676\n",
            "Epoch 46/100\n",
            " - 3s - loss: 0.0426 - acc: 0.9730 - auc: 0.9678 - val_loss: 0.1875 - val_acc: 0.9144 - val_auc: 0.9680\n",
            "Epoch 47/100\n",
            " - 4s - loss: 0.0435 - acc: 0.9737 - auc: 0.9682 - val_loss: 0.1904 - val_acc: 0.9118 - val_auc: 0.9684\n",
            "Epoch 48/100\n",
            " - 4s - loss: 0.0390 - acc: 0.9770 - auc: 0.9686 - val_loss: 0.2119 - val_acc: 0.9017 - val_auc: 0.9688\n",
            "Epoch 49/100\n",
            " - 4s - loss: 0.0411 - acc: 0.9745 - auc: 0.9690 - val_loss: 0.1978 - val_acc: 0.9115 - val_auc: 0.9692\n",
            "Epoch 50/100\n",
            " - 3s - loss: 0.0414 - acc: 0.9730 - auc: 0.9694 - val_loss: 0.2082 - val_acc: 0.9058 - val_auc: 0.9696\n",
            "Epoch 51/100\n",
            " - 4s - loss: 0.0396 - acc: 0.9739 - auc: 0.9698 - val_loss: 0.1979 - val_acc: 0.9034 - val_auc: 0.9699\n",
            "Epoch 52/100\n",
            " - 4s - loss: 0.0396 - acc: 0.9746 - auc: 0.9700 - val_loss: 0.2295 - val_acc: 0.8971 - val_auc: 0.9702\n",
            "Epoch 53/100\n",
            " - 3s - loss: 0.0416 - acc: 0.9741 - auc: 0.9704 - val_loss: 0.2052 - val_acc: 0.9095 - val_auc: 0.9705\n",
            "Epoch 54/100\n",
            " - 3s - loss: 0.0338 - acc: 0.9790 - auc: 0.9707 - val_loss: 0.2106 - val_acc: 0.9037 - val_auc: 0.9709\n",
            "Epoch 55/100\n",
            " - 3s - loss: 0.0394 - acc: 0.9771 - auc: 0.9710 - val_loss: 0.1970 - val_acc: 0.9118 - val_auc: 0.9712\n",
            "Epoch 56/100\n",
            " - 3s - loss: 0.0367 - acc: 0.9769 - auc: 0.9713 - val_loss: 0.2122 - val_acc: 0.9011 - val_auc: 0.9715\n",
            "Epoch 57/100\n",
            " - 3s - loss: 0.0377 - acc: 0.9772 - auc: 0.9716 - val_loss: 0.2103 - val_acc: 0.9112 - val_auc: 0.9717\n",
            "Epoch 58/100\n",
            " - 3s - loss: 0.0347 - acc: 0.9775 - auc: 0.9719 - val_loss: 0.2112 - val_acc: 0.9063 - val_auc: 0.9720\n",
            "Epoch 59/100\n",
            " - 3s - loss: 0.0330 - acc: 0.9800 - auc: 0.9722 - val_loss: 0.2101 - val_acc: 0.9063 - val_auc: 0.9723\n",
            "Epoch 60/100\n",
            " - 3s - loss: 0.0360 - acc: 0.9785 - auc: 0.9724 - val_loss: 0.2102 - val_acc: 0.9084 - val_auc: 0.9725\n",
            "Epoch 61/100\n",
            " - 3s - loss: 0.0317 - acc: 0.9804 - auc: 0.9727 - val_loss: 0.2450 - val_acc: 0.9005 - val_auc: 0.9728\n",
            "Epoch 62/100\n",
            " - 3s - loss: 0.0367 - acc: 0.9780 - auc: 0.9729 - val_loss: 0.2111 - val_acc: 0.9078 - val_auc: 0.9730\n",
            "Epoch 63/100\n",
            " - 3s - loss: 0.0310 - acc: 0.9805 - auc: 0.9731 - val_loss: 0.2325 - val_acc: 0.9110 - val_auc: 0.9732\n",
            "Epoch 64/100\n",
            " - 3s - loss: 0.0316 - acc: 0.9816 - auc: 0.9733 - val_loss: 0.2228 - val_acc: 0.9112 - val_auc: 0.9734\n",
            "Epoch 65/100\n",
            " - 3s - loss: 0.0377 - acc: 0.9770 - auc: 0.9735 - val_loss: 0.2336 - val_acc: 0.9020 - val_auc: 0.9736\n",
            "Epoch 66/100\n",
            " - 4s - loss: 0.0307 - acc: 0.9823 - auc: 0.9737 - val_loss: 0.2187 - val_acc: 0.9026 - val_auc: 0.9739\n",
            "Epoch 67/100\n",
            " - 3s - loss: 0.0329 - acc: 0.9790 - auc: 0.9740 - val_loss: 0.2384 - val_acc: 0.9063 - val_auc: 0.9741\n",
            "Epoch 68/100\n",
            " - 3s - loss: 0.0308 - acc: 0.9807 - auc: 0.9742 - val_loss: 0.2237 - val_acc: 0.9092 - val_auc: 0.9743\n",
            "Epoch 69/100\n",
            " - 4s - loss: 0.0362 - acc: 0.9781 - auc: 0.9743 - val_loss: 0.2352 - val_acc: 0.8962 - val_auc: 0.9744\n",
            "Epoch 70/100\n",
            " - 4s - loss: 0.0407 - acc: 0.9749 - auc: 0.9745 - val_loss: 0.2060 - val_acc: 0.9078 - val_auc: 0.9746\n",
            "Epoch 71/100\n",
            " - 4s - loss: 0.0326 - acc: 0.9803 - auc: 0.9747 - val_loss: 0.2368 - val_acc: 0.8988 - val_auc: 0.9748\n",
            "Epoch 72/100\n",
            " - 4s - loss: 0.0311 - acc: 0.9814 - auc: 0.9749 - val_loss: 0.2181 - val_acc: 0.9072 - val_auc: 0.9750\n",
            "Epoch 73/100\n",
            " - 3s - loss: 0.0283 - acc: 0.9837 - auc: 0.9750 - val_loss: 0.2411 - val_acc: 0.9075 - val_auc: 0.9751\n",
            "Epoch 74/100\n",
            " - 3s - loss: 0.0323 - acc: 0.9811 - auc: 0.9752 - val_loss: 0.2211 - val_acc: 0.9075 - val_auc: 0.9753\n",
            "Epoch 75/100\n",
            " - 3s - loss: 0.0289 - acc: 0.9838 - auc: 0.9754 - val_loss: 0.2199 - val_acc: 0.9081 - val_auc: 0.9754\n",
            "Epoch 76/100\n",
            " - 3s - loss: 0.0286 - acc: 0.9832 - auc: 0.9755 - val_loss: 0.2370 - val_acc: 0.9029 - val_auc: 0.9756\n",
            "Epoch 77/100\n",
            " - 3s - loss: 0.0302 - acc: 0.9819 - auc: 0.9757 - val_loss: 0.2289 - val_acc: 0.9014 - val_auc: 0.9758\n",
            "Epoch 78/100\n",
            " - 3s - loss: 0.0294 - acc: 0.9827 - auc: 0.9758 - val_loss: 0.2405 - val_acc: 0.9008 - val_auc: 0.9759\n",
            "Epoch 79/100\n",
            " - 3s - loss: 0.0315 - acc: 0.9822 - auc: 0.9760 - val_loss: 0.2140 - val_acc: 0.9058 - val_auc: 0.9760\n",
            "Epoch 80/100\n",
            " - 3s - loss: 0.0262 - acc: 0.9851 - auc: 0.9761 - val_loss: 0.2525 - val_acc: 0.8994 - val_auc: 0.9762\n",
            "Epoch 81/100\n",
            " - 3s - loss: 0.0323 - acc: 0.9803 - auc: 0.9762 - val_loss: 0.2135 - val_acc: 0.9081 - val_auc: 0.9763\n",
            "Epoch 82/100\n",
            " - 3s - loss: 0.0301 - acc: 0.9832 - auc: 0.9764 - val_loss: 0.2261 - val_acc: 0.9084 - val_auc: 0.9764\n",
            "Epoch 83/100\n",
            " - 3s - loss: 0.0361 - acc: 0.9794 - auc: 0.9765 - val_loss: 0.2171 - val_acc: 0.9098 - val_auc: 0.9765\n",
            "Epoch 84/100\n",
            " - 3s - loss: 0.0286 - acc: 0.9824 - auc: 0.9766 - val_loss: 0.2155 - val_acc: 0.9084 - val_auc: 0.9767\n",
            "Epoch 85/100\n",
            " - 4s - loss: 0.0322 - acc: 0.9807 - auc: 0.9767 - val_loss: 0.2292 - val_acc: 0.8977 - val_auc: 0.9768\n",
            "Epoch 86/100\n",
            " - 3s - loss: 0.0239 - acc: 0.9855 - auc: 0.9769 - val_loss: 0.2371 - val_acc: 0.8991 - val_auc: 0.9769\n",
            "Epoch 87/100\n",
            " - 3s - loss: 0.0251 - acc: 0.9861 - auc: 0.9770 - val_loss: 0.2481 - val_acc: 0.9020 - val_auc: 0.9771\n",
            "Epoch 88/100\n",
            " - 4s - loss: 0.0263 - acc: 0.9845 - auc: 0.9771 - val_loss: 0.2219 - val_acc: 0.9058 - val_auc: 0.9772\n",
            "Epoch 89/100\n",
            " - 3s - loss: 0.0292 - acc: 0.9841 - auc: 0.9772 - val_loss: 0.2554 - val_acc: 0.9049 - val_auc: 0.9773\n",
            "Epoch 90/100\n",
            " - 4s - loss: 0.0252 - acc: 0.9844 - auc: 0.9773 - val_loss: 0.2637 - val_acc: 0.9005 - val_auc: 0.9774\n",
            "Epoch 91/100\n",
            " - 3s - loss: 0.0507 - acc: 0.9689 - auc: 0.9774 - val_loss: 0.1912 - val_acc: 0.9063 - val_auc: 0.9774\n",
            "Epoch 92/100\n",
            " - 4s - loss: 0.0435 - acc: 0.9703 - auc: 0.9774 - val_loss: 0.2108 - val_acc: 0.9063 - val_auc: 0.9775\n",
            "Epoch 93/100\n",
            " - 4s - loss: 0.0405 - acc: 0.9759 - auc: 0.9775 - val_loss: 0.2136 - val_acc: 0.9101 - val_auc: 0.9775\n",
            "Epoch 94/100\n",
            " - 4s - loss: 0.0289 - acc: 0.9827 - auc: 0.9776 - val_loss: 0.2155 - val_acc: 0.9069 - val_auc: 0.9776\n",
            "Epoch 95/100\n",
            " - 4s - loss: 0.0247 - acc: 0.9858 - auc: 0.9777 - val_loss: 0.2252 - val_acc: 0.9052 - val_auc: 0.9777\n",
            "Epoch 96/100\n",
            " - 4s - loss: 0.0240 - acc: 0.9865 - auc: 0.9778 - val_loss: 0.2328 - val_acc: 0.9029 - val_auc: 0.9779\n",
            "Epoch 97/100\n",
            " - 4s - loss: 0.0269 - acc: 0.9835 - auc: 0.9779 - val_loss: 0.2235 - val_acc: 0.9032 - val_auc: 0.9780\n",
            "Epoch 98/100\n",
            " - 3s - loss: 0.0239 - acc: 0.9855 - auc: 0.9780 - val_loss: 0.2598 - val_acc: 0.9060 - val_auc: 0.9781\n",
            "Epoch 99/100\n",
            " - 3s - loss: 0.0261 - acc: 0.9840 - auc: 0.9781 - val_loss: 0.2475 - val_acc: 0.9034 - val_auc: 0.9782\n",
            "Epoch 100/100\n",
            " - 4s - loss: 0.0243 - acc: 0.9867 - auc: 0.9782 - val_loss: 0.2366 - val_acc: 0.9049 - val_auc: 0.9783\n"
          ],
          "name": "stdout"
        }
      ]
    },
    {
      "cell_type": "code",
      "metadata": {
        "id": "mJ4JF53Ncz2_",
        "colab_type": "code",
        "colab": {}
      },
      "source": [
        "my_model.save(('drive/My Drive/models/flmdl'+ str(repr_nr) + str(start_time) + '.h5'))"
      ],
      "execution_count": 0,
      "outputs": []
    },
    {
      "cell_type": "code",
      "metadata": {
        "id": "57N6Blx9n9WN",
        "colab_type": "code",
        "outputId": "a629c68a-9e09-4185-c8f3-ea2ce9b2d004",
        "colab": {
          "base_uri": "https://localhost:8080/",
          "height": 35
        },
        "cellView": "form"
      },
      "source": [
        "#@title\n",
        "#my_model.save('flmdl.h5')\n",
        "#print('Training done. The results are in : ')\n",
        "c = grid_result.history.keys()\n",
        "print(grid_result.history.keys())\n",
        "#grid_result = validator.fit(X_train, y_frame, callbacks=[es, plot_losses]) #, class_weight = c_w)\n",
        "\n",
        "############\n"
      ],
      "execution_count": 115,
      "outputs": [
        {
          "output_type": "stream",
          "text": [
            "dict_keys(['val_loss', 'val_acc', 'val_auc', 'loss', 'acc', 'auc'])\n"
          ],
          "name": "stdout"
        }
      ]
    },
    {
      "cell_type": "code",
      "metadata": {
        "id": "TFlqEsMBijUA",
        "colab_type": "code",
        "outputId": "f49e1a85-c1fc-4db7-8ec9-f5ad451d8c90",
        "colab": {
          "base_uri": "https://localhost:8080/",
          "height": 387
        }
      },
      "source": [
        "model = my_model\n",
        "hist = grid_result\n",
        "# Final evaluation of the model\n",
        "scores_val = model.evaluate(X_val, y_val, verbose=0)\n",
        "print(\"CNN Error for val set: %.2f%%\" % (100-scores_val[1]*100))\n",
        "scores_test = model.evaluate(X_test, y_test, verbose=0)\n",
        "print(\"CNN Error for test set: %.2f%%\" % (100-scores_test[1]*100))\n",
        "\n",
        "# summarize history for accuracy\n",
        "plt.subplot(1, 3, 1)\n",
        "plt.plot(hist.history['acc'])\n",
        "plt.plot(hist.history['val_acc'])\n",
        "plt.title('model accuracy')\n",
        "plt.ylabel('accuracy')\n",
        "plt.xlabel('epoch')\n",
        "plt.legend(['train', 'val'], loc='upper left')\n",
        "plt.subplot(1, 3, 2)\n",
        "\n",
        "# summarize history for loss\n",
        "plt.plot(hist.history['loss'])\n",
        "plt.plot(hist.history['val_loss'])\n",
        "plt.title('model auc function')\n",
        "plt.ylabel('loss')\n",
        "plt.xlabel('epoch')\n",
        "plt.legend(['train', 'val'], loc='upper left')\n",
        "#plt.show()\n",
        "\n",
        "# calculate AUC of final model on a test set\n",
        "probs = model.predict_proba(X_test)\n",
        "# keep probabilities for the positive outcome only\n",
        "#probs = probs[:, 1]\n",
        "y_test2 = y_test  # osobno, bo inny wymiar\n",
        "print(np.shape(y_test2))\n",
        "print(np.shape(probs))\n",
        "\n",
        "auc = roc_auc_score(y_test2, probs)\n",
        "print('AUC: %.3f' % auc)\n",
        "\n",
        "fpr, tpr, thresholds = roc_curve(y_test2, probs)\n",
        "# plot no skill\n",
        "plt.subplot(1, 3, 3)\n",
        "pyplot.plot([0, 1], [0, 1], linestyle='--')\n",
        "# plot the roc curve for the model\n",
        "pyplot.plot(fpr, tpr, marker='.')\n",
        "# show the plot\n",
        "plt.title('ROC, test set, AUC: %.3f' % auc)\n",
        "pyplot.show()"
      ],
      "execution_count": 40,
      "outputs": [
        {
          "output_type": "stream",
          "text": [
            "CNN Error for val set: 9.51%\n",
            "CNN Error for test set: 11.24%\n",
            "(30813,)\n",
            "(30813, 1)\n",
            "AUC: 0.975\n"
          ],
          "name": "stdout"
        },
        {
          "output_type": "display_data",
          "data": {
            "image/png": "[encoded data removed]",
            "text/plain": [
              "<Figure size 432x288 with 3 Axes>"
            ]
          },
          "metadata": {
            "tags": []
          }
        }
      ]
    },
    {
      "cell_type": "code",
      "metadata": {
        "id": "oe-G8vi26sNN",
        "colab_type": "code",
        "cellView": "form",
        "colab": {}
      },
      "source": [
        "#@title\n",
        "# calculate AUC of final model on a test set\n",
        "probs = best_model.predict_proba(X_test)\n",
        "# keep probabilities for the positive outcome only\n",
        "#probs = probs[:, 1]\n",
        "y_test2 = numpy.load('drive/My Drive/y_test.npy')  # osobno, bo inny wymiar\n",
        "\n",
        "auc = roc_auc_score(y_test2, probs)\n",
        "print('AUC: %.3f' % auc)\n",
        "\n",
        "fpr, tpr, thresholds = roc_curve(y_test2, probs)\n",
        "# plot no skill\n",
        "pyplot.plot([0, 1], [0, 1], linestyle='--')\n",
        "# plot the roc curve for the model\n",
        "pyplot.plot(fpr, tpr, marker='.')\n",
        "# show the plot\n",
        "plt.title('ROC curve for test set')\n",
        "pyplot.show()\n",
        "\n",
        "with open('drive/My Drive/ES_200e.txt', 'w') as f:\n",
        "  print('Filename:', validator.best_params_, file=f)\n",
        "  print('AUC on test set: %.3f' % auc)\n",
        "  \n",
        "from sklearn.externals import joblib\n",
        "joblib.dump(grid_result.best_estimator_, 'model_200e.pkl')"
      ],
      "execution_count": 0,
      "outputs": []
    },
    {
      "cell_type": "code",
      "metadata": {
        "id": "AhYtwNmmqOVQ",
        "colab_type": "code",
        "colab": {
          "base_uri": "https://localhost:8080/",
          "height": 287
        },
        "outputId": "8bf39224-9e29-4899-abcd-ac07e5214f04"
      },
      "source": [
        "pyplot.plot(fpr, tpr, marker='.')\n",
        "pyplot.ylim(bottom=0.7)\n"
      ],
      "execution_count": 41,
      "outputs": [
        {
          "output_type": "execute_result",
          "data": {
            "text/plain": [
              "(0.7, 1.05)"
            ]
          },
          "metadata": {
            "tags": []
          },
          "execution_count": 41
        },
        {
          "output_type": "display_data",
          "data": {
            "image/png": "[encoded data removed]",
            "text/plain": [
              "<Figure size 432x288 with 1 Axes>"
            ]
          },
          "metadata": {
            "tags": []
          }
        }
      ]
    },
    {
      "cell_type": "code",
      "metadata": {
        "id": "7Q9Mkpfv-jpk",
        "colab_type": "code",
        "outputId": "2eabd45b-a701-4912-8ba4-994d8512211f",
        "colab": {
          "base_uri": "https://localhost:8080/",
          "height": 799
        }
      },
      "source": [
        "import sklearn.metrics\n",
        "from sklearn.metrics import precision_recall_curve\n",
        "from sklearn.metrics import average_precision_score\n",
        "\n",
        "start1 = 22800\n",
        "end1 = 22900\n",
        "\n",
        "\n",
        "index2 = ['r%d' % x for x in range(len(y_test))]\n",
        "a2 = [c_w[class_label] for class_label in y_test]\n",
        "\n",
        "#########\n",
        "recall = 0.90\n",
        "###########\n",
        "\n",
        "a = (np.where(tpr>recall))\n",
        "thr = thresholds[np.min(a)]  # do stworzenia confusion matrix bierzemy jakiś próg, np 90% wykrytych głosów\n",
        "print(thr)\n",
        "t2 = np.arange(0.0, end1-start1, 0.5)\n",
        "plt.figure((1))\n",
        "pyplot.plot(y_test2[start1:end1]*1.1, marker='.')\n",
        "pyplot.plot(probs[start1:end1], marker='.')\n",
        "pyplot.plot(t2, thr* np.ones(np.size(t2)), 'r-')\n",
        "pyplot.title('Exemplary true labels, predictions and threshold for chosen recall')\n",
        "\n",
        "probs_bool = probs>thr\n",
        "probs_01 = [int(elem) for elem in probs>thr]\n",
        "#cm = sklearn.metrics.confusion_matrix(y_test2, probs_01, labels=None, sample_weight=a2).ravel()\n",
        "sklearn.metrics.confusion_matrix(y_test2, probs_01, labels=None, sample_weight=a2)\n",
        "cm = sklearn.metrics.confusion_matrix(y_test2, probs_01)\n",
        "print(cm)\n",
        "\n",
        "target_names = ['class 0', 'class 1']\n",
        "print(sklearn.metrics.classification_report(y_test2, probs_01, target_names=target_names))\n",
        "f1 = sklearn.metrics.f1_score(y_test2, probs_01)\n",
        "plt.figure(2)\n",
        "precision, recall, _ = precision_recall_curve(y_test2, probs)\n",
        "plt.step(recall, precision, color='b', alpha=0.2, where='post')\n",
        "plt.fill_between(recall, precision, alpha=0.2, color='b')\n",
        "plt.xlabel('Recall')\n",
        "plt.ylabel('Precision')\n",
        "plt.ylim([0.0, 1.05])\n",
        "plt.xlim([0.0, 1.0])\n",
        "average_precision = average_precision_score(y_test2, probs)\n",
        "\n",
        "plt.title('2-class Precision-Recall curve: AP=%0.2f, F = %0.2f' %(average_precision,f1)) #{0:0.2f}"
      ],
      "execution_count": 42,
      "outputs": [
        {
          "output_type": "stream",
          "text": [
            "0.99712574\n",
            "[[29228   909]\n",
            " [   66   610]]\n",
            "              precision    recall  f1-score   support\n",
            "\n",
            "     class 0       1.00      0.97      0.98     30137\n",
            "     class 1       0.40      0.90      0.56       676\n",
            "\n",
            "    accuracy                           0.97     30813\n",
            "   macro avg       0.70      0.94      0.77     30813\n",
            "weighted avg       0.98      0.97      0.97     30813\n",
            "\n"
          ],
          "name": "stdout"
        },
        {
          "output_type": "execute_result",
          "data": {
            "text/plain": [
              "Text(0.5, 1.0, '2-class Precision-Recall curve: AP=0.60, F = 0.56')"
            ]
          },
          "metadata": {
            "tags": []
          },
          "execution_count": 42
        },
        {
          "output_type": "display_data",
          "data": {
            "image/png": "[encoded data removed]",
            "text/plain": [
              "<Figure size 432x288 with 1 Axes>"
            ]
          },
          "metadata": {
            "tags": []
          }
        },
        {
          "output_type": "display_data",
          "data": {
            "image/png": "[encoded data removed]",
            "text/plain": [
              "<Figure size 432x288 with 1 Axes>"
            ]
          },
          "metadata": {
            "tags": []
          }
        }
      ]
    },
    {
      "cell_type": "code",
      "metadata": {
        "id": "e3NYogEcemIS",
        "colab_type": "code",
        "colab": {}
      },
      "source": [
        "print(y_test2)"
      ],
      "execution_count": 0,
      "outputs": []
    },
    {
      "cell_type": "code",
      "metadata": {
        "id": "CdQr0WX6J7qp",
        "colab_type": "code",
        "cellView": "form",
        "colab": {}
      },
      "source": [
        "#@title\n",
        "print('The parameters of the best model are: ')\n",
        "print(validator.best_params_)\n",
        "\n",
        "best_model = validator.best_estimator_.model\n",
        "metric_names = best_model.metrics_names\n",
        "metric_values = best_model.evaluate(X_test, y_test)\n",
        "for metric, value in zip(metric_names, metric_values):\n",
        "  print(metric, ': ', value)\n",
        "  \n",
        "means = grid_result.cv_results_['mean_test_score']\n",
        "stds = grid_result.cv_results_['std_test_score']\n",
        "params = grid_result.cv_results_['params']\n",
        "for mean, stdev, param in zip(means, stds, params):\n",
        "  print(\"%f (%f) with: %r\" % (mean, stdev, param))\n",
        "  \n",
        "# calculate AUC of final model on a test set\n",
        "probs = best_model.predict_proba(X_test)\n",
        "# keep probabilities for the positive outcome only\n",
        "#probs = probs[:, 1]\n",
        "y_test2 = numpy.load('drive/My Drive/y_test.npy')  # osobno, bo inny wymiar\n",
        "\n",
        "auc = roc_auc_score(y_test2, probs)\n",
        "print('AUC: %.3f' % auc)\n",
        "\n",
        "fpr, tpr, thresholds = roc_curve(y_test2, probs)\n",
        "# plot no skill\n",
        "pyplot.plot([0, 1], [0, 1], linestyle='--')\n",
        "# plot the roc curve for the model\n",
        "pyplot.plot(fpr, tpr, marker='.')\n",
        "# show the plot\n",
        "plt.title('ROC curve for test set')\n",
        "pyplot.show()\n",
        "\n",
        "with open('drive/My Drive/ES_200e.txt', 'w') as f:\n",
        "  print('Filename:', validator.best_params_, file=f)\n",
        "  print('AUC on test set: %.3f' % auc)\n",
        "  \n",
        "from sklearn.externals import joblib\n",
        "joblib.dump(grid_result.best_estimator_, 'model_200e.pkl')\n"
      ],
      "execution_count": 0,
      "outputs": []
    }
  ]
}