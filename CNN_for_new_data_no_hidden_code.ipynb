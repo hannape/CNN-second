{
  "nbformat": 4,
  "nbformat_minor": 0,
  "metadata": {
    "colab": {
      "name": "CNN-for-new-data-no-hidden-code.ipynb",
      "version": "0.3.2",
      "provenance": [],
      "collapsed_sections": [],
      "include_colab_link": true
    },
    "kernelspec": {
      "name": "python3",
      "display_name": "Python 3"
    },
    "accelerator": "GPU"
  },
  "cells": [
    {
      "cell_type": "markdown",
      "metadata": {
        "id": "view-in-github",
        "colab_type": "text"
      },
      "source": [
        "<a href=\"https://colab.research.google.com/github/hannape/CNN-second/blob/master/CNN_for_new_data_no_hidden_code.ipynb\" target=\"_parent\"><img src=\"https://colab.research.google.com/assets/colab-badge.svg\" alt=\"Open In Colab\"/></a>"
      ]
    },
    {
      "cell_type": "code",
      "metadata": {
        "id": "jUs78Pg157U2",
        "colab_type": "code",
        "colab": {
          "base_uri": "https://localhost:8080/",
          "height": 128
        },
        "outputId": "60c826fb-b89d-49d8-babd-25350736ab5a"
      },
      "source": [
        "  # previous version, with hidden code and comments - cnn_scorer_not_working\n",
        "\n",
        "from google.colab import drive\n",
        "drive.mount('/content/drive')\n",
        "from __future__ import print_function\n"
      ],
      "execution_count": 1,
      "outputs": [
        {
          "output_type": "stream",
          "text": [
            "Go to this URL in a browser: https://accounts.google.com/o/oauth2/auth?client_id=947318989803-6bn6qk8qdgf4n4g3pfee6491hc0brc4i.apps.googleusercontent.com&redirect_uri=urn%3Aietf%3Awg%3Aoauth%3A2.0%3Aoob&scope=email%20https%3A%2F%2Fwww.googleapis.com%2Fauth%2Fdocs.test%20https%3A%2F%2Fwww.googleapis.com%2Fauth%2Fdrive%20https%3A%2F%2Fwww.googleapis.com%2Fauth%2Fdrive.photos.readonly%20https%3A%2F%2Fwww.googleapis.com%2Fauth%2Fpeopleapi.readonly&response_type=code\n",
            "\n",
            "Enter your authorization code:\n",
            "··········\n",
            "Mounted at /content/drive\n"
          ],
          "name": "stdout"
        }
      ]
    },
    {
      "cell_type": "markdown",
      "metadata": {
        "id": "herZA5Ea37Dy",
        "colab_type": "text"
      },
      "source": [
        "**CNNy dla nowych danych:**\n",
        "\n",
        "* jako testowe mamy te co wcześniej nagrania (6 nagrań z 2016), podzielone na 0,5sek fragmenty, z overlapem 150 ms bodajże. Całe nagrania podzielone, więc bardzo mało próbek pozytywnych będzie. 2,2% z głosami (676 bezwzględnie), sumarycznie 30813 rekordów\n",
        "* jako trening - zbalansowany zbiór ~45 nagrań półgodzinnych. Nie jest idealnie 50:50, bo jeśli było w półgodzinnym nagraniu mniej niż 50 ramek z głosami (albo wcale), to i tak dokładałam 50 losowych ramek bez głosów (jest 45:55). Sumarycznie 17293 rekordów. \n",
        "* Na razie testowana reprezentacja 3 - mel spektrogram z pipeline'a birdvoxa - projektu o nocnych migrantach w hameryce. wygląda że działa?\n",
        "\n",
        "\n",
        "\n",
        "**Pytania:**\n",
        "* używam ważenia c_w = { 0:0.01, 1:0.99} - ma to sens? Karanie za 0, nagradzanie za 1\n",
        "* po 50 epokach, model niezmieniany względem prób sprzed pół roku, AUC wychodzi rzędu 94-97% - jak to?... I nie wychodzą same zera, wręcz przeciwnie. Jest tu jakiś błąd czy po prostu jakimś cudem to po prostu działa?\n",
        "* Chyba wartoby zrobić więcej danych testowych? Może jakieś inne? Na razie są te, by można było porównać z tym wszystkim co było robione poprzednio.\n",
        "\n",
        "\n"
      ]
    },
    {
      "cell_type": "code",
      "metadata": {
        "id": "8nqDVmwo7-41",
        "colab_type": "code",
        "colab": {
          "base_uri": "https://localhost:8080/",
          "height": 35
        },
        "outputId": "1536789f-7f44-42c8-a969-ad8432d0ce36"
      },
      "source": [
        "import keras\n",
        "import numpy\n",
        "from keras.models import Sequential\n",
        "from keras.layers import Dense, Dropout, Activation, Flatten\n",
        "from keras.layers import Conv2D, MaxPooling2D\n",
        "from keras.wrappers.scikit_learn import KerasClassifier\n",
        "from keras import backend as K\n",
        "from sklearn.model_selection import GridSearchCV\n",
        "from keras.layers import Flatten\n",
        "from keras.layers.convolutional import Conv2D\n",
        "from keras.layers.convolutional import MaxPooling2D\n",
        "from keras.utils import np_utils\n",
        "from sklearn.metrics import roc_curve\n",
        "from sklearn.metrics import roc_auc_score\n",
        "from matplotlib import pyplot\n",
        "from sklearn.utils import class_weight\n",
        "from sklearn.metrics import  make_scorer\n",
        "from sklearn.metrics import log_loss\n",
        "K.set_image_dim_ordering('th')\n",
        "import numpy as np\n",
        "from sklearn import preprocessing\n",
        "import glob\n",
        "import os\n",
        "import random\n",
        "import functools\n",
        "import pandas as pd\n",
        "from sklearn.model_selection import train_test_split\n",
        "import matplotlib.pyplot as plt"
      ],
      "execution_count": 2,
      "outputs": [
        {
          "output_type": "stream",
          "text": [
            "Using TensorFlow backend.\n"
          ],
          "name": "stderr"
        }
      ]
    },
    {
      "cell_type": "code",
      "metadata": {
        "id": "yoTmkRPI4vwX",
        "colab_type": "code",
        "outputId": "9efe1241-53c0-41b0-f664-11d3eed0361b",
        "colab": {
          "base_uri": "https://localhost:8080/",
          "height": 250
        }
      },
      "source": [
        "from numpy.random import seed\n",
        "seed(667)\n",
        "from tensorflow import set_random_seed\n",
        "set_random_seed(667)\n",
        "import random\n",
        "random.seed()\n",
        "\n",
        "## Reprezentacja 3 na razie sprawdzana  - czyli mel-spektrogram z birdvoxa, z zawężonym zakresem częstotliwości\n",
        "\n",
        "X_train1 = numpy.load('drive/My Drive/repr7/X_train_rep3.npy', allow_pickle=True)\n",
        "y_train1 = numpy.load('drive/My Drive/repr7/y_train.npy', allow_pickle=True)\n",
        "X_test1 = numpy.load('drive/My Drive/repr7/X_test_rep3.npy', allow_pickle=True)\n",
        "y_test1 = numpy.load('drive/My Drive/repr7/y_test.npy', allow_pickle=True)\n",
        "X_train, X_val, y_train, y_val = train_test_split(X_train1, y_train1, test_size=0.2, random_state=667)\n",
        "exemp = 4# exemplary frame\n",
        "plt.imshow(X_val[exemp], cmap=\"jet\")\n",
        "print(y_val[exemp])\n",
        "r = np.shape(X_val)[1]\n",
        "s = np.shape(X_val)[2]\n",
        "\n",
        "X_train = X_train.reshape(X_train.shape[0], 1, r, s).astype('float32')\n",
        "X_val = X_val.reshape(X_val.shape[0], 1, r, s).astype('float32')\n",
        "X_test = X_test1.reshape(X_test1.shape[0], 1, r, s).astype('float32')\n",
        "y_test = np.squeeze(y_test1)\n",
        "input_shape = (1, r, s)\n"
      ],
      "execution_count": 3,
      "outputs": [
        {
          "output_type": "stream",
          "text": [
            "1\n"
          ],
          "name": "stdout"
        },
        {
          "output_type": "display_data",
          "data": {
            "image/png": "[encoded data removed]",
            "text/plain": [
              "<Figure size 432x288 with 1 Axes>"
            ]
          },
          "metadata": {
            "tags": []
          }
        }
      ]
    },
    {
      "cell_type": "code",
      "metadata": {
        "id": "VKGfhskBZVkD",
        "colab_type": "code",
        "colab": {}
      },
      "source": [
        "\n",
        "### definiowanie wag \n",
        "for_zeros = 0.001\n",
        "for_ones = 0.999\n",
        "###\n",
        "\n",
        "c_w = { 0:for_zeros, 1:for_ones}# { 0:0.02, 1:0.98}  # tak było, jeśli w trening wrzucamy całe nagranie. teraz mamy zbalansowany zbiór\n",
        "index = ['r%d' % x for x in range(len(y_train))]\n",
        "a = [c_w[class_label] for class_label in y_train]\n",
        "sample_weight_frame = pd.DataFrame(a, index = index)\n",
        "score_params = {\"sample_weight\": sample_weight_frame}\n",
        "#print(sample_weight_frame[0:5])\n"
      ],
      "execution_count": 0,
      "outputs": []
    },
    {
      "cell_type": "code",
      "metadata": {
        "id": "yFE3UDjTMJ9x",
        "colab_type": "code",
        "colab": {}
      },
      "source": [
        "# https://github.com/keras-team/keras/issues/2115\n",
        "\n",
        "### SCORERS\n",
        "import tensorflow as tf\n",
        "import functools\n",
        "from functools import partial, update_wrapper\n",
        "\n",
        "def my_score(y_true, y_pred, sample_weight): \n",
        "  return log_loss(y_true.values, y_pred, sample_weight=sample_weight.loc[y_true.index.values].values.reshape(-1), normalize=True)\n",
        "\n",
        "##  potrzebne do zdefiniowania scorera w gridsearchu, wzięte stąd https://stackoverflow.com/questions/49581104/sklearn-gridsearchcv-not-using-sample-weight-in-score-function\n",
        "'''\n",
        "def wrapped_partial(func, *args, **kwargs):\n",
        "\tpartial_func = partial(func, *args, **kwargs)\n",
        "\tupdate_wrapper(partial_func, func)\n",
        "\treturn partial_func '''\n",
        "\n",
        "def binary_crossentropy_weigted(y_true, y_pred, class_weights):\n",
        "\ty_pred = K.clip(y_pred, K.epsilon(), 1.0 - K.epsilon())\n",
        "\tloss = K.mean(class_weights*(-y_true * K.log(y_pred) - (1.0 - y_true) * K.log(1.0 - y_pred)),axis=-1)\n",
        "\treturn loss\n",
        "\n",
        "my_scorer = make_scorer(my_score,greater_is_better=False, needs_threshold=False,**score_params)  ## scoring for gridsearchCV\n",
        "#custom_loss = wrapped_partial(binary_crossentropy_weigted, class_weights=np.array([0.02, 0.98])) ## scoring for model.compile\n",
        "custom_loss2 = partial(binary_crossentropy_weigted, class_weights=np.array([for_zeros,for_ones])) ## scoring for model.compile\n",
        "custom_loss2.__name__ ='binary_crossentropy_weigted'\n",
        "\n",
        "\n",
        "## AUC METRIC\n",
        "def as_keras_metric(method):\n",
        "    import functools\n",
        "    from keras import backend as K\n",
        "    \n",
        "    @functools.wraps(method)\n",
        "    def wrapper(self, args, **kwargs):\n",
        "        \"\"\" Wrapper for turning tensorflow metrics into keras metrics \"\"\"\n",
        "        value, update_op = method(self, args, **kwargs)\n",
        "        K.get_session().run(tf.local_variables_initializer())\n",
        "        with tf.control_dependencies([update_op]):\n",
        "            value = tf.identity(value)\n",
        "        return value\n",
        "    return wrapper\n",
        "  \n",
        "auc_roc = as_keras_metric(tf.metrics.auc)\n"
      ],
      "execution_count": 0,
      "outputs": []
    },
    {
      "cell_type": "markdown",
      "metadata": {
        "id": "5VoHqo92-BG1",
        "colab_type": "text"
      },
      "source": [
        "**BUILDING THE MODEL**"
      ]
    },
    {
      "cell_type": "code",
      "metadata": {
        "id": "pDsoy0g8VlB5",
        "colab_type": "code",
        "colab": {}
      },
      "source": [
        "def make_model_modified(): #(dense_layer_sizes,filters, kernel_size,pool_size,lr, drop_out):\n",
        "  \n",
        "    dense_layer_sizes=128\n",
        "    filters=10\n",
        "    kernel_size=(3,3) #(3,3)\n",
        "    pool_size= (2,2) \n",
        "    lr=0.0001 \n",
        "    drop_out = 0.5\n",
        "        \n",
        "    model = Sequential()\n",
        "    model.add(Conv2D(filters, kernel_size,input_shape=input_shape, activation='relu'))\n",
        "   # model.add(Conv2D(16, (3, 3), input_shape=input_shape ))\n",
        "\n",
        "    model.add(MaxPooling2D(pool_size=pool_size))\n",
        "    model.add(Conv2D(filters, kernel_size, activation='relu'))\n",
        "    model.add(MaxPooling2D(pool_size=pool_size))\n",
        "    model.add(Conv2D(filters, kernel_size, activation='relu'))\n",
        "    model.add(MaxPooling2D(pool_size=pool_size))\n",
        "    \n",
        "    \n",
        "    model.add(Flatten())\n",
        "    model.add(Dense(dense_layer_sizes, activation='relu'))\n",
        "    model.add(Dropout(drop_out))\n",
        "    model.add(Dense(32, activation='relu'))\n",
        "    model.add(Dropout(drop_out))\n",
        "    model.add(Dense(1, activation='sigmoid'))\n",
        "    \n",
        "    model.compile(loss=custom_loss2,#'binary_crossentropy',#loss_2_args(y_true, y_pred)'',#loss='binary_crossentropy'\n",
        "                  # co tu powinno wejść? o samo co do scoring w GridSearchCv? chyba nie: https://stackoverflow.com/questions/40572743/scikit-learn-grid-search-own-scoring-object-syntax\n",
        "                  # my_score2(sample_weight = sample_weight_frame), <------------------- nie umiem zrobić by działał tutaj. Która funkcja? my_score czy my_scorer ?\n",
        "                  # my_score2(sample_weight_frame) ---->  https://stackoverflow.com/questions/46858016/keras-custom-loss-function-to-pass-arguments-other-than-y-true-and-y-pred\n",
        "                  # my_loss ---------------------------->też nie chodzi a chyba powinien, coś z formatem nie tak.  ERROR: 'Tensor' object has no attribute 'values'\n",
        "                  # inne źródło: https://github.com/keras-team/keras/issues/2115\n",
        "                  optimizer='adam',#keras.optimizers.Adam(lr),#'adam',\n",
        "                  metrics=['accuracy',auc_roc])\n",
        "\n",
        "    return model"
      ],
      "execution_count": 0,
      "outputs": []
    },
    {
      "cell_type": "code",
      "metadata": {
        "id": "3u3E2y961-yr",
        "colab_type": "code",
        "colab": {}
      },
      "source": [
        "def simple_model(): #(dense_layer_sizes,filters, kernel_size,pool_size,lr, drop_out):\n",
        "  \n",
        "    dense_layer_sizes=128\n",
        "    filters=10\n",
        "    kernel_size=(3,3) #(3,3)\n",
        "    pool_size= (2,2) \n",
        "    drop_out = 0.5\n",
        "        \n",
        "    model = Sequential()\n",
        "    model.add(Conv2D(filters, kernel_size,input_shape=input_shape, activation='relu'))\n",
        "    model.add(MaxPooling2D(pool_size=pool_size))\n",
        "    \n",
        "    model.add(Conv2D(filters, kernel_size, activation='relu')) # simple2, dodane te 2 warstwy\n",
        "    model.add(MaxPooling2D(pool_size=pool_size)) \n",
        "      \n",
        "    model.add(Flatten())\n",
        "    model.add(Dense(dense_layer_sizes, activation='relu')) # simple3, dodane te 2 warstwy\n",
        "    model.add(Dropout(drop_out))\n",
        "    model.add(Dense(32, activation='relu'))\n",
        "    model.add(Dropout(drop_out))\n",
        "    model.add(Dense(1, activation='sigmoid'))\n",
        "    \n",
        "    model.compile(loss=custom_loss2,optimizer='adam',metrics=['accuracy',auc_roc])\n",
        "\n",
        "    return model"
      ],
      "execution_count": 0,
      "outputs": []
    },
    {
      "cell_type": "markdown",
      "metadata": {
        "id": "9_eTsmytevw4",
        "colab_type": "text"
      },
      "source": [
        "\n",
        "**UKKYBIRDDET MODEL** // not here\n"
      ]
    },
    {
      "cell_type": "markdown",
      "metadata": {
        "id": "59IhKe5b95g-",
        "colab_type": "text"
      },
      "source": [
        "**GRID SEARCH** // none here\n",
        "\n"
      ]
    },
    {
      "cell_type": "markdown",
      "metadata": {
        "id": "4-qM-uurO5TP",
        "colab_type": "text"
      },
      "source": [
        "**CALLBACKS** // costamcostam\n"
      ]
    },
    {
      "cell_type": "code",
      "metadata": {
        "id": "qC9TynBWTR0E",
        "colab_type": "code",
        "outputId": "a8ea14ca-9f8a-48c7-a00b-5dd66974312e",
        "colab": {
          "base_uri": "https://localhost:8080/",
          "height": 1000
        }
      },
      "source": [
        "# dense_layer_sizes,filters, kernel_size,pool_size,lr, drop_out)\n",
        "#my_classifier2 = KerasClassifier(make_model_modified(128,10,(3,3),(2,2),0.001,0.5))\n",
        "\n",
        "#################################\n",
        "\n",
        "repr_nr = '_rep3_'  \n",
        "#my_model = make_model_modified() #make_model_ukybirddet()\n",
        "my_model=simple_model()\n",
        "\n",
        "#################################\n",
        "from keras.callbacks import EarlyStopping\n",
        "from keras.callbacks import LearningRateScheduler, CSVLogger\n",
        "import math\n",
        "import datetime\n",
        "now = datetime.datetime.now()\n",
        "start_time = str(now.year)+str('-')+str(now.month)+str('-')+str(now.day)+str('_')+str(now.hour+2)+str(':')+str(now.minute)\n",
        "n_epochs = 30\n",
        "\n",
        "'''\n",
        "def step_decay(epoch):\n",
        "\tinitial_lrate = 0.001\n",
        "\tdrop = 0.1\n",
        "\tepochs_drop = 30.0\n",
        "\tlrate = initial_lrate * math.pow(drop, math.floor((1+epoch)/epochs_drop))\n",
        "\t#print(lrate)\n",
        "\treturn lrate\n",
        "\n",
        "keras.callbacks.CSVLogger('', separator=',', append=False)\n",
        "\n",
        "lrate = LearningRateScheduler(step_decay)\n",
        "csv_logger = CSVLogger('drive/My Drive/przebiegi/training_150e_001_01_co30_3.log')\n",
        "#es = EarlyStopping(monitor='val_loss', min_delta=0.001, patience=30, mode='max', baseline=None, restore_best_weights=True)\n",
        "'''\n",
        "\n",
        "y_frame = pd.DataFrame(y_train, index=index)\n",
        "\n",
        "grid_result = my_model.fit(X_train, y_frame, batch_size = 32, epochs = n_epochs,validation_data=(X_val, y_val), verbose = 2) #, class_weight = c_w)\n",
        "\n",
        "\n",
        "#grid_result = my_model.fit(X_train, y_frame, batch_size = 32, callbacks=[plot_losses, csv_logger, lrate, histories], epochs=150,validation_data=(X_val, y_val), verbose = 2) #, class_weight = c_w)\n",
        "# [es, plot_losses, lrate, csv_logger, histories]\n",
        "#my_model.save(('flmdl'+ repr_nr + start_time + '.h5'))\n",
        "#print('Training done. The results are in : ')\n",
        "\n"
      ],
      "execution_count": 70,
      "outputs": [
        {
          "output_type": "stream",
          "text": [
            "Train on 13834 samples, validate on 3459 samples\n",
            "Epoch 1/30\n",
            " - 4s - loss: 0.3644 - acc: 0.5562 - auc: 0.5186 - val_loss: 0.3434 - val_acc: 0.5574 - val_auc: 0.5183\n",
            "Epoch 2/30\n",
            " - 3s - loss: 0.3436 - acc: 0.5552 - auc: 0.5164 - val_loss: 0.3432 - val_acc: 0.5577 - val_auc: 0.5149\n",
            "Epoch 3/30\n",
            " - 3s - loss: 0.3392 - acc: 0.5778 - auc: 0.5206 - val_loss: 0.3430 - val_acc: 0.5577 - val_auc: 0.5238\n",
            "Epoch 4/30\n",
            " - 3s - loss: 0.3125 - acc: 0.6459 - auc: 0.5291 - val_loss: 0.2229 - val_acc: 0.8173 - val_auc: 0.5702\n",
            "Epoch 5/30\n",
            " - 3s - loss: 0.2323 - acc: 0.7929 - auc: 0.6132 - val_loss: 0.1872 - val_acc: 0.8471 - val_auc: 0.6524\n",
            "Epoch 6/30\n",
            " - 3s - loss: 0.2000 - acc: 0.8348 - auc: 0.6838 - val_loss: 0.1817 - val_acc: 0.8566 - val_auc: 0.7103\n",
            "Epoch 7/30\n",
            " - 3s - loss: 0.2016 - acc: 0.8311 - auc: 0.7289 - val_loss: 0.1758 - val_acc: 0.8612 - val_auc: 0.7460\n",
            "Epoch 8/30\n",
            " - 3s - loss: 0.1829 - acc: 0.8508 - auc: 0.7607 - val_loss: 0.1743 - val_acc: 0.8638 - val_auc: 0.7736\n",
            "Epoch 9/30\n",
            " - 3s - loss: 0.1733 - acc: 0.8610 - auc: 0.7852 - val_loss: 0.1690 - val_acc: 0.8716 - val_auc: 0.7954\n",
            "Epoch 10/30\n",
            " - 3s - loss: 0.1607 - acc: 0.8741 - auc: 0.8048 - val_loss: 0.1666 - val_acc: 0.8696 - val_auc: 0.8133\n",
            "Epoch 11/30\n",
            " - 3s - loss: 0.1584 - acc: 0.8765 - auc: 0.8207 - val_loss: 0.1767 - val_acc: 0.8641 - val_auc: 0.8270\n",
            "Epoch 12/30\n",
            " - 3s - loss: 0.1558 - acc: 0.8784 - auc: 0.8329 - val_loss: 0.1793 - val_acc: 0.8581 - val_auc: 0.8379\n",
            "Epoch 13/30\n",
            " - 3s - loss: 0.1518 - acc: 0.8833 - auc: 0.8427 - val_loss: 0.1631 - val_acc: 0.8780 - val_auc: 0.8472\n",
            "Epoch 14/30\n",
            " - 3s - loss: 0.1470 - acc: 0.8876 - auc: 0.8515 - val_loss: 0.1631 - val_acc: 0.8774 - val_auc: 0.8555\n",
            "Epoch 15/30\n",
            " - 3s - loss: 0.1408 - acc: 0.8922 - auc: 0.8594 - val_loss: 0.1684 - val_acc: 0.8760 - val_auc: 0.8627\n",
            "Epoch 16/30\n",
            " - 3s - loss: 0.1357 - acc: 0.8954 - auc: 0.8660 - val_loss: 0.1592 - val_acc: 0.8832 - val_auc: 0.8691\n",
            "Epoch 17/30\n",
            " - 3s - loss: 0.1305 - acc: 0.9018 - auc: 0.8723 - val_loss: 0.1625 - val_acc: 0.8754 - val_auc: 0.8750\n",
            "Epoch 18/30\n",
            " - 3s - loss: 0.1266 - acc: 0.9036 - auc: 0.8777 - val_loss: 0.1606 - val_acc: 0.8823 - val_auc: 0.8803\n",
            "Epoch 19/30\n",
            " - 3s - loss: 0.1240 - acc: 0.9062 - auc: 0.8828 - val_loss: 0.1662 - val_acc: 0.8786 - val_auc: 0.8849\n",
            "Epoch 20/30\n",
            " - 3s - loss: 0.1192 - acc: 0.9129 - auc: 0.8872 - val_loss: 0.1610 - val_acc: 0.8818 - val_auc: 0.8893\n",
            "Epoch 21/30\n",
            " - 3s - loss: 0.1145 - acc: 0.9156 - auc: 0.8915 - val_loss: 0.1723 - val_acc: 0.8858 - val_auc: 0.8935\n",
            "Epoch 22/30\n",
            " - 3s - loss: 0.1130 - acc: 0.9191 - auc: 0.8953 - val_loss: 0.1766 - val_acc: 0.8841 - val_auc: 0.8971\n",
            "Epoch 23/30\n",
            " - 3s - loss: 0.1213 - acc: 0.9115 - auc: 0.8988 - val_loss: 0.1672 - val_acc: 0.8763 - val_auc: 0.9000\n",
            "Epoch 24/30\n",
            " - 3s - loss: 0.1693 - acc: 0.8641 - auc: 0.9003 - val_loss: 0.1642 - val_acc: 0.8794 - val_auc: 0.9009\n",
            "Epoch 25/30\n",
            " - 3s - loss: 0.1496 - acc: 0.8835 - auc: 0.9016 - val_loss: 0.1721 - val_acc: 0.8766 - val_auc: 0.9022\n",
            "Epoch 26/30\n",
            " - 3s - loss: 0.1324 - acc: 0.8977 - auc: 0.9031 - val_loss: 0.1673 - val_acc: 0.8873 - val_auc: 0.9041\n",
            "Epoch 27/30\n",
            " - 3s - loss: 0.1241 - acc: 0.9062 - auc: 0.9051 - val_loss: 0.1584 - val_acc: 0.8956 - val_auc: 0.9062\n",
            "Epoch 28/30\n",
            " - 3s - loss: 0.1174 - acc: 0.9121 - auc: 0.9073 - val_loss: 0.1582 - val_acc: 0.8985 - val_auc: 0.9083\n",
            "Epoch 29/30\n",
            " - 3s - loss: 0.1164 - acc: 0.9167 - auc: 0.9094 - val_loss: 0.1589 - val_acc: 0.8890 - val_auc: 0.9103\n",
            "Epoch 30/30\n",
            " - 3s - loss: 0.1006 - acc: 0.9288 - auc: 0.9114 - val_loss: 0.1613 - val_acc: 0.8904 - val_auc: 0.9125\n"
          ],
          "name": "stdout"
        }
      ]
    },
    {
      "cell_type": "code",
      "metadata": {
        "id": "TFlqEsMBijUA",
        "colab_type": "code",
        "outputId": "45246215-24be-481f-c27d-785a1a100aca",
        "colab": {
          "base_uri": "https://localhost:8080/",
          "height": 422
        }
      },
      "source": [
        "model = my_model\n",
        "hist = grid_result\n",
        "\n",
        "# Final evaluation of the model   ##### Nie wiem skąd to wzięłam, chyba stąd? https://www.kaggle.com/ashishguptajiit/cnn-using-keras-accuracy-after-10-epochs-98-89\n",
        "'''scores_val = model.evaluate(X_val, y_val, verbose=0)\n",
        "print(\"CNN Error for val set: %.2f%%\" % (100-scores_val[1]*100))\n",
        "scores_test = model.evaluate(X_test, y_test, verbose=0)\n",
        "print(\"CNN Error for test set: %.2f%%\" % (100-scores_test[1]*100)) '''\n",
        "\n",
        "scoreV = model.evaluate(X_val, y_val, verbose=0)\n",
        "print('Validation score: %.3f' % scoreV[0]) # działa tylko jak jest ostatnie i nie ma printow przed nim f\"Validation score: {scoreV[0]}.\"\n",
        "print('Validation accuracy: %.3f'% scoreV[1])\n",
        "\n",
        "scoreT = model.evaluate(X_test, y_test, verbose=0)\n",
        "print('Test score: %.3f' % scoreT[0])\n",
        "print('Test accuracy: %.3f' % scoreT[1])\n",
        "\n",
        "# summarize history for accuracy\n",
        "plt.subplot(1, 3, 1)\n",
        "plt.plot(hist.history['acc'])\n",
        "plt.plot(hist.history['val_acc'])\n",
        "plt.title('model accuracy')\n",
        "plt.ylabel('accuracy')\n",
        "plt.xlabel('epoch')\n",
        "plt.legend(['train', 'val'], loc='upper left')\n",
        "plt.subplot(1, 3, 2)\n",
        "\n",
        "# summarize history for loss\n",
        "plt.plot(hist.history['loss'])\n",
        "plt.plot(hist.history['val_loss'])\n",
        "plt.title('model auc function')\n",
        "plt.ylabel('loss')\n",
        "plt.xlabel('epoch')\n",
        "plt.legend(['train', 'val'], loc='upper left')\n",
        "#plt.show()\n",
        "\n",
        "# calculate AUC of final model on a test set\n",
        "probs = model.predict_proba(X_test)\n",
        "# keep probabilities for the positive outcome only\n",
        "#probs = probs[:, 1]\n",
        "y_test2 = y_test  # osobno, bo inny wymiar\n",
        "print(np.shape(y_test2))\n",
        "print(np.shape(probs))\n",
        "\n",
        "auc = roc_auc_score(y_test2, probs)\n",
        "print('AUC: %.3f' % auc)\n",
        "\n",
        "my_model.save(('drive/My Drive/models/flmdl'+ str(repr_nr) + str(start_time) + '-' + str(n_epochs) + 'ep-' + str(for_zeros) + '-'+ str(for_ones)+ '-AUC:'+str(round(auc*10000)/10000) + 'simple2.h5')) \n",
        "\n",
        "# z samym custom_loss2 nie da się zapisać modelu, bo nie ma tego __name__\n",
        "## wygląda na to, że tą definicję wrapped_partial wzięłam stąd, by to __name__ było dziedziczone czy coś http://louistiao.me/posts/adding-__name__-and-__doc__-attributes-to-functoolspartial-objects/ \n",
        "## \"An actual example where missing a __name__ is a major issue is when working with libraries with interfaces that require it\" - i to jest ten przypadek najpewniej \n",
        "# Znalazłam jeszcze obejście, po prostu dodać custom_loss2.__name__ ='binary_crossentropy_weigted' (https://github.com/keras-team/keras/issues/2115)\n",
        "\n",
        "fpr, tpr, thresholds = roc_curve(y_test2, probs)\n",
        "# plot no skill\n",
        "plt.subplot(1, 3, 3)\n",
        "pyplot.plot([0, 1], [0, 1], linestyle='--')\n",
        "# plot the roc curve for the model\n",
        "pyplot.plot(fpr, tpr, marker='.')\n",
        "# show the plot\n",
        "plt.title('ROC, test set, AUC: %.3f' % auc)\n",
        "pyplot.show()"
      ],
      "execution_count": 71,
      "outputs": [
        {
          "output_type": "stream",
          "text": [
            "Validation score: 0.161\n",
            "Validation accuracy: 0.890\n",
            "Test score: 0.247\n",
            "Test accuracy: 0.879\n",
            "(30813,)\n",
            "(30813, 1)\n",
            "AUC: 0.936\n"
          ],
          "name": "stdout"
        },
        {
          "output_type": "display_data",
          "data": {
            "image/png": "[encoded data removed]",
            "text/plain": [
              "<Figure size 432x288 with 3 Axes>"
            ]
          },
          "metadata": {
            "tags": []
          }
        }
      ]
    },
    {
      "cell_type": "code",
      "metadata": {
        "id": "AhYtwNmmqOVQ",
        "colab_type": "code",
        "outputId": "f27488a8-8c24-4b30-cdb6-8e00a0c6d52a",
        "colab": {
          "base_uri": "https://localhost:8080/",
          "height": 287
        }
      },
      "source": [
        "pyplot.plot(fpr, tpr, marker='.')\n",
        "pyplot.ylim(bottom=0.7)\n"
      ],
      "execution_count": 72,
      "outputs": [
        {
          "output_type": "execute_result",
          "data": {
            "text/plain": [
              "(0.7, 1.05)"
            ]
          },
          "metadata": {
            "tags": []
          },
          "execution_count": 72
        },
        {
          "output_type": "display_data",
          "data": {
            "image/png": "[encoded data removed]",
            "text/plain": [
              "<Figure size 432x288 with 1 Axes>"
            ]
          },
          "metadata": {
            "tags": []
          }
        }
      ]
    },
    {
      "cell_type": "code",
      "metadata": {
        "id": "7Q9Mkpfv-jpk",
        "colab_type": "code",
        "outputId": "76479d4d-a1e9-4be8-8cb4-21b0c9f561bb",
        "colab": {
          "base_uri": "https://localhost:8080/",
          "height": 796
        }
      },
      "source": [
        "import sklearn.metrics\n",
        "from sklearn.metrics import precision_recall_curve\n",
        "from sklearn.metrics import average_precision_score\n",
        "\n",
        "start1 = 22800\n",
        "end1 = 22900\n",
        "\n",
        "\n",
        "index2 = ['r%d' % x for x in range(len(y_test))]\n",
        "a2 = [c_w[class_label] for class_label in y_test]\n",
        "\n",
        "#########\n",
        "recall = 0.9                # do stworzenia confusion matrix bierzemy jakiś próg, np 90% wykrytych głosów\n",
        "###########\n",
        "\n",
        "a = (np.where(tpr>recall))\n",
        "thr = thresholds[np.min(a)]  # do stworzenia confusion matrix bierzemy jakiś próg, np 90% wykrytych głosów\n",
        "print(thr)\n",
        "t2 = np.arange(0.0, end1-start1, 0.5)\n",
        "plt.figure((1))\n",
        "pyplot.plot(y_test2[start1:end1]*1.1, marker='.')\n",
        "pyplot.plot(probs[start1:end1], marker='.')\n",
        "pyplot.plot(t2, thr* np.ones(np.size(t2)), 'r-')\n",
        "pyplot.title('Exemplary true labels, predictions and threshold for chosen recall')\n",
        "\n",
        "probs_bool = probs>thr\n",
        "probs_01 = [int(elem) for elem in probs>thr]\n",
        "#cm = sklearn.metrics.confusion_matrix(y_test2, probs_01, labels=None, sample_weight=a2).ravel()\n",
        "sklearn.metrics.confusion_matrix(y_test2, probs_01, labels=None, sample_weight=a2)\n",
        "cm = sklearn.metrics.confusion_matrix(y_test2, probs_01)\n",
        "print(cm)\n",
        "\n",
        "target_names = ['class 0', 'class 1']\n",
        "print(sklearn.metrics.classification_report(y_test2, probs_01, target_names=target_names))\n",
        "f1 = sklearn.metrics.f1_score(y_test2, probs_01)\n",
        "plt.figure(2)\n",
        "precision, recall, _ = precision_recall_curve(y_test2, probs)\n",
        "plt.step(recall, precision, color='b', alpha=0.2, where='post')\n",
        "plt.fill_between(recall, precision, alpha=0.2, color='b')\n",
        "plt.xlabel('Recall')\n",
        "plt.ylabel('Precision')\n",
        "plt.ylim([0.0, 1.05])\n",
        "plt.xlim([0.0, 1.0])\n",
        "average_precision = average_precision_score(y_test2, probs)\n",
        "\n",
        "plt.title('2-class Precision-Recall curve: AP=%0.2f, F = %0.2f' %(average_precision,f1)) #{0:0.2f}"
      ],
      "execution_count": 73,
      "outputs": [
        {
          "output_type": "stream",
          "text": [
            "0.34126565\n",
            "[[23487  6650]\n",
            " [   68   608]]\n",
            "              precision    recall  f1-score   support\n",
            "\n",
            "     class 0       1.00      0.78      0.87     30137\n",
            "     class 1       0.08      0.90      0.15       676\n",
            "\n",
            "    accuracy                           0.78     30813\n",
            "   macro avg       0.54      0.84      0.51     30813\n",
            "weighted avg       0.98      0.78      0.86     30813\n",
            "\n"
          ],
          "name": "stdout"
        },
        {
          "output_type": "execute_result",
          "data": {
            "text/plain": [
              "Text(0.5, 1.0, '2-class Precision-Recall curve: AP=0.53, F = 0.15')"
            ]
          },
          "metadata": {
            "tags": []
          },
          "execution_count": 73
        },
        {
          "output_type": "display_data",
          "data": {
            "image/png": "[encoded data removed]",
            "text/plain": [
              "<Figure size 432x288 with 1 Axes>"
            ]
          },
          "metadata": {
            "tags": []
          }
        },
        {
          "output_type": "display_data",
          "data": {
            "image/png": "[encoded data removed]",
            "text/plain": [
              "<Figure size 432x288 with 1 Axes>"
            ]
          },
          "metadata": {
            "tags": []
          }
        }
      ]
    },
    {
      "cell_type": "code",
      "metadata": {
        "id": "pHL2lpeEZwrv",
        "colab_type": "code",
        "colab": {}
      },
      "source": [
        ""
      ],
      "execution_count": 0,
      "outputs": []
    }
  ]
}