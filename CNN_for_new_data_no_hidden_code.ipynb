{
  "nbformat": 4,
  "nbformat_minor": 0,
  "metadata": {
    "colab": {
      "name": "CNN-for-new-data-no-hidden-code.ipynb",
      "version": "0.3.2",
      "provenance": [],
      "collapsed_sections": [],
      "include_colab_link": true
    },
    "kernelspec": {
      "name": "python3",
      "display_name": "Python 3"
    },
    "accelerator": "GPU"
  },
  "cells": [
    {
      "cell_type": "markdown",
      "metadata": {
        "id": "view-in-github",
        "colab_type": "text"
      },
      "source": [
        "<a href=\"https://colab.research.google.com/github/hannape/CNN-second/blob/master/CNN_for_new_data_no_hidden_code.ipynb\" target=\"_parent\"><img src=\"https://colab.research.google.com/assets/colab-badge.svg\" alt=\"Open In Colab\"/></a>"
      ]
    },
    {
      "cell_type": "code",
      "metadata": {
        "id": "jUs78Pg157U2",
        "colab_type": "code",
        "colab": {}
      },
      "source": [
        "  # previous version, with hidden code and comments - cnn_scorer_not_working\n",
        "\n",
        "from google.colab import drive\n",
        "drive.mount('/content/drive')\n",
        "from __future__ import print_function\n"
      ],
      "execution_count": 0,
      "outputs": []
    },
    {
      "cell_type": "markdown",
      "metadata": {
        "id": "herZA5Ea37Dy",
        "colab_type": "text"
      },
      "source": [
        "**CNNy dla nowych danych:**\n",
        "\n",
        "* jako testowe mamy te co wcześniej nagrania (6 nagrań z 2016), podzielone na 0,5sek fragmenty, z overlapem 150 ms bodajże. Całe nagrania podzielone, więc bardzo mało próbek pozytywnych będzie. 2,2% z głosami (676 bezwzględnie), sumarycznie 30813 rekordów\n",
        "* jako trening - zbalansowany zbiór ~45 nagrań półgodzinnych. Nie jest idealnie 50:50, bo jeśli było w półgodzinnym nagraniu mniej niż 50 ramek z głosami (albo wcale), to i tak dokładałam 50 losowych ramek bez głosów (jest 45:55). Sumarycznie 17293 rekordów. \n",
        "* Na razie testowana reprezentacja 3 - mel spektrogram z pipeline'a birdvoxa - projektu o nocnych migrantach w hameryce. wygląda że działa?\n",
        "\n",
        "\n",
        "\n",
        "**Pytania:**\n",
        "* używam ważenia c_w = { 0:0.01, 1:0.99} - ma to sens? Karanie za 0, nagradzanie za 1\n",
        "* po 50 epokach, model niezmieniany względem prób sprzed pół roku, AUC wychodzi rzędu 94-97% - jak to?... I nie wychodzą same zera, wręcz przeciwnie. Jest tu jakiś błąd czy po prostu jakimś cudem to po prostu działa?\n",
        "* Chyba wartoby zrobić więcej danych testowych? Może jakieś inne? Na razie są te, by można było porównać z tym wszystkim co było robione poprzednio.\n",
        "\n",
        "\n"
      ]
    },
    {
      "cell_type": "code",
      "metadata": {
        "id": "8nqDVmwo7-41",
        "colab_type": "code",
        "colab": {}
      },
      "source": [
        "import keras\n",
        "import numpy\n",
        "from keras.models import Sequential\n",
        "from keras.layers import Dense, Dropout, Activation, Flatten\n",
        "from keras.layers import Conv2D, MaxPooling2D\n",
        "from keras.wrappers.scikit_learn import KerasClassifier\n",
        "from keras import backend as K\n",
        "from sklearn.model_selection import GridSearchCV\n",
        "from keras.layers import Flatten\n",
        "from keras.layers.convolutional import Conv2D\n",
        "from keras.layers.convolutional import MaxPooling2D\n",
        "from keras.utils import np_utils\n",
        "from sklearn.metrics import roc_curve\n",
        "from sklearn.metrics import roc_auc_score\n",
        "from matplotlib import pyplot\n",
        "from sklearn.utils import class_weight\n",
        "from sklearn.metrics import  make_scorer\n",
        "from sklearn.metrics import log_loss\n",
        "K.set_image_dim_ordering('th')\n",
        "import numpy as np\n",
        "from sklearn import preprocessing\n",
        "import glob\n",
        "import os\n",
        "import random\n",
        "import functools\n",
        "import pandas as pd\n",
        "from sklearn.model_selection import train_test_split\n",
        "import matplotlib.pyplot as plt"
      ],
      "execution_count": 0,
      "outputs": []
    },
    {
      "cell_type": "code",
      "metadata": {
        "id": "yoTmkRPI4vwX",
        "colab_type": "code",
        "outputId": "345a2aba-46f7-47ea-9a56-1a534fefd6fa",
        "colab": {
          "base_uri": "https://localhost:8080/",
          "height": 250
        }
      },
      "source": [
        "from numpy.random import seed\n",
        "seed(667)\n",
        "from tensorflow import set_random_seed\n",
        "set_random_seed(667)\n",
        "import random\n",
        "random.seed()\n",
        "\n",
        "## Reprezentacja 3 na razie sprawdzana  - czyli mel-spektrogram z birdvoxa, z zawężonym zakresem częstotliwości\n",
        "\n",
        "X_train1 = numpy.load('drive/My Drive/repr7/X_train_rep3.npy', allow_pickle=True)\n",
        "y_train1 = numpy.load('drive/My Drive/repr7/y_train.npy', allow_pickle=True)\n",
        "X_test1 = numpy.load('drive/My Drive/repr7/X_test_rep3.npy', allow_pickle=True)\n",
        "y_test1 = numpy.load('drive/My Drive/repr7/y_test.npy', allow_pickle=True)\n",
        "X_train, X_val, y_train, y_val = train_test_split(X_train1, y_train1, test_size=0.2, random_state=667)\n",
        "exemp = 4# exemplary frame\n",
        "plt.imshow(X_val[exemp], cmap=\"jet\")\n",
        "print(y_val[exemp])\n",
        "r = np.shape(X_val)[1]\n",
        "s = np.shape(X_val)[2]\n",
        "\n",
        "X_train = X_train.reshape(X_train.shape[0], 1, r, s).astype('float32')\n",
        "X_val = X_val.reshape(X_val.shape[0], 1, r, s).astype('float32')\n",
        "X_test = X_test1.reshape(X_test1.shape[0], 1, r, s).astype('float32')\n",
        "y_test = np.squeeze(y_test1)\n",
        "input_shape = (1, r, s)\n"
      ],
      "execution_count": 4,
      "outputs": [
        {
          "output_type": "stream",
          "text": [
            "1\n"
          ],
          "name": "stdout"
        },
        {
          "output_type": "display_data",
          "data": {
            "image/png": "[encoded data removed]",
            "text/plain": [
              "<Figure size 432x288 with 1 Axes>"
            ]
          },
          "metadata": {
            "tags": []
          }
        }
      ]
    },
    {
      "cell_type": "code",
      "metadata": {
        "id": "VKGfhskBZVkD",
        "colab_type": "code",
        "colab": {}
      },
      "source": [
        "c_w = { 0:0.01, 1:0.99}# { 0:0.02, 1:0.98}  # tak było, jeśli w trening wrzucamy całe nagranie. teraz mamy zbalansowany zbiór\n",
        "index = ['r%d' % x for x in range(len(y_train))]\n",
        "a = [c_w[class_label] for class_label in y_train]\n",
        "sample_weight_frame = pd.DataFrame(a, index = index)\n",
        "score_params = {\"sample_weight\": sample_weight_frame}\n",
        "#print(sample_weight_frame[0:5])\n"
      ],
      "execution_count": 0,
      "outputs": []
    },
    {
      "cell_type": "code",
      "metadata": {
        "id": "yFE3UDjTMJ9x",
        "colab_type": "code",
        "colab": {}
      },
      "source": [
        "# https://github.com/keras-team/keras/issues/2115\n",
        "\n",
        "### SCORERS\n",
        "import tensorflow as tf\n",
        "import functools\n",
        "from functools import partial, update_wrapper\n",
        "\n",
        "def my_score(y_true, y_pred, sample_weight): \n",
        "  return log_loss(y_true.values, y_pred, sample_weight=sample_weight.loc[y_true.index.values].values.reshape(-1), normalize=True)\n",
        "\n",
        "def wrapped_partial(func, *args, **kwargs):\n",
        "\tpartial_func = partial(func, *args, **kwargs)\n",
        "\tupdate_wrapper(partial_func, func)\n",
        "\treturn partial_func\n",
        "\n",
        "def binary_crossentropy_weigted(y_true, y_pred, class_weights):\n",
        "\ty_pred = K.clip(y_pred, K.epsilon(), 1.0 - K.epsilon())\n",
        "\tloss = K.mean(class_weights*(-y_true * K.log(y_pred) - (1.0 - y_true) * K.log(1.0 - y_pred)),axis=-1)\n",
        "\treturn loss\n",
        "\n",
        "my_scorer = make_scorer(my_score,greater_is_better=False, needs_threshold=False,**score_params)  ## scoring for gridsearchCV\n",
        "custom_loss = wrapped_partial(binary_crossentropy_weigted, class_weights=np.array([0.02, 0.98])) ## scoring for model.compile\n",
        "\n",
        "\n",
        "## AUC METRIC\n",
        "def as_keras_metric(method):\n",
        "    import functools\n",
        "    from keras import backend as K\n",
        "    \n",
        "    @functools.wraps(method)\n",
        "    def wrapper(self, args, **kwargs):\n",
        "        \"\"\" Wrapper for turning tensorflow metrics into keras metrics \"\"\"\n",
        "        value, update_op = method(self, args, **kwargs)\n",
        "        K.get_session().run(tf.local_variables_initializer())\n",
        "        with tf.control_dependencies([update_op]):\n",
        "            value = tf.identity(value)\n",
        "        return value\n",
        "    return wrapper\n",
        "  \n",
        "auc_roc = as_keras_metric(tf.metrics.auc)\n"
      ],
      "execution_count": 0,
      "outputs": []
    },
    {
      "cell_type": "markdown",
      "metadata": {
        "id": "5VoHqo92-BG1",
        "colab_type": "text"
      },
      "source": [
        "**BUILDING THE MODEL**"
      ]
    },
    {
      "cell_type": "code",
      "metadata": {
        "id": "pDsoy0g8VlB5",
        "colab_type": "code",
        "colab": {}
      },
      "source": [
        "def make_model_modified(): #(dense_layer_sizes,filters, kernel_size,pool_size,lr, drop_out):\n",
        "  \n",
        "    dense_layer_sizes=128\n",
        "    filters=10\n",
        "    kernel_size=(3,3) #(3,3)\n",
        "    pool_size= (2,2) \n",
        "    lr=0.0001 \n",
        "    drop_out = 0.5\n",
        "        \n",
        "    model = Sequential()\n",
        "    model.add(Conv2D(filters, kernel_size,input_shape=input_shape, activation='relu'))\n",
        "   # model.add(Conv2D(16, (3, 3), input_shape=input_shape ))\n",
        "\n",
        "    model.add(MaxPooling2D(pool_size=pool_size))\n",
        "    model.add(Conv2D(filters, kernel_size, activation='relu'))\n",
        "    model.add(MaxPooling2D(pool_size=pool_size))\n",
        "    model.add(Conv2D(filters, kernel_size, activation='relu'))\n",
        "    model.add(MaxPooling2D(pool_size=pool_size))\n",
        "    \n",
        "    \n",
        "    model.add(Flatten())\n",
        "    model.add(Dense(dense_layer_sizes, activation='relu'))\n",
        "    model.add(Dropout(drop_out))\n",
        "    model.add(Dense(32, activation='relu'))\n",
        "    model.add(Dropout(drop_out))\n",
        "    model.add(Dense(1, activation='sigmoid'))\n",
        "    \n",
        "    model.compile(loss=custom_loss,#'binary_crossentropy',#loss_2_args(y_true, y_pred)'',#loss='binary_crossentropy'\n",
        "                  # co tu powinno wejść? o samo co do scoring w GridSearchCv? chyba nie: https://stackoverflow.com/questions/40572743/scikit-learn-grid-search-own-scoring-object-syntax\n",
        "                  # my_score2(sample_weight = sample_weight_frame), <------------------- nie umiem zrobić by działał tutaj. Która funkcja? my_score czy my_scorer ?\n",
        "                  # my_score2(sample_weight_frame) ---->  https://stackoverflow.com/questions/46858016/keras-custom-loss-function-to-pass-arguments-other-than-y-true-and-y-pred\n",
        "                  # my_loss ---------------------------->też nie chodzi a chyba powinien, coś z formatem nie tak.  ERROR: 'Tensor' object has no attribute 'values'\n",
        "                  # inne źródło: https://github.com/keras-team/keras/issues/2115\n",
        "                  optimizer='adam',#keras.optimizers.Adam(lr),#'adam',\n",
        "                  metrics=['accuracy',auc_roc])\n",
        "\n",
        "    return model"
      ],
      "execution_count": 0,
      "outputs": []
    },
    {
      "cell_type": "markdown",
      "metadata": {
        "id": "9_eTsmytevw4",
        "colab_type": "text"
      },
      "source": [
        "**UKKYBIRDDET MODEL** // not here\n"
      ]
    },
    {
      "cell_type": "markdown",
      "metadata": {
        "id": "59IhKe5b95g-",
        "colab_type": "text"
      },
      "source": [
        "**GRID SEARCH** // none here\n",
        "\n"
      ]
    },
    {
      "cell_type": "markdown",
      "metadata": {
        "id": "4-qM-uurO5TP",
        "colab_type": "text"
      },
      "source": [
        "**CALLBACKS** // costamcostam\n"
      ]
    },
    {
      "cell_type": "code",
      "metadata": {
        "id": "qC9TynBWTR0E",
        "colab_type": "code",
        "outputId": "b7688152-f6b8-4fc1-a4a3-f748b0ddc73f",
        "colab": {
          "base_uri": "https://localhost:8080/",
          "height": 4192
        }
      },
      "source": [
        "# dense_layer_sizes,filters, kernel_size,pool_size,lr, drop_out)\n",
        "#my_classifier2 = KerasClassifier(make_model_modified(128,10,(3,3),(2,2),0.001,0.5))\n",
        "\n",
        "#################################\n",
        "\n",
        "repr_nr = '_rep3_'  \n",
        "my_model = make_model_modified() #make_model_ukybirddet()\n",
        "\n",
        "#################################\n",
        "from keras.callbacks import EarlyStopping\n",
        "from keras.callbacks import LearningRateScheduler, CSVLogger\n",
        "import math\n",
        "import datetime\n",
        "now = datetime.datetime.now()\n",
        "start_time = str(now.year)+str('-')+str(now.month)+str('-')+str(now.day)+str('_')+str(now.hour+2)+str(':')+str(now.minute)\n",
        "\n",
        "'''\n",
        "def step_decay(epoch):\n",
        "\tinitial_lrate = 0.001\n",
        "\tdrop = 0.1\n",
        "\tepochs_drop = 30.0\n",
        "\tlrate = initial_lrate * math.pow(drop, math.floor((1+epoch)/epochs_drop))\n",
        "\t#print(lrate)\n",
        "\treturn lrate\n",
        "\n",
        "keras.callbacks.CSVLogger('', separator=',', append=False)\n",
        "\n",
        "lrate = LearningRateScheduler(step_decay)\n",
        "csv_logger = CSVLogger('drive/My Drive/przebiegi/training_150e_001_01_co30_3.log')\n",
        "#es = EarlyStopping(monitor='val_loss', min_delta=0.001, patience=30, mode='max', baseline=None, restore_best_weights=True)\n",
        "'''\n",
        "\n",
        "y_frame = pd.DataFrame(y_train, index=index)\n",
        "\n",
        "grid_result = my_model.fit(X_train, y_frame, batch_size = 32, epochs=100,validation_data=(X_val, y_val), verbose = 2) #, class_weight = c_w)\n",
        "\n",
        "\n",
        "#grid_result = my_model.fit(X_train, y_frame, batch_size = 32, callbacks=[plot_losses, csv_logger, lrate, histories], epochs=150,validation_data=(X_val, y_val), verbose = 2) #, class_weight = c_w)\n",
        "# [es, plot_losses, lrate, csv_logger, histories]\n",
        "#my_model.save(('flmdl'+ repr_nr + start_time + '.h5'))\n",
        "#print('Training done. The results are in : ')\n",
        "\n"
      ],
      "execution_count": 8,
      "outputs": [
        {
          "output_type": "stream",
          "text": [
            "WARNING: Logging before flag parsing goes to stderr.\n",
            "W0619 13:46:08.216369 140251936130944 deprecation_wrapper.py:119] From /usr/local/lib/python3.6/dist-packages/keras/backend/tensorflow_backend.py:74: The name tf.get_default_graph is deprecated. Please use tf.compat.v1.get_default_graph instead.\n",
            "\n",
            "W0619 13:46:08.219373 140251936130944 deprecation_wrapper.py:119] From /usr/local/lib/python3.6/dist-packages/keras/backend/tensorflow_backend.py:517: The name tf.placeholder is deprecated. Please use tf.compat.v1.placeholder instead.\n",
            "\n",
            "W0619 13:46:08.224314 140251936130944 deprecation_wrapper.py:119] From /usr/local/lib/python3.6/dist-packages/keras/backend/tensorflow_backend.py:4138: The name tf.random_uniform is deprecated. Please use tf.random.uniform instead.\n",
            "\n",
            "W0619 13:46:08.241771 140251936130944 deprecation_wrapper.py:119] From /usr/local/lib/python3.6/dist-packages/keras/backend/tensorflow_backend.py:174: The name tf.get_default_session is deprecated. Please use tf.compat.v1.get_default_session instead.\n",
            "\n",
            "W0619 13:46:08.242683 140251936130944 deprecation_wrapper.py:119] From /usr/local/lib/python3.6/dist-packages/keras/backend/tensorflow_backend.py:181: The name tf.ConfigProto is deprecated. Please use tf.compat.v1.ConfigProto instead.\n",
            "\n",
            "W0619 13:46:08.952001 140251936130944 deprecation_wrapper.py:119] From /usr/local/lib/python3.6/dist-packages/keras/backend/tensorflow_backend.py:3976: The name tf.nn.max_pool is deprecated. Please use tf.nn.max_pool2d instead.\n",
            "\n",
            "W0619 13:46:09.010949 140251936130944 deprecation.py:506] From /usr/local/lib/python3.6/dist-packages/keras/backend/tensorflow_backend.py:3445: calling dropout (from tensorflow.python.ops.nn_ops) with keep_prob is deprecated and will be removed in a future version.\n",
            "Instructions for updating:\n",
            "Please use `rate` instead of `keep_prob`. Rate should be set to `rate = 1 - keep_prob`.\n",
            "W0619 13:46:09.082761 140251936130944 deprecation_wrapper.py:119] From /usr/local/lib/python3.6/dist-packages/keras/optimizers.py:790: The name tf.train.Optimizer is deprecated. Please use tf.compat.v1.train.Optimizer instead.\n",
            "\n",
            "W0619 13:46:09.190258 140251936130944 deprecation.py:323] From /usr/local/lib/python3.6/dist-packages/tensorflow/python/ops/metrics_impl.py:809: div (from tensorflow.python.ops.math_ops) is deprecated and will be removed in a future version.\n",
            "Instructions for updating:\n",
            "Deprecated in favor of operator or tf.math.divide.\n",
            "W0619 13:46:09.420820 140251936130944 deprecation.py:323] From /usr/local/lib/python3.6/dist-packages/tensorflow/python/ops/math_grad.py:1250: add_dispatch_support.<locals>.wrapper (from tensorflow.python.ops.array_ops) is deprecated and will be removed in a future version.\n",
            "Instructions for updating:\n",
            "Use tf.where in 2.0, which has the same broadcast rule as np.where\n"
          ],
          "name": "stderr"
        },
        {
          "output_type": "stream",
          "text": [
            "Train on 13834 samples, validate on 3459 samples\n",
            "Epoch 1/100\n",
            " - 6s - loss: 0.3379 - acc: 0.6800 - auc: 0.5787 - val_loss: 0.2071 - val_acc: 0.8375 - val_auc: 0.7408\n",
            "Epoch 2/100\n",
            " - 3s - loss: 0.1875 - acc: 0.8541 - auc: 0.8016 - val_loss: 0.1604 - val_acc: 0.8771 - val_auc: 0.8392\n",
            "Epoch 3/100\n",
            " - 3s - loss: 0.1600 - acc: 0.8791 - auc: 0.8594 - val_loss: 0.1526 - val_acc: 0.8768 - val_auc: 0.8734\n",
            "Epoch 4/100\n",
            " - 3s - loss: 0.1479 - acc: 0.8896 - auc: 0.8832 - val_loss: 0.1394 - val_acc: 0.8997 - val_auc: 0.8914\n",
            "Epoch 5/100\n",
            " - 3s - loss: 0.1426 - acc: 0.8942 - auc: 0.8975 - val_loss: 0.1428 - val_acc: 0.9023 - val_auc: 0.9023\n",
            "Epoch 6/100\n",
            " - 3s - loss: 0.1357 - acc: 0.9039 - auc: 0.9063 - val_loss: 0.1334 - val_acc: 0.9046 - val_auc: 0.9102\n",
            "Epoch 7/100\n",
            " - 3s - loss: 0.1301 - acc: 0.9053 - auc: 0.9132 - val_loss: 0.1371 - val_acc: 0.8965 - val_auc: 0.9160\n",
            "Epoch 8/100\n",
            " - 3s - loss: 0.1231 - acc: 0.9111 - auc: 0.9186 - val_loss: 0.1321 - val_acc: 0.9112 - val_auc: 0.9209\n",
            "Epoch 9/100\n",
            " - 3s - loss: 0.1185 - acc: 0.9131 - auc: 0.9233 - val_loss: 0.1419 - val_acc: 0.8974 - val_auc: 0.9250\n",
            "Epoch 10/100\n",
            " - 3s - loss: 0.1189 - acc: 0.9175 - auc: 0.9265 - val_loss: 0.1336 - val_acc: 0.9089 - val_auc: 0.9280\n",
            "Epoch 11/100\n",
            " - 3s - loss: 0.1150 - acc: 0.9183 - auc: 0.9295 - val_loss: 0.1253 - val_acc: 0.9127 - val_auc: 0.9308\n",
            "Epoch 12/100\n",
            " - 3s - loss: 0.1113 - acc: 0.9205 - auc: 0.9321 - val_loss: 0.1306 - val_acc: 0.9104 - val_auc: 0.9333\n",
            "Epoch 13/100\n",
            " - 3s - loss: 0.1080 - acc: 0.9226 - auc: 0.9346 - val_loss: 0.1293 - val_acc: 0.9136 - val_auc: 0.9356\n",
            "Epoch 14/100\n",
            " - 3s - loss: 0.1067 - acc: 0.9246 - auc: 0.9366 - val_loss: 0.1310 - val_acc: 0.9141 - val_auc: 0.9375\n",
            "Epoch 15/100\n",
            " - 3s - loss: 0.1016 - acc: 0.9288 - auc: 0.9384 - val_loss: 0.1318 - val_acc: 0.9115 - val_auc: 0.9394\n",
            "Epoch 16/100\n",
            " - 3s - loss: 0.1020 - acc: 0.9277 - auc: 0.9402 - val_loss: 0.1478 - val_acc: 0.9011 - val_auc: 0.9410\n",
            "Epoch 17/100\n",
            " - 3s - loss: 0.1003 - acc: 0.9264 - auc: 0.9418 - val_loss: 0.1385 - val_acc: 0.9112 - val_auc: 0.9426\n",
            "Epoch 18/100\n",
            " - 3s - loss: 0.0966 - acc: 0.9325 - auc: 0.9434 - val_loss: 0.1302 - val_acc: 0.9115 - val_auc: 0.9439\n",
            "Epoch 19/100\n",
            " - 3s - loss: 0.0887 - acc: 0.9362 - auc: 0.9447 - val_loss: 0.1336 - val_acc: 0.9173 - val_auc: 0.9454\n",
            "Epoch 20/100\n",
            " - 3s - loss: 0.0892 - acc: 0.9378 - auc: 0.9462 - val_loss: 0.1331 - val_acc: 0.9110 - val_auc: 0.9468\n",
            "Epoch 21/100\n",
            " - 3s - loss: 0.0877 - acc: 0.9396 - auc: 0.9474 - val_loss: 0.1373 - val_acc: 0.9217 - val_auc: 0.9480\n",
            "Epoch 22/100\n",
            " - 3s - loss: 0.0842 - acc: 0.9428 - auc: 0.9487 - val_loss: 0.1355 - val_acc: 0.9104 - val_auc: 0.9493\n",
            "Epoch 23/100\n",
            " - 3s - loss: 0.0805 - acc: 0.9440 - auc: 0.9499 - val_loss: 0.1467 - val_acc: 0.9098 - val_auc: 0.9505\n",
            "Epoch 24/100\n",
            " - 3s - loss: 0.0805 - acc: 0.9411 - auc: 0.9510 - val_loss: 0.1700 - val_acc: 0.8936 - val_auc: 0.9516\n",
            "Epoch 25/100\n",
            " - 3s - loss: 0.0830 - acc: 0.9431 - auc: 0.9521 - val_loss: 0.1531 - val_acc: 0.9000 - val_auc: 0.9525\n",
            "Epoch 26/100\n",
            " - 3s - loss: 0.0753 - acc: 0.9482 - auc: 0.9530 - val_loss: 0.1460 - val_acc: 0.9144 - val_auc: 0.9535\n",
            "Epoch 27/100\n",
            " - 3s - loss: 0.0732 - acc: 0.9480 - auc: 0.9540 - val_loss: 0.1585 - val_acc: 0.9159 - val_auc: 0.9545\n",
            "Epoch 28/100\n",
            " - 3s - loss: 0.0701 - acc: 0.9544 - auc: 0.9550 - val_loss: 0.1514 - val_acc: 0.9167 - val_auc: 0.9554\n",
            "Epoch 29/100\n",
            " - 3s - loss: 0.0727 - acc: 0.9479 - auc: 0.9558 - val_loss: 0.1610 - val_acc: 0.9138 - val_auc: 0.9562\n",
            "Epoch 30/100\n",
            " - 3s - loss: 0.0689 - acc: 0.9536 - auc: 0.9567 - val_loss: 0.1573 - val_acc: 0.9162 - val_auc: 0.9570\n",
            "Epoch 31/100\n",
            " - 3s - loss: 0.0683 - acc: 0.9537 - auc: 0.9574 - val_loss: 0.1561 - val_acc: 0.9162 - val_auc: 0.9578\n",
            "Epoch 32/100\n",
            " - 3s - loss: 0.0636 - acc: 0.9571 - auc: 0.9582 - val_loss: 0.1610 - val_acc: 0.9156 - val_auc: 0.9586\n",
            "Epoch 33/100\n",
            " - 3s - loss: 0.0622 - acc: 0.9589 - auc: 0.9590 - val_loss: 0.1567 - val_acc: 0.9092 - val_auc: 0.9593\n",
            "Epoch 34/100\n",
            " - 3s - loss: 0.0641 - acc: 0.9553 - auc: 0.9597 - val_loss: 0.1611 - val_acc: 0.9188 - val_auc: 0.9600\n",
            "Epoch 35/100\n",
            " - 3s - loss: 0.0615 - acc: 0.9602 - auc: 0.9603 - val_loss: 0.1699 - val_acc: 0.9115 - val_auc: 0.9606\n",
            "Epoch 36/100\n",
            " - 3s - loss: 0.0550 - acc: 0.9638 - auc: 0.9609 - val_loss: 0.1729 - val_acc: 0.9159 - val_auc: 0.9613\n",
            "Epoch 37/100\n",
            " - 3s - loss: 0.0588 - acc: 0.9603 - auc: 0.9616 - val_loss: 0.1877 - val_acc: 0.9034 - val_auc: 0.9618\n",
            "Epoch 38/100\n",
            " - 3s - loss: 0.0519 - acc: 0.9639 - auc: 0.9622 - val_loss: 0.1944 - val_acc: 0.9112 - val_auc: 0.9625\n",
            "Epoch 39/100\n",
            " - 3s - loss: 0.0540 - acc: 0.9650 - auc: 0.9628 - val_loss: 0.1812 - val_acc: 0.9150 - val_auc: 0.9630\n",
            "Epoch 40/100\n",
            " - 3s - loss: 0.0531 - acc: 0.9651 - auc: 0.9633 - val_loss: 0.1830 - val_acc: 0.9101 - val_auc: 0.9636\n",
            "Epoch 41/100\n",
            " - 3s - loss: 0.0531 - acc: 0.9668 - auc: 0.9639 - val_loss: 0.1798 - val_acc: 0.9118 - val_auc: 0.9641\n",
            "Epoch 42/100\n",
            " - 3s - loss: 0.0503 - acc: 0.9692 - auc: 0.9644 - val_loss: 0.1901 - val_acc: 0.8977 - val_auc: 0.9647\n",
            "Epoch 43/100\n",
            " - 3s - loss: 0.0537 - acc: 0.9647 - auc: 0.9649 - val_loss: 0.1878 - val_acc: 0.9136 - val_auc: 0.9652\n",
            "Epoch 44/100\n",
            " - 3s - loss: 0.0473 - acc: 0.9691 - auc: 0.9654 - val_loss: 0.1803 - val_acc: 0.9112 - val_auc: 0.9657\n",
            "Epoch 45/100\n",
            " - 3s - loss: 0.0437 - acc: 0.9733 - auc: 0.9659 - val_loss: 0.1930 - val_acc: 0.9063 - val_auc: 0.9662\n",
            "Epoch 46/100\n",
            " - 3s - loss: 0.0520 - acc: 0.9657 - auc: 0.9664 - val_loss: 0.1870 - val_acc: 0.9095 - val_auc: 0.9666\n",
            "Epoch 47/100\n",
            " - 3s - loss: 0.0450 - acc: 0.9704 - auc: 0.9668 - val_loss: 0.2054 - val_acc: 0.9133 - val_auc: 0.9670\n",
            "Epoch 48/100\n",
            " - 3s - loss: 0.0452 - acc: 0.9710 - auc: 0.9672 - val_loss: 0.2087 - val_acc: 0.9058 - val_auc: 0.9674\n",
            "Epoch 49/100\n",
            " - 3s - loss: 0.0499 - acc: 0.9685 - auc: 0.9676 - val_loss: 0.1971 - val_acc: 0.9069 - val_auc: 0.9678\n",
            "Epoch 50/100\n",
            " - 3s - loss: 0.0471 - acc: 0.9701 - auc: 0.9680 - val_loss: 0.2013 - val_acc: 0.9017 - val_auc: 0.9681\n",
            "Epoch 51/100\n",
            " - 3s - loss: 0.0433 - acc: 0.9735 - auc: 0.9683 - val_loss: 0.1984 - val_acc: 0.9118 - val_auc: 0.9685\n",
            "Epoch 52/100\n",
            " - 3s - loss: 0.0386 - acc: 0.9769 - auc: 0.9687 - val_loss: 0.2091 - val_acc: 0.9069 - val_auc: 0.9689\n",
            "Epoch 53/100\n",
            " - 3s - loss: 0.0431 - acc: 0.9719 - auc: 0.9691 - val_loss: 0.2038 - val_acc: 0.9063 - val_auc: 0.9692\n",
            "Epoch 54/100\n",
            " - 3s - loss: 0.0430 - acc: 0.9720 - auc: 0.9694 - val_loss: 0.2138 - val_acc: 0.9005 - val_auc: 0.9695\n",
            "Epoch 55/100\n",
            " - 3s - loss: 0.0413 - acc: 0.9751 - auc: 0.9697 - val_loss: 0.2164 - val_acc: 0.9029 - val_auc: 0.9698\n",
            "Epoch 56/100\n",
            " - 3s - loss: 0.0389 - acc: 0.9747 - auc: 0.9700 - val_loss: 0.2281 - val_acc: 0.9060 - val_auc: 0.9702\n",
            "Epoch 57/100\n",
            " - 3s - loss: 0.0348 - acc: 0.9796 - auc: 0.9703 - val_loss: 0.2251 - val_acc: 0.9115 - val_auc: 0.9705\n",
            "Epoch 58/100\n",
            " - 3s - loss: 0.0341 - acc: 0.9778 - auc: 0.9706 - val_loss: 0.2124 - val_acc: 0.9072 - val_auc: 0.9708\n",
            "Epoch 59/100\n",
            " - 3s - loss: 0.0419 - acc: 0.9737 - auc: 0.9709 - val_loss: 0.2166 - val_acc: 0.9118 - val_auc: 0.9710\n",
            "Epoch 60/100\n",
            " - 3s - loss: 0.0398 - acc: 0.9759 - auc: 0.9711 - val_loss: 0.2141 - val_acc: 0.9156 - val_auc: 0.9713\n",
            "Epoch 61/100\n",
            " - 3s - loss: 0.0362 - acc: 0.9790 - auc: 0.9714 - val_loss: 0.2219 - val_acc: 0.9118 - val_auc: 0.9715\n",
            "Epoch 62/100\n",
            " - 3s - loss: 0.0367 - acc: 0.9776 - auc: 0.9717 - val_loss: 0.2343 - val_acc: 0.9008 - val_auc: 0.9718\n",
            "Epoch 63/100\n",
            " - 3s - loss: 0.0368 - acc: 0.9765 - auc: 0.9719 - val_loss: 0.2344 - val_acc: 0.9040 - val_auc: 0.9720\n",
            "Epoch 64/100\n",
            " - 3s - loss: 0.0393 - acc: 0.9757 - auc: 0.9721 - val_loss: 0.2144 - val_acc: 0.9084 - val_auc: 0.9722\n",
            "Epoch 65/100\n",
            " - 3s - loss: 0.0358 - acc: 0.9778 - auc: 0.9724 - val_loss: 0.2258 - val_acc: 0.9124 - val_auc: 0.9725\n",
            "Epoch 66/100\n",
            " - 3s - loss: 0.0306 - acc: 0.9820 - auc: 0.9726 - val_loss: 0.2455 - val_acc: 0.9026 - val_auc: 0.9727\n",
            "Epoch 67/100\n",
            " - 3s - loss: 0.0352 - acc: 0.9808 - auc: 0.9728 - val_loss: 0.2345 - val_acc: 0.9049 - val_auc: 0.9729\n",
            "Epoch 68/100\n",
            " - 3s - loss: 0.0371 - acc: 0.9794 - auc: 0.9730 - val_loss: 0.2257 - val_acc: 0.9078 - val_auc: 0.9731\n",
            "Epoch 69/100\n",
            " - 3s - loss: 0.0324 - acc: 0.9796 - auc: 0.9732 - val_loss: 0.2399 - val_acc: 0.9034 - val_auc: 0.9733\n",
            "Epoch 70/100\n",
            " - 3s - loss: 0.0350 - acc: 0.9782 - auc: 0.9734 - val_loss: 0.2277 - val_acc: 0.9020 - val_auc: 0.9735\n",
            "Epoch 71/100\n",
            " - 3s - loss: 0.0352 - acc: 0.9782 - auc: 0.9736 - val_loss: 0.2238 - val_acc: 0.9020 - val_auc: 0.9737\n",
            "Epoch 72/100\n",
            " - 3s - loss: 0.0335 - acc: 0.9791 - auc: 0.9738 - val_loss: 0.2309 - val_acc: 0.9037 - val_auc: 0.9739\n",
            "Epoch 73/100\n",
            " - 3s - loss: 0.0350 - acc: 0.9789 - auc: 0.9740 - val_loss: 0.2254 - val_acc: 0.9089 - val_auc: 0.9740\n",
            "Epoch 74/100\n",
            " - 3s - loss: 0.0346 - acc: 0.9790 - auc: 0.9741 - val_loss: 0.2301 - val_acc: 0.9005 - val_auc: 0.9742\n",
            "Epoch 75/100\n",
            " - 3s - loss: 0.0340 - acc: 0.9793 - auc: 0.9743 - val_loss: 0.2289 - val_acc: 0.9060 - val_auc: 0.9744\n",
            "Epoch 76/100\n",
            " - 3s - loss: 0.0294 - acc: 0.9835 - auc: 0.9744 - val_loss: 0.2529 - val_acc: 0.9029 - val_auc: 0.9745\n",
            "Epoch 77/100\n",
            " - 3s - loss: 0.0310 - acc: 0.9814 - auc: 0.9746 - val_loss: 0.2489 - val_acc: 0.9032 - val_auc: 0.9747\n",
            "Epoch 78/100\n",
            " - 3s - loss: 0.0412 - acc: 0.9751 - auc: 0.9748 - val_loss: 0.1884 - val_acc: 0.9147 - val_auc: 0.9748\n",
            "Epoch 79/100\n",
            " - 3s - loss: 0.0311 - acc: 0.9816 - auc: 0.9749 - val_loss: 0.2362 - val_acc: 0.9069 - val_auc: 0.9749\n",
            "Epoch 80/100\n",
            " - 3s - loss: 0.0271 - acc: 0.9827 - auc: 0.9750 - val_loss: 0.2476 - val_acc: 0.9037 - val_auc: 0.9751\n",
            "Epoch 81/100\n",
            " - 3s - loss: 0.0366 - acc: 0.9786 - auc: 0.9752 - val_loss: 0.2631 - val_acc: 0.8956 - val_auc: 0.9752\n",
            "Epoch 82/100\n",
            " - 3s - loss: 0.0242 - acc: 0.9874 - auc: 0.9753 - val_loss: 0.2409 - val_acc: 0.9052 - val_auc: 0.9754\n",
            "Epoch 83/100\n",
            " - 3s - loss: 0.0314 - acc: 0.9803 - auc: 0.9754 - val_loss: 0.2678 - val_acc: 0.9005 - val_auc: 0.9755\n",
            "Epoch 84/100\n",
            " - 3s - loss: 0.0264 - acc: 0.9844 - auc: 0.9756 - val_loss: 0.2559 - val_acc: 0.8991 - val_auc: 0.9756\n",
            "Epoch 85/100\n",
            " - 3s - loss: 0.0252 - acc: 0.9841 - auc: 0.9757 - val_loss: 0.2589 - val_acc: 0.9066 - val_auc: 0.9758\n",
            "Epoch 86/100\n",
            " - 3s - loss: 0.0292 - acc: 0.9834 - auc: 0.9758 - val_loss: 0.2392 - val_acc: 0.9055 - val_auc: 0.9759\n",
            "Epoch 87/100\n",
            " - 3s - loss: 0.0263 - acc: 0.9847 - auc: 0.9760 - val_loss: 0.2853 - val_acc: 0.8965 - val_auc: 0.9760\n",
            "Epoch 88/100\n",
            " - 3s - loss: 0.0328 - acc: 0.9813 - auc: 0.9761 - val_loss: 0.2356 - val_acc: 0.9104 - val_auc: 0.9761\n",
            "Epoch 89/100\n",
            " - 3s - loss: 0.0300 - acc: 0.9830 - auc: 0.9761 - val_loss: 0.2448 - val_acc: 0.9052 - val_auc: 0.9762\n",
            "Epoch 90/100\n",
            " - 3s - loss: 0.0269 - acc: 0.9839 - auc: 0.9763 - val_loss: 0.2571 - val_acc: 0.8988 - val_auc: 0.9763\n",
            "Epoch 91/100\n",
            " - 3s - loss: 0.0239 - acc: 0.9864 - auc: 0.9764 - val_loss: 0.2668 - val_acc: 0.9063 - val_auc: 0.9764\n",
            "Epoch 92/100\n",
            " - 3s - loss: 0.0267 - acc: 0.9848 - auc: 0.9765 - val_loss: 0.2632 - val_acc: 0.9040 - val_auc: 0.9765\n",
            "Epoch 93/100\n",
            " - 3s - loss: 0.0312 - acc: 0.9817 - auc: 0.9766 - val_loss: 0.2414 - val_acc: 0.9060 - val_auc: 0.9766\n",
            "Epoch 94/100\n",
            " - 3s - loss: 0.0268 - acc: 0.9852 - auc: 0.9767 - val_loss: 0.2480 - val_acc: 0.9063 - val_auc: 0.9767\n",
            "Epoch 95/100\n",
            " - 3s - loss: 0.0251 - acc: 0.9855 - auc: 0.9768 - val_loss: 0.2638 - val_acc: 0.9037 - val_auc: 0.9768\n",
            "Epoch 96/100\n",
            " - 3s - loss: 0.0253 - acc: 0.9851 - auc: 0.9769 - val_loss: 0.2708 - val_acc: 0.9043 - val_auc: 0.9770\n",
            "Epoch 97/100\n",
            " - 3s - loss: 0.0248 - acc: 0.9858 - auc: 0.9770 - val_loss: 0.2723 - val_acc: 0.8985 - val_auc: 0.9771\n",
            "Epoch 98/100\n",
            " - 3s - loss: 0.0379 - acc: 0.9777 - auc: 0.9771 - val_loss: 0.2471 - val_acc: 0.9034 - val_auc: 0.9771\n",
            "Epoch 99/100\n",
            " - 3s - loss: 0.0262 - acc: 0.9837 - auc: 0.9772 - val_loss: 0.2399 - val_acc: 0.9037 - val_auc: 0.9772\n",
            "Epoch 100/100\n",
            " - 3s - loss: 0.0288 - acc: 0.9828 - auc: 0.9772 - val_loss: 0.2629 - val_acc: 0.9011 - val_auc: 0.9773\n"
          ],
          "name": "stdout"
        }
      ]
    },
    {
      "cell_type": "code",
      "metadata": {
        "id": "mJ4JF53Ncz2_",
        "colab_type": "code",
        "colab": {}
      },
      "source": [
        "my_model.save(('drive/My Drive/models/flmdl'+ str(repr_nr) + str(start_time) + '.h5'))"
      ],
      "execution_count": 0,
      "outputs": []
    },
    {
      "cell_type": "code",
      "metadata": {
        "id": "TFlqEsMBijUA",
        "colab_type": "code",
        "outputId": "f3dff62f-dede-4c03-b46c-ff5625695a90",
        "colab": {
          "base_uri": "https://localhost:8080/",
          "height": 387
        }
      },
      "source": [
        "model = my_model\n",
        "hist = grid_result\n",
        "# Final evaluation of the model\n",
        "scores_val = model.evaluate(X_val, y_val, verbose=0)\n",
        "print(\"CNN Error for val set: %.2f%%\" % (100-scores_val[1]*100))\n",
        "scores_test = model.evaluate(X_test, y_test, verbose=0)\n",
        "print(\"CNN Error for test set: %.2f%%\" % (100-scores_test[1]*100))\n",
        "\n",
        "# summarize history for accuracy\n",
        "plt.subplot(1, 3, 1)\n",
        "plt.plot(hist.history['acc'])\n",
        "plt.plot(hist.history['val_acc'])\n",
        "plt.title('model accuracy')\n",
        "plt.ylabel('accuracy')\n",
        "plt.xlabel('epoch')\n",
        "plt.legend(['train', 'val'], loc='upper left')\n",
        "plt.subplot(1, 3, 2)\n",
        "\n",
        "# summarize history for loss\n",
        "plt.plot(hist.history['loss'])\n",
        "plt.plot(hist.history['val_loss'])\n",
        "plt.title('model auc function')\n",
        "plt.ylabel('loss')\n",
        "plt.xlabel('epoch')\n",
        "plt.legend(['train', 'val'], loc='upper left')\n",
        "#plt.show()\n",
        "\n",
        "# calculate AUC of final model on a test set\n",
        "probs = model.predict_proba(X_test)\n",
        "# keep probabilities for the positive outcome only\n",
        "#probs = probs[:, 1]\n",
        "y_test2 = y_test  # osobno, bo inny wymiar\n",
        "print(np.shape(y_test2))\n",
        "print(np.shape(probs))\n",
        "\n",
        "auc = roc_auc_score(y_test2, probs)\n",
        "print('AUC: %.3f' % auc)\n",
        "\n",
        "fpr, tpr, thresholds = roc_curve(y_test2, probs)\n",
        "# plot no skill\n",
        "plt.subplot(1, 3, 3)\n",
        "pyplot.plot([0, 1], [0, 1], linestyle='--')\n",
        "# plot the roc curve for the model\n",
        "pyplot.plot(fpr, tpr, marker='.')\n",
        "# show the plot\n",
        "plt.title('ROC, test set, AUC: %.3f' % auc)\n",
        "pyplot.show()"
      ],
      "execution_count": 10,
      "outputs": [
        {
          "output_type": "stream",
          "text": [
            "CNN Error for val set: 9.89%\n",
            "CNN Error for test set: 9.20%\n",
            "(30813,)\n",
            "(30813, 1)\n",
            "AUC: 0.974\n"
          ],
          "name": "stdout"
        },
        {
          "output_type": "display_data",
          "data": {
            "image/png": "[encoded data removed]",
            "text/plain": [
              "<Figure size 432x288 with 3 Axes>"
            ]
          },
          "metadata": {
            "tags": []
          }
        }
      ]
    },
    {
      "cell_type": "code",
      "metadata": {
        "id": "AhYtwNmmqOVQ",
        "colab_type": "code",
        "outputId": "91d062de-40b9-40c0-f80b-829074aee3ee",
        "colab": {
          "base_uri": "https://localhost:8080/",
          "height": 287
        }
      },
      "source": [
        "pyplot.plot(fpr, tpr, marker='.')\n",
        "pyplot.ylim(bottom=0.7)\n"
      ],
      "execution_count": 11,
      "outputs": [
        {
          "output_type": "execute_result",
          "data": {
            "text/plain": [
              "(0.7, 1.05)"
            ]
          },
          "metadata": {
            "tags": []
          },
          "execution_count": 11
        },
        {
          "output_type": "display_data",
          "data": {
            "image/png": "[encoded data removed]",
            "text/plain": [
              "<Figure size 432x288 with 1 Axes>"
            ]
          },
          "metadata": {
            "tags": []
          }
        }
      ]
    },
    {
      "cell_type": "code",
      "metadata": {
        "id": "7Q9Mkpfv-jpk",
        "colab_type": "code",
        "outputId": "f2942205-1e96-454f-d0b5-ffdac44fec33",
        "colab": {
          "base_uri": "https://localhost:8080/",
          "height": 799
        }
      },
      "source": [
        "import sklearn.metrics\n",
        "from sklearn.metrics import precision_recall_curve\n",
        "from sklearn.metrics import average_precision_score\n",
        "\n",
        "start1 = 22800\n",
        "end1 = 22900\n",
        "\n",
        "\n",
        "index2 = ['r%d' % x for x in range(len(y_test))]\n",
        "a2 = [c_w[class_label] for class_label in y_test]\n",
        "\n",
        "#########\n",
        "recall = 0.95\n",
        "###########\n",
        "\n",
        "a = (np.where(tpr>recall))\n",
        "thr = thresholds[np.min(a)]  # do stworzenia confusion matrix bierzemy jakiś próg, np 90% wykrytych głosów\n",
        "print(thr)\n",
        "t2 = np.arange(0.0, end1-start1, 0.5)\n",
        "plt.figure((1))\n",
        "pyplot.plot(y_test2[start1:end1]*1.1, marker='.')\n",
        "pyplot.plot(probs[start1:end1], marker='.')\n",
        "pyplot.plot(t2, thr* np.ones(np.size(t2)), 'r-')\n",
        "pyplot.title('Exemplary true labels, predictions and threshold for chosen recall')\n",
        "\n",
        "probs_bool = probs>thr\n",
        "probs_01 = [int(elem) for elem in probs>thr]\n",
        "#cm = sklearn.metrics.confusion_matrix(y_test2, probs_01, labels=None, sample_weight=a2).ravel()\n",
        "sklearn.metrics.confusion_matrix(y_test2, probs_01, labels=None, sample_weight=a2)\n",
        "cm = sklearn.metrics.confusion_matrix(y_test2, probs_01)\n",
        "print(cm)\n",
        "\n",
        "target_names = ['class 0', 'class 1']\n",
        "print(sklearn.metrics.classification_report(y_test2, probs_01, target_names=target_names))\n",
        "f1 = sklearn.metrics.f1_score(y_test2, probs_01)\n",
        "plt.figure(2)\n",
        "precision, recall, _ = precision_recall_curve(y_test2, probs)\n",
        "plt.step(recall, precision, color='b', alpha=0.2, where='post')\n",
        "plt.fill_between(recall, precision, alpha=0.2, color='b')\n",
        "plt.xlabel('Recall')\n",
        "plt.ylabel('Precision')\n",
        "plt.ylim([0.0, 1.05])\n",
        "plt.xlim([0.0, 1.0])\n",
        "average_precision = average_precision_score(y_test2, probs)\n",
        "\n",
        "plt.title('2-class Precision-Recall curve: AP=%0.2f, F = %0.2f' %(average_precision,f1)) #{0:0.2f}"
      ],
      "execution_count": 14,
      "outputs": [
        {
          "output_type": "stream",
          "text": [
            "0.8198293\n",
            "[[28334  1803]\n",
            " [   34   642]]\n",
            "              precision    recall  f1-score   support\n",
            "\n",
            "     class 0       1.00      0.94      0.97     30137\n",
            "     class 1       0.26      0.95      0.41       676\n",
            "\n",
            "    accuracy                           0.94     30813\n",
            "   macro avg       0.63      0.94      0.69     30813\n",
            "weighted avg       0.98      0.94      0.96     30813\n",
            "\n"
          ],
          "name": "stdout"
        },
        {
          "output_type": "execute_result",
          "data": {
            "text/plain": [
              "Text(0.5, 1.0, '2-class Precision-Recall curve: AP=0.59, F = 0.41')"
            ]
          },
          "metadata": {
            "tags": []
          },
          "execution_count": 14
        },
        {
          "output_type": "display_data",
          "data": {
            "image/png": "[encoded data removed]",
            "text/plain": [
              "<Figure size 432x288 with 1 Axes>"
            ]
          },
          "metadata": {
            "tags": []
          }
        },
        {
          "output_type": "display_data",
          "data": {
            "image/png": "[encoded data removed]",
            "text/plain": [
              "<Figure size 432x288 with 1 Axes>"
            ]
          },
          "metadata": {
            "tags": []
          }
        }
      ]
    }
  ]
}