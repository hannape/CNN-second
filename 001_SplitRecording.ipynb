{
  "nbformat": 4,
  "nbformat_minor": 0,
  "metadata": {
    "colab": {
      "name": "001-SplitRecording.ipynb",
      "version": "0.3.2",
      "provenance": [],
      "collapsed_sections": [],
      "include_colab_link": true
    },
    "kernelspec": {
      "name": "python3",
      "display_name": "Python 3"
    },
    "accelerator": "GPU"
  },
  "cells": [
    {
      "cell_type": "markdown",
      "metadata": {
        "id": "view-in-github",
        "colab_type": "text"
      },
      "source": [
        "<a href=\"https://colab.research.google.com/github/hannape/CNN-second/blob/master/001_SplitRecording.ipynb\" target=\"_parent\"><img src=\"https://colab.research.google.com/assets/colab-badge.svg\" alt=\"Open In Colab\"/></a>"
      ]
    },
    {
      "metadata": {
        "id": "kt2FAYDvnbmW",
        "colab_type": "code",
        "colab": {}
      },
      "cell_type": "code",
      "source": [
        "## Dzielenie na próbki, zapis\n",
        "\n",
        "# z komentarzami jest w 'copy of split recordings'. Ten notebook wyczyszczony ze zbędnych rzeczy\n",
        "\n",
        "!pip install audiosegment\n",
        "!pip install librosa\n",
        "!pip install pydub\n",
        "!pip install webrtcvad\n",
        "!pip install librosa\n",
        "!pip install -q spectrum\n",
        "!pip install pkgconfig libtfr\n",
        "import libtfr\n",
        "import librosa\n",
        "from scipy.io import wavfile\n",
        "from random import choice\n",
        "import librosa\n",
        "from pydub import AudioSegment\n",
        "from pydub.utils import make_chunks\n",
        "import math\n",
        "import audiosegment\n",
        "from pydub import AudioSegment\n",
        "import matplotlib.pyplot as plt\n",
        "import numpy as np\n",
        "import pandas as pd\n",
        "from sklearn import preprocessing"
      ],
      "execution_count": 0,
      "outputs": []
    },
    {
      "metadata": {
        "id": "YXIlOAp5Xg_n",
        "colab_type": "code",
        "colab": {}
      },
      "cell_type": "code",
      "source": [
        "from google.colab import drive\n",
        "drive.mount('/content/drive')\n",
        "import sys\n",
        "sys.path.append('/content/drive/My Drive/Colab Notebooks')"
      ],
      "execution_count": 0,
      "outputs": []
    },
    {
      "metadata": {
        "id": "AeLP29wIUwlH",
        "colab_type": "code",
        "colab": {}
      },
      "cell_type": "code",
      "source": [
        "source = \"drive/My Drive/nagrania_probne/cale_nagrania/\"\n",
        "source_labels = \"drive/My Drive/labele/etykiety_cale/\"\n",
        "source_out = \"drive/My Drive/nagrania_probne/repr7/\"\n",
        "nazwa = \"6wichura_deszcz_BUK4_20161005_022304\"  # nagranie\n",
        "name = nazwa + \".wav\"\n",
        "name_txt = nazwa + \".txt\" #dot.txt\"  txt przecinkowe\n",
        "name_out = '_7rep'\n",
        "\n",
        "with open((source_labels + name_txt), 'r+') as f:  # zmiana na kropki\n",
        "    text = f.read()\n",
        "    f.seek(0)\n",
        "    f.truncate()\n",
        "    f.write(text.replace(',', '.'))"
      ],
      "execution_count": 0,
      "outputs": []
    },
    {
      "metadata": {
        "id": "wcK0M4KlwYqf",
        "colab_type": "code",
        "colab": {
          "base_uri": "https://localhost:8080/",
          "height": 109
        },
        "outputId": "261b7528-b308-41ea-fefa-8ba8523bf787"
      },
      "cell_type": "code",
      "source": [
        "#### Parametry ####\n",
        "chunk_length_ms = 500\n",
        "chunk_overlap = 150\n",
        "bit_rate = 16\n",
        "###################\n",
        "\n",
        "fs, data = wavfile.read(source + name)\n",
        "\n",
        "myaudio = audiosegment.from_file(source + name)\n",
        "channel_count = myaudio.channels    #Get channels\n",
        "sample_width = myaudio.sample_width #Get sample width\n",
        "duration_in_ms = len(myaudio) #Length of audio in ms\n",
        "sample_rate = myaudio.frame_rate\n",
        "nr_of_chunks =  1 + (duration_in_ms - chunk_length_ms) / (chunk_length_ms - chunk_overlap)\n",
        "\n",
        "\n",
        "########## Odczyt labeli z csv, wyczyszczenie zaznaczonych trzasków (t, ?)\n",
        "\n",
        "y_read = pd.read_csv(source_labels + name_txt,  header=None, sep = \"\\t\")\n",
        "y_read.columns = [\"start\", \"end\", \"bird\"]\n",
        "y_read_cleanedA = y_read[y_read['bird']!= 't']  # deleted 't'\n",
        "y_read_cleaned = y_read_cleanedA[y_read_cleanedA['bird']!= 't?'] # deleted 't?'\n",
        "print(y_read_cleaned)\n",
        "y_read = y_read_cleaned"
      ],
      "execution_count": 49,
      "outputs": [
        {
          "output_type": "stream",
          "text": [
            "         start          end bird\n",
            "0  1180.605205  1180.893792    d\n",
            "1  1182.913895  1183.262447   d?\n",
            "2  1328.964823  1329.015032   s?\n",
            "3  1331.025734  1331.316226    d\n"
          ],
          "name": "stdout"
        }
      ]
    },
    {
      "metadata": {
        "id": "qZUDJY3rqoBN",
        "colab_type": "code",
        "colab": {}
      },
      "cell_type": "code",
      "source": [
        "#wav_file_size = (sample_rate * bit_rate * channel_count * duration_in_ms / 1000) / 8\n",
        "import scipy\n",
        "#### Parametry ####\n",
        "             \n",
        "plot_repr = 1          # czy wyrysowywać głosy wszystkie\n",
        "play_sound = 1\n",
        "minimal_duration = 4   # minimalny czas trwania głosu w ms, b zakwalifikowac chunka jako hasbird\n",
        "f_min = 4000           # minimalna częstotliwość analizowana ze spektro\n",
        "f_max = 9500           # maksymalna częstotliwość analizowana ze spektro\n",
        "f_min2 = 4000           # minimalna częstotliwość analizowana ze spektro\n",
        "f_max2 = 9500           # maksymalna częstotliwość analizowana ze spektro\n",
        "n_mels = 60\n",
        "n_mels2 = 80\n",
        "step = 150\n",
        "###################\n",
        "\n",
        "def get_logmelspec_settings():\n",
        "    logmelspec_settings = {\n",
        "        \"fmin\": 4000, #2000\n",
        "        \"fmax\": 9500, #11025,\n",
        "        \"hop_length\": 200, #150,#32,\n",
        "        \"n_fft\": 512, #1024, \n",
        "        \"n_mels\": 60, #128,\n",
        "        \"sr\": 44100, #22050,\n",
        "        \"win_length\": 512, #256,\n",
        "        \"window\": \"hann\"}\n",
        "    return logmelspec_settings\n",
        "  \n",
        "def get_spec_settings():\n",
        "    logspec_settings = {\n",
        "        \"fmin\": 4000, #2000\n",
        "        \"fmax\": 9500, #11025,\n",
        "        \"hop_length\": 150,#32,\n",
        "        \"n_fft\": 512, #1024, \n",
        "        \"n_mels\": 60, #128,\n",
        "        \"sr\": 44100, #22050,\n",
        "        \"win_length\": 512, #256,\n",
        "        \"window\": \"hann\"}  ## hann\n",
        "    return logspec_settings  \n",
        "\n",
        "def representations(frame):\n",
        "  \n",
        "      ####### reprezentacja 1 - spektrogram\n",
        "      global amplitudes, freqs, times, freqs2, times2,result1, result2, result3, result4, result5, ukybirddet_spectrogram, samples_float,stft1, stft2, stft3\n",
        "      \n",
        "      samples = frame.get_array_of_samples()\n",
        "      samples_float = librosa.util.buf_to_float(samples,n_bytes=2,dtype=np.float32)\n",
        "      audio = np.array(samples_float)\n",
        "      \n",
        "      logspec_settings = get_spec_settings()\n",
        "      stft = librosa.stft(\n",
        "          audio,\n",
        "          n_fft=logspec_settings[\"n_fft\"],\n",
        "          win_length=logspec_settings[\"win_length\"],\n",
        "          hop_length=logspec_settings[\"hop_length\"],\n",
        "          window= logspec_settings[\"window\"] ) #scipy.signal.get_window(('gaussian',50) ,512) )#scipy.signal.gaussian(512, 2)   ) \n",
        "      stft1 = amplitude_to_db(np.abs(stft)**2)\n",
        "      freqs = librosa.core.fft_frequencies(n_fft=logspec_settings[\"n_fft\"], sr=44100)\n",
        "      fmin =  min(freqs[(freqs >= f_min)])\n",
        "      i,  = np.where( freqs >= min(freqs[(freqs >= f_min)]))\n",
        "      j,  = np.where( freqs <= max(freqs[(freqs <= f_max)]))\n",
        "      #print(np.shape(stft1),min(i),max(j))\n",
        "      stft1 = stft1[min(i):max(j),]\n",
        "      #print(np.shape(stft1))\n",
        "      result1 = stft1\n",
        "      \n",
        "      ####### reprezentacja 2 - spektro z inną rozdzielczością, naśladujące bulbula ?\n",
        "      \n",
        "      waveform = librosa.resample(np.array(samples_float), 44100, 22050)\n",
        "      stft2 = librosa.stft(\n",
        "          waveform,\n",
        "          n_fft=1024,\n",
        "          win_length=1024,\n",
        "          hop_length=315,\n",
        "          window=logspec_settings[\"window\"]) \n",
        "      stft2 = amplitude_to_db(np.abs(stft2)**2)  \n",
        "      freqs2 = librosa.core.fft_frequencies(n_fft=1024, sr=22050)\n",
        "      i,  = np.where( freqs2 >= min(freqs2[(freqs2 >= 50)]))\n",
        "      j,  = np.where( freqs2 <= max(freqs2[(freqs2 <= 11000)]))\n",
        "      #print(np.shape(stft2),min(i),max(j))\n",
        "      stft2 = stft2[min(i):max(j),]\n",
        "      result2 = stft2\n",
        "\n",
        "      ####### reprezentacja 3 - mel spektrogram\n",
        "      ##  logmelspec_settings = {\"fmin\": 2000,\"fmax\": 11025,\"hop_length\": 32,\"n_fft\": 1024,\n",
        "      ##  \"n_mels\": 128, \"sr\": 22050, \"win_length\": 256, \"window\": \"hann\"} za https://github.com/BirdVox/bv_context_adaptation/blob/master/src/localmodule.py\n",
        "      \n",
        "      logmelspec_settings = get_logmelspec_settings()\n",
        "\n",
        "      # Compute Short-Term Fourier Transform (STFT).\n",
        "      stft = librosa.stft(\n",
        "          np.array(samples_float),\n",
        "          n_fft=logmelspec_settings[\"n_fft\"],\n",
        "          win_length=logmelspec_settings[\"win_length\"],\n",
        "          hop_length=logmelspec_settings[\"hop_length\"],\n",
        "          window=logmelspec_settings[\"window\"])\n",
        "\n",
        "      # Compute squared magnitude coefficients.\n",
        "      abs2_stft = (stft.real*stft.real) + (stft.imag*stft.imag)\n",
        "      abs3_stft = np.abs(stft)**2\n",
        "\n",
        "      # Gather frequency bins according to the Mel scale.\n",
        "      melspec = librosa.feature.melspectrogram(\n",
        "          y=None,\n",
        "          S=abs2_stft,\n",
        "          sr=logmelspec_settings[\"sr\"],\n",
        "          n_fft=logmelspec_settings[\"n_fft\"],\n",
        "          n_mels=logmelspec_settings[\"n_mels\"],\n",
        "          htk=True,\n",
        "          fmin=logmelspec_settings[\"fmin\"],\n",
        "          fmax=logmelspec_settings[\"fmax\"])     \n",
        "      \n",
        "      # Apply pointwise base-10 logarithm.\n",
        "      logmelspec = 0.5 * librosa.amplitude_to_db(melspec, ref=1.0)\n",
        "\n",
        "      # Convert to single floating-point precision.\n",
        "      logmelspec = logmelspec.astype('float32')\n",
        "      result3 = logmelspec\n",
        "      \n",
        "      ## przerzucenie typu danych z audioframe na próbki, czy ok? nie wiem\n",
        "      samples = frame.get_array_of_samples()\n",
        "      samples_float = librosa.util.buf_to_float(samples,n_bytes=2,dtype=np.float32)\n",
        "      \n",
        "      \n",
        "      \n",
        "      #result3 = librosa.feature.melspectrogram(y=samples_float, sr=44100, n_mels= n_mels, fmin = 4000, fmax=9500)\n",
        "            \n",
        "      ####### reprezentacja 4 - mel spektrogram mniej filtrów\n",
        "      result4 = librosa.feature.melspectrogram(y=None, S=abs2_stft, sr=44100, n_mels= 45, fmin = 4000, fmax=9500, hop_length=512, n_fft=512)\n",
        "      result4 = 0.5 * librosa.amplitude_to_db(result4, ref=1.0)\n",
        "      \n",
        "      ####### reprezentacja 5 - multitaper\n",
        "      \n",
        "      #result5 = libtfr.tfr_spec(samples_float, N = 512, step = 30, Np = 512, K =6, tm =6, flock =0.1, tlock = 5)\n",
        "      #plt.imshow(S, cmap=\"jet\")\n",
        "      result5 = libtfr.tfr_spec(audio, N = 512, step = 355, Np = 512, K = 2, tm = 1, flock =0.1, tlock = 10)\n",
        "      freqs, ind = libtfr.fgrid(fs, 512, fpass=(4000,9500)) \n",
        "      result5 = result5[ind,]; # tylko interesujące nas pasmo\n",
        "      \n",
        "      \n",
        "      ####### reprezentacja 6 - preprocessing bulbul/ukybirdet, zaimplementowałam jak umiałam, nie do końca jasno napisane\n",
        "      #audio = librosa.load(samples_float, sr = 44100)[0]\n",
        "      audio = librosa.resample(samples_float, 44100, 22050)\n",
        "      my_stft = librosa.core.stft(audio, n_fft=1024, hop_length=315, window='hann')\n",
        "      D = np.abs(my_stft)**2\n",
        "      my_melspect = librosa.feature.melspectrogram(S=D, n_mels= n_mels, fmin = f_min, fmax= f_max)\n",
        "      my_melspect1 = librosa.power_to_db(my_melspect)\n",
        "      stand_spectrogram = preprocessing.scale(my_melspect1, axis=1)\n",
        "      no_noise_spectrogram = (stand_spectrogram.transpose() - (np.mean(stand_spectrogram,axis=1))).transpose()\n",
        "      ukybirddet_spectrogram = librosa.power_to_db(preprocessing.normalize(my_melspect,axis=1))\n",
        "      \n",
        "      ####### reprezentacja 7 - transformata gabora - taki spektrogram z oknem gaussa?\n",
        "      \n",
        "      samples = frame.get_array_of_samples()\n",
        "      samples_float = librosa.util.buf_to_float(samples,n_bytes=2,dtype=np.float32)\n",
        "      audio = np.array(samples_float)\n",
        "      \n",
        "      logspec_settings = get_spec_settings()\n",
        "      stft3 = librosa.stft(\n",
        "          audio,\n",
        "          n_fft=logspec_settings[\"n_fft\"],\n",
        "          win_length=logspec_settings[\"win_length\"],\n",
        "          hop_length=logspec_settings[\"hop_length\"],\n",
        "          window= scipy.signal.get_window(('gaussian',200) ,logspec_settings[\"n_fft\"]) )\n",
        "      stft3 = amplitude_to_db(np.abs(stft3)**2)\n",
        "      freqs = librosa.core.fft_frequencies(n_fft=logspec_settings[\"n_fft\"], sr=44100)\n",
        "      fmin =  min(freqs[(freqs >= f_min)])\n",
        "      i,  = np.where( freqs >= min(freqs[(freqs >= f_min)]))\n",
        "      j,  = np.where( freqs <= max(freqs[(freqs <= f_max)]))\n",
        "      #print(np.shape(stft3),min(i),max(j))\n",
        "      stft3 = stft3[min(i):max(j),]\n",
        "      #print(np.shape(stft3))\n",
        "  \n",
        "      \n",
        "      ####### reprezentacja 8 def get_pcen_settings(): pcen_settings = { \"fmin\": 2000,\"fmax\": 11025,\"hop_length\": 32,\n",
        "      ## \"n_fft\": 1024,\"n_mels\": 128,\"pcen_delta_denominator\": 10,\"pcen_time_constant_frames\": 40,\"pcen_norm_exponent\": -0.8,\n",
        "      ## \"pcen_power\": 0.25,\"sr\": 22050,\"win_length\": 256,\"window\": \"hann\"} return pcen_settings\n",
        "      ####### reprezentacja 9: falki?\n",
        "      \n",
        "      #librosa.display.specshow(result5,cmap=\"jet\", x_axis='time')      \n",
        "      \n",
        "      if plot_repr == 1:\n",
        "   \n",
        "        plt.subplot(421)\n",
        "        librosa.display.specshow(result1, cmap=\"jet\", sr=44100)\n",
        "        #plt.imshow(result3, cmap=\"jet\")\n",
        "        plt.title('Spect1')\n",
        "        \n",
        "        plt.subplot(422)\n",
        "        librosa.display.specshow(result2, cmap=\"jet\", sr=22050)\n",
        "        #plt.imshow(result3, cmap=\"jet\")\n",
        "        plt.title('Spect2 bulbul')\n",
        "\n",
        "        plt.subplot(423)\n",
        "        librosa.display.specshow(result3,y_axis='mel',fmin = f_min, fmax = f_max, cmap=\"jet\")\n",
        "        #plt.imshow(result3, cmap=\"jet\")\n",
        "        plt.title('Melspect1')\n",
        "        #plt.colorbar(format='%+2.0f dB')\n",
        "        \n",
        "        plt.subplot(424)\n",
        "        librosa.display.specshow(result4,y_axis='mel',fmin = f_min, fmax = f_max, cmap=\"jet\")\n",
        "        plt.title('Melspect2')\n",
        "        #plt.colorbar(format='%+2.0f dB')\n",
        "        \n",
        "        plt.subplot(425)\n",
        "        librosa.display.specshow(result5,cmap=\"jet\", x_axis='time')\n",
        "        #librosa.display.specshow(result5[40:90],x_axis='time')\n",
        "        #plt.imshow(result5, cmap=\"jet\")\n",
        "        plt.title('Multitaper')\n",
        "                \n",
        "        plt.subplot(426)             \n",
        "        librosa.display.specshow(ukybirddet_spectrogram, x_axis='time')\n",
        "        #plt.colorbar()#format='%+2.0f dB')\n",
        "        plt.title('Log-Power spectrogram ukybirddet')\n",
        " \n",
        "        plt.subplot(427)             \n",
        "        librosa.display.specshow(stft3, cmap=\"jet\", sr=44100)\n",
        "        plt.title('Gabor transform?')\n",
        "        plt.show()\n",
        " \n",
        "      if play_sound ==1:\n",
        "        \n",
        "        ipd.Audio(samples_float,rate=44100)\n",
        "      \n"
      ],
      "execution_count": 0,
      "outputs": []
    },
    {
      "metadata": {
        "id": "Jro9eqEuXtQg",
        "colab_type": "code",
        "outputId": "988b3cdb-4a53-46bf-f18d-a1192bc9948a",
        "colab": {
          "base_uri": "https://localhost:8080/",
          "height": 146
        }
      },
      "cell_type": "code",
      "source": [
        "########## Wyszukanie pozytywnych fragmentów - fragmentów zawierający głos, ilość takich ramek\n",
        "import librosa\n",
        "from librosa import display\n",
        "from librosa.core import power_to_db\n",
        "from librosa.core import amplitude_to_db\n",
        "import IPython.display as ipd\n",
        "\n",
        "image_positive = []\n",
        "description_positive = []\n",
        "sum_birds=0\n",
        "has_bird = 1\n",
        "plot_repr = 0          # czy wyrysowywać głosy wszystkie\n",
        "play_sound = 1\n",
        "\n",
        "for i in range(0,math.floor(nr_of_chunks)): #(2300,2600): #math.floor(nr_of_chunks)): \n",
        "  frame_start = i*(chunk_length_ms - chunk_overlap)\n",
        "  frame_end = i*(chunk_length_ms - chunk_overlap)+ chunk_length_ms\n",
        "  frame = myaudio[frame_start : frame_end]\n",
        "  x = range(frame_start,frame_end)\n",
        "  \n",
        "  for j in y_read.index.tolist():\n",
        "    bird_start = int(round(y_read.start[j]*1000))\n",
        "    bird_end = int(round(y_read.end[j]*1000))\n",
        "    y = range(bird_start,bird_end)\n",
        "    \n",
        "    intersect_start = max(x[0], y[0])\n",
        "    intersect_end = min(x[-1], y[-1])+1\n",
        "    range1 = (range(intersect_start, intersect_end))\n",
        "    \n",
        "    if len(range1)> minimal_duration: \n",
        "      sum_birds = sum_birds+1\n",
        "      \n",
        "      #representations(frame)  \n",
        "      #image_positive.append(result1)  # nie musi być tutaj, dopiero po usunięciu duplikatów może?\n",
        "      \n",
        "      description_positive.append([i, frame_start, frame_end, intersect_start, intersect_end, bird_start, bird_end, has_bird, 0, 0])\n",
        "\n",
        "representations(frame)  # jeden przykładowy, ostatni,  by poznać wymiary reprezentacji     \n",
        "print(\"1:\" + str(np.shape(result1)))\n",
        "print(\"2:\" + str(np.shape(result2)))         \n",
        "print(\"3:\" + str(np.shape(result3)))\n",
        "print(\"4:\" + str(np.shape(result4))) \n",
        "print(\"5:\" + str(np.shape(result5)))\n",
        "print(\"6:\" + str(np.shape(ukybirddet_spectrogram)))\n",
        "print(\"7:\" + str(np.shape(stft3)))\n",
        "\n",
        "#ipd.Audio(samples_float,rate=44100)\n",
        "\n"
      ],
      "execution_count": 51,
      "outputs": [
        {
          "output_type": "stream",
          "text": [
            "1:(63, 148)\n",
            "2:(507, 36)\n",
            "3:(60, 111)\n",
            "4:(45, 111)\n",
            "5:(64, 61)\n",
            "6:(60, 36)\n",
            "7:(63, 148)\n"
          ],
          "name": "stdout"
        }
      ]
    },
    {
      "metadata": {
        "id": "BxLDoa2WvCFM",
        "colab_type": "code",
        "colab": {}
      },
      "cell_type": "code",
      "source": [
        "########## Usunięcie duplikatów, zakładamy że nie więcej niż 2 głosy w ramce\n",
        "\n",
        "labels = ['Chunk_nr', 'Chunk_start', 'Chunk_end', 'Call_start_chunk','Call_end_chunk','Call_start','Call_end','Has_bird','2nd_call_start','2nd_call_end']\n",
        "description_pd = pd.DataFrame.from_records(description_positive, columns=labels)   # na lepszy format\n",
        "\n",
        "duplic = description_pd[description_pd.duplicated(subset='Chunk_nr',keep=False)]   # wypisanie duplikujących sie ramek (ale z innym glosem zawartym)\n",
        "duplic_index = duplic.drop_duplicates(subset='Chunk_nr',keep='first')['Chunk_nr'].index.tolist() \n",
        "#print(duplic)\n",
        "#print(duplic_index)\n",
        "\n",
        "df = description_pd.drop_duplicates(subset='Chunk_nr',keep='first')  # usuwamy drugie duplikaty z listy\n",
        "for i in duplic_index:\n",
        "  df['2nd_call_start'][i]= description_pd['Call_start'][i+1]   # dopisujemy drugi głos do ramki\n",
        "  df['2nd_call_end'][i]= description_pd['Call_end'][i+1]\n",
        "\n"
      ],
      "execution_count": 0,
      "outputs": []
    },
    {
      "metadata": {
        "id": "kNQWnfmoBa1y",
        "colab_type": "code",
        "colab": {}
      },
      "cell_type": "code",
      "source": [
        "########## Macierz wyjściowa obrazów i opisów, same ptaki\n",
        "  \n",
        "#description_positive_no_duplic = df   # mamy opisy, czas na reprezentacje:\n",
        "rep1 = []\n",
        "rep2 = []\n",
        "rep3 = []\n",
        "rep4 = []\n",
        "rep5 = []\n",
        "rep6 = []\n",
        "rep7 = []\n",
        "\n",
        "for i in df.index: #range(0,np.shape(description_positive_no_duplic)[0]):\n",
        "    frame = myaudio[df.Chunk_start[i]:df.Chunk_end[i]]\n",
        "    representations(frame)\n",
        "    rep1.append(result1)\n",
        "    rep2.append(result2)\n",
        "    rep3.append(result3)\n",
        "    rep4.append(result4)\n",
        "    rep5.append(result5)\n",
        "    rep6.append(ukybirddet_spectrogram)\n",
        "\n"
      ],
      "execution_count": 0,
      "outputs": []
    },
    {
      "metadata": {
        "id": "uhDQu8N1tbEm",
        "colab_type": "code",
        "colab": {
          "base_uri": "https://localhost:8080/",
          "height": 55
        },
        "outputId": "6c81a08d-558a-438a-a67b-e4a0766956a2"
      },
      "cell_type": "code",
      "source": [
        "########## Indexy pustych ramek\n",
        "#print((description_positive_no_duplic))\n",
        "min_chunks = 50  # jeśli głosów w nagraniu jest mniej niż 50, to i tak dobierzemy 50 pustych fragmentów - by choć wziąć próbkę tych warunków\n",
        "import random\n",
        "random.seed(667)\n",
        "sum_birds2 = np.shape(df)[0]  # bez powtórzeń już\n",
        "\n",
        "if sum_birds2<min_chunks:\n",
        "  sum_birds2 = min_chunks\n",
        "  \n",
        "#print(sum_birds)\n",
        "birds_chunks = df['Chunk_nr'].tolist()\n",
        "range_nonbirds = [i for i in range(0, math.floor(nr_of_chunks)) if i not in birds_chunks]\n",
        "nobirds_chunks = random.sample(range_nonbirds, sum_birds2)  # dobieramy tyle ramek bez ptaków, co mamy z ptakami. Losowo\n",
        "print(nobirds_chunks)"
      ],
      "execution_count": 54,
      "outputs": [
        {
          "output_type": "stream",
          "text": [
            "[845, 4603, 3562, 3415, 2897, 2540, 2982, 1299, 742, 3930, 4101, 2631, 1850, 1340, 4319, 3799, 4586, 3389, 445, 4354, 1122, 460, 662, 727, 3674, 3589, 1265, 4114, 4712, 4582, 4454, 2627, 143, 3813, 1705, 5002, 3401, 4816, 2089, 1218, 4672, 2277, 975, 976, 4532, 186, 2029, 3495, 4030, 4008]\n"
          ],
          "name": "stdout"
        }
      ]
    },
    {
      "metadata": {
        "id": "xiBVYk6bxnHR",
        "colab_type": "code",
        "colab": {
          "base_uri": "https://localhost:8080/",
          "height": 72
        },
        "outputId": "a9f3ae6e-368a-46dc-ef59-ce0066eeedae"
      },
      "cell_type": "code",
      "source": [
        "########## Dodanie macierzy z ramkami bez ptaków\n",
        "description_negative = []\n",
        "\n",
        "\n",
        "for i in nobirds_chunks: \n",
        "  frame_start = i*(chunk_length_ms - chunk_overlap)\n",
        "  frame_end = i*(chunk_length_ms - chunk_overlap)+ chunk_length_ms\n",
        "  frame = myaudio[frame_start : frame_end]\n",
        "  representations(frame)\n",
        "  rep1.append(result1)\n",
        "  rep2.append(result2)\n",
        "  rep3.append(result3)\n",
        "  rep4.append(result4)\n",
        "  rep5.append(result5)\n",
        "  rep6.append(ukybirddet_spectrogram)\n",
        "  rep7.append(stft3)\n",
        "  description_negative.append([i, frame_start, frame_end, 0, 0, 0, 0, 0, 0, 0])\n",
        "        \n",
        "print(np.shape(rep1))  \n",
        "print(np.shape(df)) \n",
        "print(np.shape(description_negative)) "
      ],
      "execution_count": 55,
      "outputs": [
        {
          "output_type": "stream",
          "text": [
            "(58, 63, 148)\n",
            "(8, 10)\n",
            "(50, 10)\n"
          ],
          "name": "stdout"
        }
      ]
    },
    {
      "metadata": {
        "id": "k4TNOErT26QO",
        "colab_type": "code",
        "colab": {}
      },
      "cell_type": "code",
      "source": [
        "########## Złożenie dwóch macierzy i zapis\n",
        "description_negative_pd = pd.DataFrame.from_records(description_negative, columns=labels)\n",
        "\n",
        "#final_dataset = np.concatenate([image_positive_no_duplic, np.array(image_negative)])\n",
        "final_description = pd.concat([df,description_negative_pd])\n",
        "\n",
        "#np.save((source_out + nazwa + 'balanced_dataset' ),final_dataset)\n",
        "np.savez((source_out + nazwa + name_out ), rep1 = rep1, rep2 = rep2, rep3 = rep3, rep4 = rep4, rep5 = rep5, rep6 = rep6, rep7 = rep7, final_description=final_description, nobirds_chunks=nobirds_chunks) #  freqs=freqs, times= times,"
      ],
      "execution_count": 0,
      "outputs": []
    },
    {
      "metadata": {
        "id": "ZUqabQLy7e2c",
        "colab_type": "code",
        "outputId": "a60f67c1-ec59-43f0-b2d2-6e2887e021eb",
        "colab": {
          "base_uri": "https://localhost:8080/",
          "height": 493
        }
      },
      "cell_type": "code",
      "source": [
        "########## Przykład, z ptakiem i bez ptaka\n",
        "for i in (2,np.shape(rep1)[0] - 5 ):  \n",
        "  #print(rep3.iloc[i]) \n",
        "  librosa.display.specshow(rep3[i], cmap=\"jet\", sr=44100)\n",
        "  plt.show()"
      ],
      "execution_count": 62,
      "outputs": [
        {
          "output_type": "display_data",
          "data": {
            "image/png": "[encoded data removed]",
            "text/plain": [
              "<Figure size 432x288 with 1 Axes>"
            ]
          },
          "metadata": {
            "tags": []
          }
        },
        {
          "output_type": "display_data",
          "data": {
            "image/png": "[encoded data removed]",
            "text/plain": [
              "<Figure size 432x288 with 1 Axes>"
            ]
          },
          "metadata": {
            "tags": []
          }
        }
      ]
    },
    {
      "metadata": {
        "id": "HhdLwlrnq3NA",
        "colab_type": "code",
        "colab": {
          "base_uri": "https://localhost:8080/",
          "height": 402
        },
        "outputId": "f01737ac-e965-4c38-f85e-5eb6c9112dd3"
      },
      "cell_type": "code",
      "source": [
        "########## Przykład jak ładować dane\n",
        "nazwa_out = '_7rep'\n",
        "#dane1 = np.load(source_out + nazwa + 'balanced_dataset.npy')\n",
        "dane1 = np.load(source_out + nazwa + nazwa_out + '.npz' )\n",
        "#fre = opisy1['freqs']\n",
        "#print(opisy1.files)\n",
        "#print(fre)\n",
        "\n",
        "r3 = dane1['rep3']\n",
        "des = dane1['final_description']\n",
        "print(dane1.files)\n",
        "print(np.shape(dane1[\"rep3\"]))\n",
        "k = 35 # nr próbki\n",
        "print(des[k])\n",
        "librosa.display.specshow(r3[k], cmap=\"jet\", sr=44100)\n",
        "\n",
        "print(dane1['nobirds_chunks'])"
      ],
      "execution_count": 64,
      "outputs": [
        {
          "output_type": "stream",
          "text": [
            "['rep1', 'rep2', 'rep3', 'rep4', 'rep5', 'rep6', 'rep7', 'final_description', 'nobirds_chunks']\n",
            "(58, 60, 111)\n",
            "[   4114 1439900 1440400       0       0       0       0       0       0\n",
            "       0]\n",
            "[ 845 4603 3562 3415 2897 2540 2982 1299  742 3930 4101 2631 1850 1340\n",
            " 4319 3799 4586 3389  445 4354 1122  460  662  727 3674 3589 1265 4114\n",
            " 4712 4582 4454 2627  143 3813 1705 5002 3401 4816 2089 1218 4672 2277\n",
            "  975  976 4532  186 2029 3495 4030 4008]\n"
          ],
          "name": "stdout"
        },
        {
          "output_type": "display_data",
          "data": {
            "image/png": "[encoded data removed]",
            "text/plain": [
              "<Figure size 432x288 with 1 Axes>"
            ]
          },
          "metadata": {
            "tags": []
          }
        }
      ]
    }
  ]
}